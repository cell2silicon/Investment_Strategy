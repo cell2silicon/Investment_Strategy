{
 "cells": [
  {
   "cell_type": "code",
   "execution_count": 1,
   "id": "e9c338bb",
   "metadata": {},
   "outputs": [],
   "source": [
    "import pandas as pd\n",
    "import csv\n",
    "import os\n",
    "import numpy as np\n",
    "from sklearn.model_selection import train_test_split, GridSearchCV\n",
    "from sklearn.preprocessing import MinMaxScaler\n",
    "from sklearn.linear_model import LogisticRegression\n",
    "from sklearn.feature_selection import RFECV\n",
    "import joblib\n",
    "from config import user_name,password"
   ]
  },
  {
   "cell_type": "code",
   "execution_count": 41,
   "id": "e384a8f2",
   "metadata": {},
   "outputs": [
    {
     "data": {
      "text/html": [
       "<div>\n",
       "<style scoped>\n",
       "    .dataframe tbody tr th:only-of-type {\n",
       "        vertical-align: middle;\n",
       "    }\n",
       "\n",
       "    .dataframe tbody tr th {\n",
       "        vertical-align: top;\n",
       "    }\n",
       "\n",
       "    .dataframe thead th {\n",
       "        text-align: right;\n",
       "    }\n",
       "</style>\n",
       "<table border=\"1\" class=\"dataframe\">\n",
       "  <thead>\n",
       "    <tr style=\"text-align: right;\">\n",
       "      <th></th>\n",
       "      <th>Date</th>\n",
       "      <th>Close</th>\n",
       "    </tr>\n",
       "  </thead>\n",
       "  <tbody>\n",
       "    <tr>\n",
       "      <th>1826</th>\n",
       "      <td>2021-10-08</td>\n",
       "      <td>54199.207031</td>\n",
       "    </tr>\n",
       "    <tr>\n",
       "      <th>1824</th>\n",
       "      <td>2021-10-06</td>\n",
       "      <td>55361.449219</td>\n",
       "    </tr>\n",
       "    <tr>\n",
       "      <th>1823</th>\n",
       "      <td>2021-10-05</td>\n",
       "      <td>51514.812500</td>\n",
       "    </tr>\n",
       "    <tr>\n",
       "      <th>1822</th>\n",
       "      <td>2021-10-04</td>\n",
       "      <td>49112.902344</td>\n",
       "    </tr>\n",
       "    <tr>\n",
       "      <th>1821</th>\n",
       "      <td>2021-10-03</td>\n",
       "      <td>48199.953125</td>\n",
       "    </tr>\n",
       "  </tbody>\n",
       "</table>\n",
       "</div>"
      ],
      "text/plain": [
       "           Date         Close\n",
       "1826 2021-10-08  54199.207031\n",
       "1824 2021-10-06  55361.449219\n",
       "1823 2021-10-05  51514.812500\n",
       "1822 2021-10-04  49112.902344\n",
       "1821 2021-10-03  48199.953125"
      ]
     },
     "execution_count": 41,
     "metadata": {},
     "output_type": "execute_result"
    }
   ],
   "source": [
    "# Creating \n",
    "btc = pd.read_csv(\"data/BTC-USD.csv\")\n",
    "btc = btc.drop(columns=[\"Adj Close\",\"Open\",\"High\",\"Low\",\"Volume\"])\n",
    "btc['Date']= pd.to_datetime(btc['Date'])\n",
    "btc = btc.dropna()\n",
    "btc_data = btc.iloc[::-1]\n",
    "btc_data.head()"
   ]
  },
  {
   "cell_type": "code",
   "execution_count": 3,
   "id": "e59658db",
   "metadata": {},
   "outputs": [],
   "source": [
    "btc_data = btc_data.rename(columns={'Close': 'Close_Btc'})\n",
    "btc_data['Date'] = pd.to_datetime(btc_data['Date'])\n",
    "btc_data['Day_Btc'] = btc_data['Date'].dt.day_name()\n",
    "btc_data = btc_data.sort_values(by=\"Date\")\n",
    "# btc_data"
   ]
  },
  {
   "cell_type": "code",
   "execution_count": 4,
   "id": "c3d1667c",
   "metadata": {},
   "outputs": [],
   "source": [
    "btc_data_clean = btc_data.loc[((btc_data['Day_Btc'] != \"Saturday\") & (btc_data['Day_Btc'] != 'Sunday'))]\n",
    "# btc_data_clean"
   ]
  },
  {
   "cell_type": "code",
   "execution_count": 27,
   "id": "298a3c30",
   "metadata": {},
   "outputs": [
    {
     "data": {
      "text/html": [
       "<div>\n",
       "<style scoped>\n",
       "    .dataframe tbody tr th:only-of-type {\n",
       "        vertical-align: middle;\n",
       "    }\n",
       "\n",
       "    .dataframe tbody tr th {\n",
       "        vertical-align: top;\n",
       "    }\n",
       "\n",
       "    .dataframe thead th {\n",
       "        text-align: right;\n",
       "    }\n",
       "</style>\n",
       "<table border=\"1\" class=\"dataframe\">\n",
       "  <thead>\n",
       "    <tr style=\"text-align: right;\">\n",
       "      <th></th>\n",
       "      <th>Date</th>\n",
       "      <th>Close_Btc</th>\n",
       "      <th>BTC_Change%</th>\n",
       "      <th>BTC_Change%_lag</th>\n",
       "      <th>BTC_dir</th>\n",
       "      <th>BTC_dir_lag</th>\n",
       "    </tr>\n",
       "  </thead>\n",
       "  <tbody>\n",
       "    <tr>\n",
       "      <th>2</th>\n",
       "      <td>2016-10-10</td>\n",
       "      <td>618.994019</td>\n",
       "      <td>NaN</td>\n",
       "      <td>NaN</td>\n",
       "      <td>0.0</td>\n",
       "      <td>NaN</td>\n",
       "    </tr>\n",
       "    <tr>\n",
       "      <th>3</th>\n",
       "      <td>2016-10-11</td>\n",
       "      <td>641.072021</td>\n",
       "      <td>0.035668</td>\n",
       "      <td>NaN</td>\n",
       "      <td>1.0</td>\n",
       "      <td>0.0</td>\n",
       "    </tr>\n",
       "    <tr>\n",
       "      <th>4</th>\n",
       "      <td>2016-10-12</td>\n",
       "      <td>636.192017</td>\n",
       "      <td>-0.007612</td>\n",
       "      <td>0.035668</td>\n",
       "      <td>0.0</td>\n",
       "      <td>1.0</td>\n",
       "    </tr>\n",
       "    <tr>\n",
       "      <th>5</th>\n",
       "      <td>2016-10-13</td>\n",
       "      <td>636.786011</td>\n",
       "      <td>0.000934</td>\n",
       "      <td>-0.007612</td>\n",
       "      <td>1.0</td>\n",
       "      <td>0.0</td>\n",
       "    </tr>\n",
       "    <tr>\n",
       "      <th>6</th>\n",
       "      <td>2016-10-14</td>\n",
       "      <td>640.377991</td>\n",
       "      <td>0.005641</td>\n",
       "      <td>0.000934</td>\n",
       "      <td>1.0</td>\n",
       "      <td>1.0</td>\n",
       "    </tr>\n",
       "  </tbody>\n",
       "</table>\n",
       "</div>"
      ],
      "text/plain": [
       "        Date   Close_Btc  BTC_Change%  BTC_Change%_lag  BTC_dir  BTC_dir_lag\n",
       "2 2016-10-10  618.994019          NaN              NaN      0.0          NaN\n",
       "3 2016-10-11  641.072021     0.035668              NaN      1.0          0.0\n",
       "4 2016-10-12  636.192017    -0.007612         0.035668      0.0          1.0\n",
       "5 2016-10-13  636.786011     0.000934        -0.007612      1.0          0.0\n",
       "6 2016-10-14  640.377991     0.005641         0.000934      1.0          1.0"
      ]
     },
     "execution_count": 27,
     "metadata": {},
     "output_type": "execute_result"
    }
   ],
   "source": [
    "# btc_data_clean = btc_data_clean.drop(columns=[\"Day_Btc\"])\n",
    "btc_data_clean[\"BTC_Change%\"] = btc_data_clean[\"Close_Btc\"].pct_change()\n",
    "btc_data_clean['BTC_Change%_lag'] = btc_data_clean[\"BTC_Change%\"].shift(1)\n",
    "\n",
    "# Construction direction of BITCOIN movement\n",
    "btc_data_clean['BTC_dir'] = (btc_data_clean[\"BTC_Change%\"]>0).astype(float)\n",
    "btc_data_clean['BTC_dir_lag'] = btc_data_clean['BTC_dir'].shift(1)\n",
    "btc_data_clean.head()"
   ]
  },
  {
   "cell_type": "code",
   "execution_count": 6,
   "id": "a6665d5f",
   "metadata": {},
   "outputs": [],
   "source": [
    "eth = pd.read_csv(\"data/ETH-USD.csv\")\n",
    "eth = eth.drop(columns=[\"Adj Close\",\"Open\",\"High\",\"Low\",\"Volume\"])\n",
    "eth['Date']= pd.to_datetime(eth['Date'])\n",
    "eth_data = eth.dropna()\n",
    "eth_data = eth_data.iloc[::-1]\n",
    "# eth_data.head()"
   ]
  },
  {
   "cell_type": "code",
   "execution_count": 7,
   "id": "4c1338cb",
   "metadata": {},
   "outputs": [],
   "source": [
    "eth_data = eth_data.rename(columns={'Close': 'Close_Eth'})\n",
    "eth_data['Date'] = pd.to_datetime(eth_data['Date'])\n",
    "eth_data['Day_Eth'] = eth_data['Date'].dt.day_name()\n",
    "eth_data = eth_data.sort_values(by=\"Date\")\n",
    "# eth_data"
   ]
  },
  {
   "cell_type": "code",
   "execution_count": 8,
   "id": "4fab8a7c",
   "metadata": {},
   "outputs": [],
   "source": [
    "eth_data_clean = eth_data.loc[((eth_data['Day_Eth'] != \"Saturday\") & (eth_data['Day_Eth'] != 'Sunday'))]\n",
    "# eth_data_clean"
   ]
  },
  {
   "cell_type": "code",
   "execution_count": 9,
   "id": "af953b61",
   "metadata": {},
   "outputs": [],
   "source": [
    "eth_data_clean = eth_data_clean.drop(columns=[\"Day_Eth\"])\n",
    "eth_data_clean[\"ETH_Change%\"] = eth_data_clean[\"Close_Eth\"].pct_change()\n",
    "eth_data_clean['ETH_Change%_lag'] = eth_data_clean[\"ETH_Change%\"].shift(1)\n",
    "\n",
    "# Construction direction of Ethereum movement\n",
    "eth_data_clean['ETH_dir'] = (eth_data_clean[\"ETH_Change%\"]>0).astype(float)\n",
    "eth_data_clean['ETH_dir_lag'] = eth_data_clean['ETH_dir'].shift(1)\n",
    "# eth_data_clean.head()"
   ]
  },
  {
   "cell_type": "code",
   "execution_count": 10,
   "id": "57c822fc",
   "metadata": {},
   "outputs": [],
   "source": [
    "gold = pd.read_csv(\"data/Gold-Futures.csv\")\n",
    "gold = gold.drop(columns=[\"Vol.\",\"Change %\",\"Open\",\"High\",\"Low\"])\n",
    "gold['Date']= pd.to_datetime(gold['Date'])\n",
    "gold_data = gold.dropna()\n",
    "# gold_data.head()"
   ]
  },
  {
   "cell_type": "code",
   "execution_count": 11,
   "id": "c8d56189",
   "metadata": {},
   "outputs": [],
   "source": [
    "gold_data = gold_data.rename(columns={'Price': 'Price_Gold'})\n",
    "gold_data['Date'] = pd.to_datetime(gold_data['Date'])\n",
    "gold_data['Day_Gold'] = gold_data['Date'].dt.day_name()\n",
    "gold_data = gold_data.sort_values(by=\"Date\")\n",
    "gold_data = gold_data.reset_index(drop=True)\n",
    "gold_data['Price_Gold'] = gold_data.Price_Gold.str.replace(',', '').astype(float)\n",
    "# gold_data"
   ]
  },
  {
   "cell_type": "code",
   "execution_count": 12,
   "id": "9e922e86",
   "metadata": {},
   "outputs": [],
   "source": [
    "gold_data_clean = gold_data.loc[((gold_data['Day_Gold'] != \"Saturday\") & (gold_data['Day_Gold'] != 'Sunday'))]\n",
    "# gold_data_clean"
   ]
  },
  {
   "cell_type": "code",
   "execution_count": 13,
   "id": "1949efff",
   "metadata": {},
   "outputs": [
    {
     "data": {
      "text/html": [
       "<div>\n",
       "<style scoped>\n",
       "    .dataframe tbody tr th:only-of-type {\n",
       "        vertical-align: middle;\n",
       "    }\n",
       "\n",
       "    .dataframe tbody tr th {\n",
       "        vertical-align: top;\n",
       "    }\n",
       "\n",
       "    .dataframe thead th {\n",
       "        text-align: right;\n",
       "    }\n",
       "</style>\n",
       "<table border=\"1\" class=\"dataframe\">\n",
       "  <thead>\n",
       "    <tr style=\"text-align: right;\">\n",
       "      <th></th>\n",
       "      <th>Date</th>\n",
       "      <th>Price_Gold</th>\n",
       "      <th>Gold_Change%</th>\n",
       "      <th>Gold_Change%_lag</th>\n",
       "      <th>Gold_Dir</th>\n",
       "      <th>Gold_Dir_Lag</th>\n",
       "    </tr>\n",
       "  </thead>\n",
       "  <tbody>\n",
       "    <tr>\n",
       "      <th>0</th>\n",
       "      <td>2016-09-08</td>\n",
       "      <td>1400.2</td>\n",
       "      <td>NaN</td>\n",
       "      <td>NaN</td>\n",
       "      <td>0.0</td>\n",
       "      <td>NaN</td>\n",
       "    </tr>\n",
       "    <tr>\n",
       "      <th>1</th>\n",
       "      <td>2016-09-09</td>\n",
       "      <td>1393.1</td>\n",
       "      <td>-0.005071</td>\n",
       "      <td>NaN</td>\n",
       "      <td>0.0</td>\n",
       "      <td>0.0</td>\n",
       "    </tr>\n",
       "    <tr>\n",
       "      <th>2</th>\n",
       "      <td>2016-09-12</td>\n",
       "      <td>1384.4</td>\n",
       "      <td>-0.006245</td>\n",
       "      <td>-0.005071</td>\n",
       "      <td>0.0</td>\n",
       "      <td>0.0</td>\n",
       "    </tr>\n",
       "    <tr>\n",
       "      <th>3</th>\n",
       "      <td>2016-09-13</td>\n",
       "      <td>1380.8</td>\n",
       "      <td>-0.002600</td>\n",
       "      <td>-0.006245</td>\n",
       "      <td>0.0</td>\n",
       "      <td>0.0</td>\n",
       "    </tr>\n",
       "    <tr>\n",
       "      <th>4</th>\n",
       "      <td>2016-09-14</td>\n",
       "      <td>1383.3</td>\n",
       "      <td>0.001811</td>\n",
       "      <td>-0.002600</td>\n",
       "      <td>1.0</td>\n",
       "      <td>0.0</td>\n",
       "    </tr>\n",
       "  </tbody>\n",
       "</table>\n",
       "</div>"
      ],
      "text/plain": [
       "        Date  Price_Gold  Gold_Change%  Gold_Change%_lag  Gold_Dir  \\\n",
       "0 2016-09-08      1400.2           NaN               NaN       0.0   \n",
       "1 2016-09-09      1393.1     -0.005071               NaN       0.0   \n",
       "2 2016-09-12      1384.4     -0.006245         -0.005071       0.0   \n",
       "3 2016-09-13      1380.8     -0.002600         -0.006245       0.0   \n",
       "4 2016-09-14      1383.3      0.001811         -0.002600       1.0   \n",
       "\n",
       "   Gold_Dir_Lag  \n",
       "0           NaN  \n",
       "1           0.0  \n",
       "2           0.0  \n",
       "3           0.0  \n",
       "4           0.0  "
      ]
     },
     "execution_count": 13,
     "metadata": {},
     "output_type": "execute_result"
    }
   ],
   "source": [
    "gold_data_clean = gold_data_clean.drop(columns=[\"Day_Gold\"])\n",
    "gold_data_clean[\"Gold_Change%\"] = gold_data_clean[\"Price_Gold\"].pct_change()\n",
    "gold_data_clean['Gold_Change%_lag'] = gold_data_clean[\"Gold_Change%\"].shift(1)\n",
    "\n",
    "# Construction direction of GOLD movement\n",
    "gold_data_clean['Gold_Dir'] = (gold_data_clean[\"Gold_Change%\"]>0).astype(float)\n",
    "gold_data_clean['Gold_Dir_Lag'] = gold_data_clean['Gold_Dir'].shift(1)\n",
    "gold_data_clean.head()"
   ]
  },
  {
   "cell_type": "code",
   "execution_count": 14,
   "id": "bf541dad",
   "metadata": {},
   "outputs": [],
   "source": [
    "snp = pd.read_csv(\"data/S&P-500.csv\")\n",
    "snp = snp.drop(columns=[\"Vol.\",\"Change %\",\"Open\",\"High\",\"Low\"])\n",
    "snp['Date']= pd.to_datetime(snp['Date'])\n",
    "snp_data = snp.dropna()\n",
    "# snp_data.head()"
   ]
  },
  {
   "cell_type": "code",
   "execution_count": 15,
   "id": "c8ddf258",
   "metadata": {},
   "outputs": [],
   "source": [
    "snp_data = snp_data.rename(columns={'Price': 'Price_Snp'})\n",
    "snp_data['Date'] = pd.to_datetime(snp_data['Date'])\n",
    "snp_data['Day_Snp'] = snp_data['Date'].dt.day_name()\n",
    "snp_data = snp_data.sort_values(by=\"Date\")\n",
    "snp_data = snp_data.reset_index(drop=True)\n",
    "snp_data['Price_Snp'] = snp_data.Price_Snp.str.replace(',', '').astype(float)\n",
    "# snp_data"
   ]
  },
  {
   "cell_type": "code",
   "execution_count": 16,
   "id": "84d3ddd8",
   "metadata": {},
   "outputs": [],
   "source": [
    "snp_data_clean = snp_data.loc[((snp_data['Day_Snp'] != \"Saturday\") & (snp_data['Day_Snp'] != 'Sunday'))]\n",
    "# snp_data_clean"
   ]
  },
  {
   "cell_type": "code",
   "execution_count": 17,
   "id": "f16fb73b",
   "metadata": {},
   "outputs": [],
   "source": [
    "snp_data_clean = snp_data_clean.drop(columns=[\"Day_Snp\"])\n",
    "snp_data_clean[\"Snp_Change%\"] = snp_data_clean[\"Price_Snp\"].pct_change()\n",
    "snp_data_clean['Snp_Change%_lag'] = snp_data_clean[\"Snp_Change%\"].shift(1)\n",
    "\n",
    "# Construction direction of S&P movement\n",
    "snp_data_clean['Snp_dir'] = (snp_data_clean[\"Snp_Change%\"]>0).astype(float)\n",
    "snp_data_clean['Snp_dir_lag'] = snp_data_clean['Snp_dir'].shift(1)\n",
    "# snp_data_clean"
   ]
  },
  {
   "cell_type": "code",
   "execution_count": 18,
   "id": "1484f3cb",
   "metadata": {},
   "outputs": [],
   "source": [
    "usbond = pd.read_csv(\"data/US-10-Year-Bond.csv\")\n",
    "usbond = usbond.drop(columns=[\"Change %\",\"Open\",\"High\",\"Low\"])\n",
    "usbond['Date']= pd.to_datetime(usbond['Date'])\n",
    "usbond_data = usbond.dropna()\n",
    "# usbond_data.head()"
   ]
  },
  {
   "cell_type": "code",
   "execution_count": 19,
   "id": "8ff7a7fb",
   "metadata": {},
   "outputs": [],
   "source": [
    "usbond_data = usbond_data.rename(columns={'Price': 'Price_USB'})\n",
    "usbond_data['Date'] = pd.to_datetime(usbond_data['Date'])\n",
    "usbond_data['Day_USB'] = usbond_data['Date'].dt.day_name()\n",
    "usbond_data = usbond_data.sort_values(by=\"Date\")\n",
    "usbond_data = usbond_data.reset_index(drop=True)\n",
    "# usbond_data"
   ]
  },
  {
   "cell_type": "code",
   "execution_count": 20,
   "id": "ce2fa522",
   "metadata": {},
   "outputs": [],
   "source": [
    "usbond_data_clean = usbond_data.loc[((usbond_data['Day_USB'] != \"Saturday\") & (usbond_data['Day_USB'] != 'Sunday'))]\n",
    "# usbond_data_clean"
   ]
  },
  {
   "cell_type": "code",
   "execution_count": 21,
   "id": "5d31a5a5",
   "metadata": {},
   "outputs": [],
   "source": [
    "usbond_data_clean = usbond_data_clean.drop(columns=[\"Day_USB\"])\n",
    "usbond_data_clean[\"USB_Change%\"] = usbond_data_clean[\"Price_USB\"].pct_change()\n",
    "usbond_data_clean['USB_Change%_lag'] = usbond_data_clean[\"USB_Change%\"].shift(1)\n",
    "\n",
    "# Construction direction of US BOND movement\n",
    "usbond_data_clean['USB_dir'] = (usbond_data_clean[\"USB_Change%\"]>0).astype(float)\n",
    "usbond_data_clean['USB_dir_lag'] = usbond_data_clean['USB_dir'].shift(1)\n",
    "# usbond_data_clean"
   ]
  },
  {
   "cell_type": "code",
   "execution_count": 30,
   "id": "97d6dbac",
   "metadata": {},
   "outputs": [
    {
     "data": {
      "text/html": [
       "<div>\n",
       "<style scoped>\n",
       "    .dataframe tbody tr th:only-of-type {\n",
       "        vertical-align: middle;\n",
       "    }\n",
       "\n",
       "    .dataframe tbody tr th {\n",
       "        vertical-align: top;\n",
       "    }\n",
       "\n",
       "    .dataframe thead th {\n",
       "        text-align: right;\n",
       "    }\n",
       "</style>\n",
       "<table border=\"1\" class=\"dataframe\">\n",
       "  <thead>\n",
       "    <tr style=\"text-align: right;\">\n",
       "      <th></th>\n",
       "      <th>Date</th>\n",
       "      <th>BTC_dir</th>\n",
       "      <th>BTC_dir_lag</th>\n",
       "      <th>BTC_Change%_lag</th>\n",
       "      <th>USB_Change%_lag</th>\n",
       "      <th>Snp_Change%_lag</th>\n",
       "      <th>ETH_Change%_lag</th>\n",
       "    </tr>\n",
       "  </thead>\n",
       "  <tbody>\n",
       "    <tr>\n",
       "      <th>0</th>\n",
       "      <td>2016-10-12</td>\n",
       "      <td>0.0</td>\n",
       "      <td>1.0</td>\n",
       "      <td>0.035668</td>\n",
       "      <td>0.001133</td>\n",
       "      <td>-0.012447</td>\n",
       "      <td>0.002569</td>\n",
       "    </tr>\n",
       "    <tr>\n",
       "      <th>1</th>\n",
       "      <td>2016-10-13</td>\n",
       "      <td>1.0</td>\n",
       "      <td>0.0</td>\n",
       "      <td>-0.007612</td>\n",
       "      <td>0.002264</td>\n",
       "      <td>0.001147</td>\n",
       "      <td>0.012541</td>\n",
       "    </tr>\n",
       "    <tr>\n",
       "      <th>2</th>\n",
       "      <td>2016-10-14</td>\n",
       "      <td>1.0</td>\n",
       "      <td>1.0</td>\n",
       "      <td>0.000934</td>\n",
       "      <td>-0.014116</td>\n",
       "      <td>-0.003099</td>\n",
       "      <td>0.002472</td>\n",
       "    </tr>\n",
       "    <tr>\n",
       "      <th>3</th>\n",
       "      <td>2016-10-17</td>\n",
       "      <td>0.0</td>\n",
       "      <td>1.0</td>\n",
       "      <td>0.005641</td>\n",
       "      <td>0.033792</td>\n",
       "      <td>0.000202</td>\n",
       "      <td>-0.002073</td>\n",
       "    </tr>\n",
       "    <tr>\n",
       "      <th>4</th>\n",
       "      <td>2016-10-18</td>\n",
       "      <td>0.0</td>\n",
       "      <td>0.0</td>\n",
       "      <td>-0.001850</td>\n",
       "      <td>-0.020499</td>\n",
       "      <td>-0.003038</td>\n",
       "      <td>0.005595</td>\n",
       "    </tr>\n",
       "  </tbody>\n",
       "</table>\n",
       "</div>"
      ],
      "text/plain": [
       "        Date  BTC_dir  BTC_dir_lag  BTC_Change%_lag  USB_Change%_lag  \\\n",
       "0 2016-10-12      0.0          1.0         0.035668         0.001133   \n",
       "1 2016-10-13      1.0          0.0        -0.007612         0.002264   \n",
       "2 2016-10-14      1.0          1.0         0.000934        -0.014116   \n",
       "3 2016-10-17      0.0          1.0         0.005641         0.033792   \n",
       "4 2016-10-18      0.0          0.0        -0.001850        -0.020499   \n",
       "\n",
       "   Snp_Change%_lag  ETH_Change%_lag  \n",
       "0        -0.012447         0.002569  \n",
       "1         0.001147         0.012541  \n",
       "2        -0.003099         0.002472  \n",
       "3         0.000202        -0.002073  \n",
       "4        -0.003038         0.005595  "
      ]
     },
     "execution_count": 30,
     "metadata": {},
     "output_type": "execute_result"
    }
   ],
   "source": [
    "bit_1 = btc_data_clean.merge(eth_data_clean, how='left', on='Date')\n",
    "bit_2 = bit_1.merge(snp_data_clean, how='left', on='Date')\n",
    "bit_3 = bit_2.merge(usbond_data_clean, how='left', on='Date')\n",
    "bit_3 = bit_3.dropna()\n",
    "bit_3 = bit_3.reset_index(drop=True)\n",
    "\n",
    "bit_3 = bit_3[['Date', 'BTC_dir', 'BTC_dir_lag', 'BTC_Change%_lag', 'USB_Change%_lag',  'Snp_Change%_lag', 'ETH_Change%_lag']]\n",
    "bit_3.head()"
   ]
  },
  {
   "cell_type": "code",
   "execution_count": 25,
   "id": "649bb98d",
   "metadata": {},
   "outputs": [
    {
     "data": {
      "text/html": [
       "<div>\n",
       "<style scoped>\n",
       "    .dataframe tbody tr th:only-of-type {\n",
       "        vertical-align: middle;\n",
       "    }\n",
       "\n",
       "    .dataframe tbody tr th {\n",
       "        vertical-align: top;\n",
       "    }\n",
       "\n",
       "    .dataframe thead th {\n",
       "        text-align: right;\n",
       "    }\n",
       "</style>\n",
       "<table border=\"1\" class=\"dataframe\">\n",
       "  <thead>\n",
       "    <tr style=\"text-align: right;\">\n",
       "      <th></th>\n",
       "      <th>Date</th>\n",
       "      <th>Gold_Dir</th>\n",
       "      <th>Gold_Dir_Lag</th>\n",
       "      <th>Gold_Change%_lag</th>\n",
       "      <th>USB_Change%_lag</th>\n",
       "      <th>Snp_Change%_lag</th>\n",
       "      <th>ETH_Change%_lag</th>\n",
       "    </tr>\n",
       "  </thead>\n",
       "  <tbody>\n",
       "    <tr>\n",
       "      <th>1245</th>\n",
       "      <td>2021-09-30</td>\n",
       "      <td>1.0</td>\n",
       "      <td>0.0</td>\n",
       "      <td>-0.008403</td>\n",
       "      <td>-0.014230</td>\n",
       "      <td>0.001569</td>\n",
       "      <td>0.016331</td>\n",
       "    </tr>\n",
       "    <tr>\n",
       "      <th>1246</th>\n",
       "      <td>2021-10-01</td>\n",
       "      <td>1.0</td>\n",
       "      <td>1.0</td>\n",
       "      <td>0.019792</td>\n",
       "      <td>-0.020997</td>\n",
       "      <td>-0.011910</td>\n",
       "      <td>0.052060</td>\n",
       "    </tr>\n",
       "    <tr>\n",
       "      <th>1247</th>\n",
       "      <td>2021-10-04</td>\n",
       "      <td>1.0</td>\n",
       "      <td>1.0</td>\n",
       "      <td>0.000797</td>\n",
       "      <td>-0.018097</td>\n",
       "      <td>0.011494</td>\n",
       "      <td>0.101889</td>\n",
       "    </tr>\n",
       "    <tr>\n",
       "      <th>1248</th>\n",
       "      <td>2021-10-05</td>\n",
       "      <td>0.0</td>\n",
       "      <td>1.0</td>\n",
       "      <td>0.005232</td>\n",
       "      <td>0.010922</td>\n",
       "      <td>-0.012988</td>\n",
       "      <td>0.021942</td>\n",
       "    </tr>\n",
       "    <tr>\n",
       "      <th>1249</th>\n",
       "      <td>2021-10-06</td>\n",
       "      <td>1.0</td>\n",
       "      <td>0.0</td>\n",
       "      <td>-0.003790</td>\n",
       "      <td>0.031735</td>\n",
       "      <td>0.010524</td>\n",
       "      <td>0.040954</td>\n",
       "    </tr>\n",
       "  </tbody>\n",
       "</table>\n",
       "</div>"
      ],
      "text/plain": [
       "           Date  Gold_Dir  Gold_Dir_Lag  Gold_Change%_lag  USB_Change%_lag  \\\n",
       "1245 2021-09-30       1.0           0.0         -0.008403        -0.014230   \n",
       "1246 2021-10-01       1.0           1.0          0.019792        -0.020997   \n",
       "1247 2021-10-04       1.0           1.0          0.000797        -0.018097   \n",
       "1248 2021-10-05       0.0           1.0          0.005232         0.010922   \n",
       "1249 2021-10-06       1.0           0.0         -0.003790         0.031735   \n",
       "\n",
       "      Snp_Change%_lag  ETH_Change%_lag  \n",
       "1245         0.001569         0.016331  \n",
       "1246        -0.011910         0.052060  \n",
       "1247         0.011494         0.101889  \n",
       "1248        -0.012988         0.021942  \n",
       "1249         0.010524         0.040954  "
      ]
     },
     "execution_count": 25,
     "metadata": {},
     "output_type": "execute_result"
    }
   ],
   "source": [
    "gold_1 = gold_data_clean.merge(usbond_data_clean, how='left', on='Date')\n",
    "gold_2 = gold_1.merge(snp_data_clean, how='left', on='Date')\n",
    "gold_3 = gold_2.merge(eth_data_clean, how='left', on='Date')\n",
    "gold_3 = gold_3.dropna()\n",
    "gold_3 = gold_3.reset_index(drop=True)\n",
    "\n",
    "gold_3 = gold_3[['Date', 'Gold_Dir', 'Gold_Dir_Lag', 'Gold_Change%_lag', 'USB_Change%_lag',  'Snp_Change%_lag', 'ETH_Change%_lag']]\n",
    "gold_3.tail()"
   ]
  },
  {
   "cell_type": "code",
   "execution_count": 34,
   "id": "010f5262",
   "metadata": {},
   "outputs": [],
   "source": [
    "train_bit = bit_3.iloc[:-100, :]\n",
    "test_bit = bit_3.iloc[-100:, :]\n",
    "# train_bit.tail(), test_bit.head()\n",
    "\n",
    "x_train_bit = train_bit[['BTC_dir_lag', 'BTC_Change%_lag',  'USB_Change%_lag',  'Snp_Change%_lag', 'ETH_Change%_lag']]\n",
    "y_train_bit = train_bit['BTC_dir']\n",
    "x_test_bit = test_bit[['BTC_dir_lag', 'BTC_Change%_lag',  'USB_Change%_lag',  'Snp_Change%_lag', 'ETH_Change%_lag']]\n",
    "y_test_bit = test_bit['BTC_dir']\n"
   ]
  },
  {
   "cell_type": "code",
   "execution_count": 166,
   "id": "c53c5ffa",
   "metadata": {},
   "outputs": [],
   "source": [
    "train_gold = gold_3.iloc[:-100, :]\n",
    "test_gold = gold_3.iloc[-100:, :]\n",
    "train_gold.tail(), test_gold.head()\n",
    "\n",
    "x_train_gold = train_gold[['Gold_Dir_Lag', 'Gold_Change%_lag',  'USB_Change%_lag',  'Snp_Change%_lag', 'ETH_Change%_lag']]\n",
    "y_train_gold = train_gold['Gold_Dir']\n",
    "x_test_gold = test_gold[['Gold_Dir_Lag', 'Gold_Change%_lag',  'USB_Change%_lag',  'Snp_Change%_lag', 'ETH_Change%_lag']]\n",
    "y_test_gold = test_gold['Gold_Dir']\n"
   ]
  },
  {
   "cell_type": "code",
   "execution_count": 192,
   "id": "d7c10358",
   "metadata": {},
   "outputs": [],
   "source": [
    "classifier = LogisticRegression(max_iter=1000)\n",
    "classifier = classifier.fit(x_train_gold, y_train_gold)"
   ]
  },
  {
   "cell_type": "code",
   "execution_count": 193,
   "id": "a28b6efa",
   "metadata": {},
   "outputs": [
    {
     "data": {
      "text/plain": [
       "RFECV(cv=5, estimator=LogisticRegression(max_iter=1000))"
      ]
     },
     "execution_count": 193,
     "metadata": {},
     "output_type": "execute_result"
    }
   ],
   "source": [
    "features_gold = x_train_gold.columns.tolist()\n",
    "selector = RFECV(estimator=classifier, cv=5, step=1)\n",
    "selector.fit(x_train_gold, y_train_gold)"
   ]
  },
  {
   "cell_type": "code",
   "execution_count": 195,
   "id": "ab264fd3",
   "metadata": {},
   "outputs": [
    {
     "data": {
      "text/html": [
       "<div>\n",
       "<style scoped>\n",
       "    .dataframe tbody tr th:only-of-type {\n",
       "        vertical-align: middle;\n",
       "    }\n",
       "\n",
       "    .dataframe tbody tr th {\n",
       "        vertical-align: top;\n",
       "    }\n",
       "\n",
       "    .dataframe thead th {\n",
       "        text-align: right;\n",
       "    }\n",
       "</style>\n",
       "<table border=\"1\" class=\"dataframe\">\n",
       "  <thead>\n",
       "    <tr style=\"text-align: right;\">\n",
       "      <th></th>\n",
       "      <th>Ranking</th>\n",
       "    </tr>\n",
       "    <tr>\n",
       "      <th>Feature</th>\n",
       "      <th></th>\n",
       "    </tr>\n",
       "  </thead>\n",
       "  <tbody>\n",
       "    <tr>\n",
       "      <th>ETH_Change%_lag</th>\n",
       "      <td>1</td>\n",
       "    </tr>\n",
       "    <tr>\n",
       "      <th>USB_Change%_lag</th>\n",
       "      <td>1</td>\n",
       "    </tr>\n",
       "    <tr>\n",
       "      <th>Gold_Dir_Lag</th>\n",
       "      <td>2</td>\n",
       "    </tr>\n",
       "    <tr>\n",
       "      <th>Gold_Change%_lag</th>\n",
       "      <td>3</td>\n",
       "    </tr>\n",
       "    <tr>\n",
       "      <th>Snp_Change%_lag</th>\n",
       "      <td>4</td>\n",
       "    </tr>\n",
       "  </tbody>\n",
       "</table>\n",
       "</div>"
      ],
      "text/plain": [
       "                  Ranking\n",
       "Feature                  \n",
       "ETH_Change%_lag         1\n",
       "USB_Change%_lag         1\n",
       "Gold_Dir_Lag            2\n",
       "Gold_Change%_lag        3\n",
       "Snp_Change%_lag         4"
      ]
     },
     "execution_count": 195,
     "metadata": {},
     "output_type": "execute_result"
    }
   ],
   "source": [
    "selected_features_gold = sorted(zip(selector.ranking_, features_gold))\n",
    "features_rank_gold = pd.DataFrame(selected_features_gold, columns=['Ranking', 'Feature'])\n",
    "features_rank_gold = features_rank_gold.set_index('Feature')\n",
    "features_rank_gold"
   ]
  },
  {
   "cell_type": "code",
   "execution_count": 196,
   "id": "70ddae86",
   "metadata": {},
   "outputs": [],
   "source": [
    "ranked_features_gold = []\n",
    "for s in selected_features_gold:\n",
    "    if s[0] < 3:\n",
    "        ranked_features_gold.append(s[1])"
   ]
  },
  {
   "cell_type": "code",
   "execution_count": 198,
   "id": "839088c6",
   "metadata": {},
   "outputs": [],
   "source": [
    "x_train_gold_sel = x_train_gold[ranked_features_gold]\n",
    "x_test_gold_sel = x_test_gold[ranked_features_gold]"
   ]
  },
  {
   "cell_type": "code",
   "execution_count": 257,
   "id": "0bf4b1ad",
   "metadata": {},
   "outputs": [],
   "source": [
    "from sklearn.ensemble import RandomForestClassifier\n",
    "rf = RandomForestClassifier(random_state=42)\n",
    "param_grid = {'max_features':['auto', 'sqrt', 'log2'],\n",
    "           'class_weight':['balanced', 'balanced_subsample'],\n",
    "             'criterion':['gini', 'entropy'],\n",
    "             'min_samples_leaf': [1,5,15,25],\n",
    "             'n_estimators': [10,100,500,1000,2000,3000]}\n",
    "\n",
    "grid = GridSearchCV(rf, param_grid, n_jobs=-1)"
   ]
  },
  {
   "cell_type": "code",
   "execution_count": 258,
   "id": "3c45142a",
   "metadata": {},
   "outputs": [
    {
     "data": {
      "text/plain": [
       "GridSearchCV(estimator=RandomForestClassifier(random_state=42), n_jobs=-1,\n",
       "             param_grid={'class_weight': ['balanced', 'balanced_subsample'],\n",
       "                         'criterion': ['gini', 'entropy'],\n",
       "                         'max_features': ['auto', 'sqrt', 'log2'],\n",
       "                         'min_samples_leaf': [1, 5, 15, 25],\n",
       "                         'n_estimators': [10, 100, 500, 1000, 2000, 3000]})"
      ]
     },
     "execution_count": 258,
     "metadata": {},
     "output_type": "execute_result"
    }
   ],
   "source": [
    "grid.fit(x_train_gold, y_train_gold)"
   ]
  },
  {
   "cell_type": "code",
   "execution_count": 259,
   "id": "ffd711ac",
   "metadata": {},
   "outputs": [],
   "source": [
    "max_features = grid.best_params_['max_features']\n",
    "class_weight = grid.best_params_['class_weight']\n",
    "criterion = grid.best_params_['criterion']\n",
    "min_samples_leaf = grid.best_params_['min_samples_leaf']\n",
    "# min_samples_split = grid.best_params_['min_samples_split']\n",
    "n_estimators = grid.best_params_['n_estimators']"
   ]
  },
  {
   "cell_type": "code",
   "execution_count": 260,
   "id": "09a4037f",
   "metadata": {},
   "outputs": [
    {
     "name": "stdout",
     "output_type": "stream",
     "text": [
      "Training Data Score: 50.0 %\n",
      "Testting Data Score: 50.0 %\n"
     ]
    }
   ],
   "source": [
    "tuned_model_gold = RandomForestClassifier(n_estimators=n_estimators, max_features=max_features, class_weight=class_weight, criterion=criterion, \n",
    "                                          min_samples_leaf=min_samples_leaf, random_state=42)\n",
    "tuned_model_gold.fit(x_train_gold, y_train_gold)\n",
    "rf_training_score = round(tuned_model_gold.score(x_train_gold, y_train_gold)*100,3)\n",
    "rf_test_score = round(tuned_model_gold.score(x_test_gold, y_test_gold)*100,3)\n",
    "\n",
    "print(f\"Training Data Score: {rf_test_score} %\")\n",
    "print(f\"Testting Data Score: {rf_test_score} %\")"
   ]
  },
  {
   "cell_type": "code",
   "execution_count": null,
   "id": "101464ba",
   "metadata": {},
   "outputs": [],
   "source": []
  }
 ],
 "metadata": {
  "kernelspec": {
   "display_name": "Python [conda env:PythonAdv] *",
   "language": "python",
   "name": "conda-env-PythonAdv-py"
  },
  "language_info": {
   "codemirror_mode": {
    "name": "ipython",
    "version": 3
   },
   "file_extension": ".py",
   "mimetype": "text/x-python",
   "name": "python",
   "nbconvert_exporter": "python",
   "pygments_lexer": "ipython3",
   "version": "3.6.13"
  }
 },
 "nbformat": 4,
 "nbformat_minor": 5
}
