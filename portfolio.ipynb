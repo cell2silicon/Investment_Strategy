{
 "cells": [
  {
   "cell_type": "code",
   "execution_count": 60,
   "id": "c572b640",
   "metadata": {},
   "outputs": [],
   "source": [
    "# Import Splinter, BeautifulSoup and Pandas\n",
    "from splinter import Browser\n",
    "from bs4 import BeautifulSoup as soup\n",
    "import pandas as pd \n",
    "from webdriver_manager.chrome import ChromeDriverManager\n",
    "import time"
   ]
  },
  {
   "cell_type": "code",
   "execution_count": 61,
   "id": "3424eaf6",
   "metadata": {},
   "outputs": [
    {
     "name": "stderr",
     "output_type": "stream",
     "text": [
      "\n",
      "\n",
      "====== WebDriver manager ======\n",
      "Current google-chrome version is 94.0.4606\n",
      "Get LATEST driver version for 94.0.4606\n",
      "Get LATEST driver version for 94.0.4606\n",
      "Trying to download new driver from https://chromedriver.storage.googleapis.com/94.0.4606.61/chromedriver_mac64.zip\n",
      "Driver has been saved in cache [/Users/jsb/.wdm/drivers/chromedriver/mac64/94.0.4606.61]\n"
     ]
    }
   ],
   "source": [
    "# Set up Splinter\n",
    "executable_path = {\"executable_path\" : ChromeDriverManager().install()} \n",
    "browser = Browser(\"chrome\", **executable_path, headless=False) \n",
    "url = \"https://www.investing.com\" \n",
    "browser.visit(url)"
   ]
  },
  {
   "cell_type": "code",
   "execution_count": 62,
   "id": "c8f74c7a",
   "metadata": {},
   "outputs": [
    {
     "name": "stdout",
     "output_type": "stream",
     "text": [
      "S&P 500 \n",
      "4,471.37+0.75%\n",
      "\n"
     ]
    }
   ],
   "source": [
    "html = browser.html\n",
    "index_soup = soup(html,\"html.parser\")\n",
    "index_snp = index_soup.find_all(\"div\", class_=\"quotesBarContentCellTop\")[0].get_text()\n",
    "price_snp = index_soup.find_all(\"div\", class_=\"quotesBarContentCellBottom\")[0].get_text()\n",
    "print(index_snp,price_snp)"
   ]
  },
  {
   "cell_type": "code",
   "execution_count": 63,
   "id": "023e4f14",
   "metadata": {},
   "outputs": [
    {
     "name": "stdout",
     "output_type": "stream",
     "text": [
      "Gold \n",
      "1,767.15-0.08%\n",
      "\n"
     ]
    }
   ],
   "source": [
    "index_gold = index_soup.find_all(\"div\", class_=\"quotesBarContentCellTop\")[2].get_text()\n",
    "price_gold = index_soup.find_all(\"div\", class_=\"quotesBarContentCellBottom\")[2].get_text()\n",
    "print(index_gold,price_gold)"
   ]
  },
  {
   "cell_type": "code",
   "execution_count": 64,
   "id": "8fdfd216",
   "metadata": {},
   "outputs": [
    {
     "name": "stdout",
     "output_type": "stream",
     "text": [
      "U.S. 10Y \n",
      "1.574+-0.14%\n",
      "\n"
     ]
    }
   ],
   "source": [
    "index_usb = index_soup.find_all(\"div\", class_=\"quotesBarContentCellTop\")[6].get_text()\n",
    "price_usb = index_soup.find_all(\"div\", class_=\"quotesBarContentCellBottom\")[6].get_text()\n",
    "print(index_usb,price_usb)"
   ]
  },
  {
   "cell_type": "code",
   "execution_count": 70,
   "id": "c68bca30",
   "metadata": {},
   "outputs": [],
   "source": [
    "url = \"https://www.investing.com/crypto/\" \n",
    "browser.visit(url)"
   ]
  },
  {
   "cell_type": "code",
   "execution_count": 81,
   "id": "9651bbf9",
   "metadata": {},
   "outputs": [
    {
     "name": "stdout",
     "output_type": "stream",
     "text": [
      "Bitcoin \n",
      " 61,115.8 -1.17%\n"
     ]
    }
   ],
   "source": [
    "html = browser.html\n",
    "crypto_soup = soup(html,\"html.parser\")\n",
    "index_bit = crypto_soup.find_all(\"td\", class_=\"left bold elp name cryptoName first js-currency-name\")[0].get_text()\n",
    "price_bit = crypto_soup.find_all(\"td\", class_=\"price js-currency-price\")[0].get_text()\n",
    "print(index_bit, '\\n',price_bit, change_bit)"
   ]
  },
  {
   "cell_type": "code",
   "execution_count": 82,
   "id": "d9eb2fd0",
   "metadata": {},
   "outputs": [
    {
     "name": "stdout",
     "output_type": "stream",
     "text": [
      "Ethereum \n",
      " 3,808.35 -0.46%\n"
     ]
    }
   ],
   "source": [
    "index_ete = crypto_soup.find_all(\"td\", class_=\"left bold elp name cryptoName first js-currency-name\")[1].get_text()\n",
    "price_ete = crypto_soup.find_all(\"td\", class_=\"price js-currency-price\")[1].get_text()\n",
    "change_ete = crypto_soup.find_all(\"td\", class_=\"js-currency-change-24h pid-1061443-pcp redFont\")[0].get_text()\n",
    "print(index_ete, '\\n',price_ete, change_ete)"
   ]
  },
  {
   "cell_type": "code",
   "execution_count": null,
   "id": "14d3258c",
   "metadata": {},
   "outputs": [],
   "source": []
  }
 ],
 "metadata": {
  "kernelspec": {
   "display_name": "Python [conda env:PythonData]",
   "language": "python",
   "name": "conda-env-PythonData-py"
  },
  "language_info": {
   "codemirror_mode": {
    "name": "ipython",
    "version": 3
   },
   "file_extension": ".py",
   "mimetype": "text/x-python",
   "name": "python",
   "nbconvert_exporter": "python",
   "pygments_lexer": "ipython3",
   "version": "3.6.10"
  }
 },
 "nbformat": 4,
 "nbformat_minor": 5
}
