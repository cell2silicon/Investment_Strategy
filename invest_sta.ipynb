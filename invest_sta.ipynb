{
 "cells": [
  {
   "cell_type": "code",
   "execution_count": 1,
   "id": "116337a7",
   "metadata": {},
   "outputs": [],
   "source": [
    "import pandas as pd\n",
    "import csv\n",
    "import os\n",
    "import numpy as np\n",
    "from sklearn.model_selection import train_test_split, GridSearchCV\n",
    "from sklearn.preprocessing import MinMaxScaler\n",
    "from sklearn.linear_model import LogisticRegression\n",
    "from sklearn.feature_selection import RFECV\n",
    "import joblib\n",
    "from config import user_name,password"
   ]
  },
  {
   "cell_type": "code",
   "execution_count": 2,
   "id": "420c8b13",
   "metadata": {},
   "outputs": [],
   "source": [
    "btc = pd.read_csv(\"data/BTC-USD.csv\")\n",
    "btc = btc.drop(columns=[\"Adj Close\",\"Open\",\"High\",\"Low\",\"Volume\"])\n",
    "btc['Date']= pd.to_datetime(btc['Date'])\n",
    "btc = btc.dropna()\n",
    "btc_data = btc.iloc[::-1]\n",
    "# btc_data.head()"
   ]
  },
  {
   "cell_type": "code",
   "execution_count": 3,
   "id": "3b2bd014",
   "metadata": {},
   "outputs": [],
   "source": [
    "btc_data = btc_data.rename(columns={'Close': 'Close_Btc'})\n",
    "btc_data['Date'] = pd.to_datetime(btc_data['Date'])\n",
    "btc_data['Day_Btc'] = btc_data['Date'].dt.day_name()\n",
    "btc_data = btc_data.sort_values(by=\"Date\")\n",
    "# btc_data"
   ]
  },
  {
   "cell_type": "code",
   "execution_count": 4,
   "id": "f72962bf",
   "metadata": {},
   "outputs": [],
   "source": [
    "btc_data_clean = btc_data.loc[((btc_data['Day_Btc'] != \"Saturday\") & (btc_data['Day_Btc'] != 'Sunday'))]\n",
    "# btc_data_clean"
   ]
  },
  {
   "cell_type": "code",
   "execution_count": 5,
   "id": "3dce49e2",
   "metadata": {},
   "outputs": [
    {
     "name": "stderr",
     "output_type": "stream",
     "text": [
      "/Users/jsb/opt/anaconda3/envs/PythonAdv/lib/python3.6/site-packages/ipykernel_launcher.py:2: SettingWithCopyWarning: \n",
      "A value is trying to be set on a copy of a slice from a DataFrame.\n",
      "Try using .loc[row_indexer,col_indexer] = value instead\n",
      "\n",
      "See the caveats in the documentation: https://pandas.pydata.org/pandas-docs/stable/user_guide/indexing.html#returning-a-view-versus-a-copy\n",
      "  \n",
      "/Users/jsb/opt/anaconda3/envs/PythonAdv/lib/python3.6/site-packages/ipykernel_launcher.py:3: SettingWithCopyWarning: \n",
      "A value is trying to be set on a copy of a slice from a DataFrame.\n",
      "Try using .loc[row_indexer,col_indexer] = value instead\n",
      "\n",
      "See the caveats in the documentation: https://pandas.pydata.org/pandas-docs/stable/user_guide/indexing.html#returning-a-view-versus-a-copy\n",
      "  This is separate from the ipykernel package so we can avoid doing imports until\n",
      "/Users/jsb/opt/anaconda3/envs/PythonAdv/lib/python3.6/site-packages/ipykernel_launcher.py:6: SettingWithCopyWarning: \n",
      "A value is trying to be set on a copy of a slice from a DataFrame.\n",
      "Try using .loc[row_indexer,col_indexer] = value instead\n",
      "\n",
      "See the caveats in the documentation: https://pandas.pydata.org/pandas-docs/stable/user_guide/indexing.html#returning-a-view-versus-a-copy\n",
      "  \n",
      "/Users/jsb/opt/anaconda3/envs/PythonAdv/lib/python3.6/site-packages/ipykernel_launcher.py:7: SettingWithCopyWarning: \n",
      "A value is trying to be set on a copy of a slice from a DataFrame.\n",
      "Try using .loc[row_indexer,col_indexer] = value instead\n",
      "\n",
      "See the caveats in the documentation: https://pandas.pydata.org/pandas-docs/stable/user_guide/indexing.html#returning-a-view-versus-a-copy\n",
      "  import sys\n"
     ]
    }
   ],
   "source": [
    "# btc_data_clean = btc_data_clean.drop(columns=[\"Day_Btc\"])\n",
    "btc_data_clean[\"BTC_Change%\"] = btc_data_clean[\"Close_Btc\"].pct_change()\n",
    "btc_data_clean['BTC_Change%_lag'] = btc_data_clean[\"BTC_Change%\"].shift(1)\n",
    "\n",
    "# Construction direction of BITCOIN movement\n",
    "btc_data_clean['BTC_dir'] = (btc_data_clean[\"BTC_Change%\"]>0).astype(float)\n",
    "btc_data_clean['BTC_dir_lag'] = btc_data_clean['BTC_dir'].shift(1)\n",
    "# btc_data_clean"
   ]
  },
  {
   "cell_type": "code",
   "execution_count": 6,
   "id": "9a6d6596",
   "metadata": {},
   "outputs": [
    {
     "data": {
      "text/plain": [
       "Date               datetime64[ns]\n",
       "Close_Btc                 float64\n",
       "Day_Btc                    object\n",
       "BTC_Change%               float64\n",
       "BTC_Change%_lag           float64\n",
       "BTC_dir                   float64\n",
       "BTC_dir_lag               float64\n",
       "dtype: object"
      ]
     },
     "execution_count": 6,
     "metadata": {},
     "output_type": "execute_result"
    }
   ],
   "source": [
    "btc_data_clean.dtypes"
   ]
  },
  {
   "cell_type": "code",
   "execution_count": 7,
   "id": "8de2e6c8",
   "metadata": {},
   "outputs": [],
   "source": [
    "eth = pd.read_csv(\"data/ETH-USD.csv\")\n",
    "eth = eth.drop(columns=[\"Adj Close\",\"Open\",\"High\",\"Low\",\"Volume\"])\n",
    "eth['Date']= pd.to_datetime(eth['Date'])\n",
    "eth_data = eth.dropna()\n",
    "eth_data = eth_data.iloc[::-1]\n",
    "# eth_data.head()"
   ]
  },
  {
   "cell_type": "code",
   "execution_count": 8,
   "id": "95b3b910",
   "metadata": {},
   "outputs": [],
   "source": [
    "eth_data = eth_data.rename(columns={'Close': 'Close_Eth'})\n",
    "eth_data['Date'] = pd.to_datetime(eth_data['Date'])\n",
    "eth_data['Day_Eth'] = eth_data['Date'].dt.day_name()\n",
    "eth_data = eth_data.sort_values(by=\"Date\")\n",
    "# eth_data"
   ]
  },
  {
   "cell_type": "code",
   "execution_count": 9,
   "id": "8463f93d",
   "metadata": {},
   "outputs": [],
   "source": [
    "eth_data_clean = eth_data.loc[((eth_data['Day_Eth'] != \"Saturday\") & (eth_data['Day_Eth'] != 'Sunday'))]\n",
    "# eth_data_clean"
   ]
  },
  {
   "cell_type": "code",
   "execution_count": 10,
   "id": "c3116130",
   "metadata": {},
   "outputs": [
    {
     "name": "stderr",
     "output_type": "stream",
     "text": [
      "/Users/jsb/opt/anaconda3/envs/PythonAdv/lib/python3.6/site-packages/ipykernel_launcher.py:2: SettingWithCopyWarning: \n",
      "A value is trying to be set on a copy of a slice from a DataFrame.\n",
      "Try using .loc[row_indexer,col_indexer] = value instead\n",
      "\n",
      "See the caveats in the documentation: https://pandas.pydata.org/pandas-docs/stable/user_guide/indexing.html#returning-a-view-versus-a-copy\n",
      "  \n",
      "/Users/jsb/opt/anaconda3/envs/PythonAdv/lib/python3.6/site-packages/ipykernel_launcher.py:3: SettingWithCopyWarning: \n",
      "A value is trying to be set on a copy of a slice from a DataFrame.\n",
      "Try using .loc[row_indexer,col_indexer] = value instead\n",
      "\n",
      "See the caveats in the documentation: https://pandas.pydata.org/pandas-docs/stable/user_guide/indexing.html#returning-a-view-versus-a-copy\n",
      "  This is separate from the ipykernel package so we can avoid doing imports until\n",
      "/Users/jsb/opt/anaconda3/envs/PythonAdv/lib/python3.6/site-packages/ipykernel_launcher.py:6: SettingWithCopyWarning: \n",
      "A value is trying to be set on a copy of a slice from a DataFrame.\n",
      "Try using .loc[row_indexer,col_indexer] = value instead\n",
      "\n",
      "See the caveats in the documentation: https://pandas.pydata.org/pandas-docs/stable/user_guide/indexing.html#returning-a-view-versus-a-copy\n",
      "  \n",
      "/Users/jsb/opt/anaconda3/envs/PythonAdv/lib/python3.6/site-packages/ipykernel_launcher.py:7: SettingWithCopyWarning: \n",
      "A value is trying to be set on a copy of a slice from a DataFrame.\n",
      "Try using .loc[row_indexer,col_indexer] = value instead\n",
      "\n",
      "See the caveats in the documentation: https://pandas.pydata.org/pandas-docs/stable/user_guide/indexing.html#returning-a-view-versus-a-copy\n",
      "  import sys\n"
     ]
    },
    {
     "data": {
      "text/html": [
       "<div>\n",
       "<style scoped>\n",
       "    .dataframe tbody tr th:only-of-type {\n",
       "        vertical-align: middle;\n",
       "    }\n",
       "\n",
       "    .dataframe tbody tr th {\n",
       "        vertical-align: top;\n",
       "    }\n",
       "\n",
       "    .dataframe thead th {\n",
       "        text-align: right;\n",
       "    }\n",
       "</style>\n",
       "<table border=\"1\" class=\"dataframe\">\n",
       "  <thead>\n",
       "    <tr style=\"text-align: right;\">\n",
       "      <th></th>\n",
       "      <th>Date</th>\n",
       "      <th>Close_Eth</th>\n",
       "      <th>Day_Eth</th>\n",
       "      <th>ETH_Change%</th>\n",
       "      <th>ETH_Change%_lag</th>\n",
       "      <th>ETH_dir</th>\n",
       "      <th>ETH_dir_lag</th>\n",
       "    </tr>\n",
       "  </thead>\n",
       "  <tbody>\n",
       "    <tr>\n",
       "      <th>2</th>\n",
       "      <td>2016-10-10</td>\n",
       "      <td>11.7555</td>\n",
       "      <td>Monday</td>\n",
       "      <td>NaN</td>\n",
       "      <td>NaN</td>\n",
       "      <td>0.0</td>\n",
       "      <td>NaN</td>\n",
       "    </tr>\n",
       "    <tr>\n",
       "      <th>3</th>\n",
       "      <td>2016-10-11</td>\n",
       "      <td>11.7857</td>\n",
       "      <td>Tuesday</td>\n",
       "      <td>0.002569</td>\n",
       "      <td>NaN</td>\n",
       "      <td>1.0</td>\n",
       "      <td>0.0</td>\n",
       "    </tr>\n",
       "    <tr>\n",
       "      <th>4</th>\n",
       "      <td>2016-10-12</td>\n",
       "      <td>11.9335</td>\n",
       "      <td>Wednesday</td>\n",
       "      <td>0.012541</td>\n",
       "      <td>0.002569</td>\n",
       "      <td>1.0</td>\n",
       "      <td>1.0</td>\n",
       "    </tr>\n",
       "    <tr>\n",
       "      <th>5</th>\n",
       "      <td>2016-10-13</td>\n",
       "      <td>11.9630</td>\n",
       "      <td>Thursday</td>\n",
       "      <td>0.002472</td>\n",
       "      <td>0.012541</td>\n",
       "      <td>1.0</td>\n",
       "      <td>1.0</td>\n",
       "    </tr>\n",
       "    <tr>\n",
       "      <th>6</th>\n",
       "      <td>2016-10-14</td>\n",
       "      <td>11.9382</td>\n",
       "      <td>Friday</td>\n",
       "      <td>-0.002073</td>\n",
       "      <td>0.002472</td>\n",
       "      <td>0.0</td>\n",
       "      <td>1.0</td>\n",
       "    </tr>\n",
       "  </tbody>\n",
       "</table>\n",
       "</div>"
      ],
      "text/plain": [
       "        Date  Close_Eth    Day_Eth  ETH_Change%  ETH_Change%_lag  ETH_dir  \\\n",
       "2 2016-10-10    11.7555     Monday          NaN              NaN      0.0   \n",
       "3 2016-10-11    11.7857    Tuesday     0.002569              NaN      1.0   \n",
       "4 2016-10-12    11.9335  Wednesday     0.012541         0.002569      1.0   \n",
       "5 2016-10-13    11.9630   Thursday     0.002472         0.012541      1.0   \n",
       "6 2016-10-14    11.9382     Friday    -0.002073         0.002472      0.0   \n",
       "\n",
       "   ETH_dir_lag  \n",
       "2          NaN  \n",
       "3          0.0  \n",
       "4          1.0  \n",
       "5          1.0  \n",
       "6          1.0  "
      ]
     },
     "execution_count": 10,
     "metadata": {},
     "output_type": "execute_result"
    }
   ],
   "source": [
    "# eth_data_clean = eth_data_clean.drop(columns=[\"Day_Eth\"])\n",
    "eth_data_clean[\"ETH_Change%\"] = eth_data_clean[\"Close_Eth\"].pct_change()\n",
    "eth_data_clean['ETH_Change%_lag'] = eth_data_clean[\"ETH_Change%\"].shift(1)\n",
    "\n",
    "# Construction direction of Ethereum movement\n",
    "eth_data_clean['ETH_dir'] = (eth_data_clean[\"ETH_Change%\"]>0).astype(float)\n",
    "eth_data_clean['ETH_dir_lag'] = eth_data_clean['ETH_dir'].shift(1)\n",
    "eth_data_clean.head()"
   ]
  },
  {
   "cell_type": "code",
   "execution_count": 11,
   "id": "329acea9",
   "metadata": {},
   "outputs": [
    {
     "data": {
      "text/plain": [
       "Date               datetime64[ns]\n",
       "Close_Eth                 float64\n",
       "Day_Eth                    object\n",
       "ETH_Change%               float64\n",
       "ETH_Change%_lag           float64\n",
       "ETH_dir                   float64\n",
       "ETH_dir_lag               float64\n",
       "dtype: object"
      ]
     },
     "execution_count": 11,
     "metadata": {},
     "output_type": "execute_result"
    }
   ],
   "source": [
    "eth_data_clean.dtypes"
   ]
  },
  {
   "cell_type": "code",
   "execution_count": 12,
   "id": "a1840b2f",
   "metadata": {},
   "outputs": [],
   "source": [
    "gold = pd.read_csv(\"data/Gold-Futures.csv\")\n",
    "gold = gold.drop(columns=[\"Vol.\",\"Change %\",\"Open\",\"High\",\"Low\"])\n",
    "gold['Date']= pd.to_datetime(gold['Date'])\n",
    "gold_data = gold.dropna()\n",
    "# gold_data.head()"
   ]
  },
  {
   "cell_type": "code",
   "execution_count": 13,
   "id": "d638cf5c",
   "metadata": {},
   "outputs": [],
   "source": [
    "gold_data = gold_data.rename(columns={'Price': 'Price_Gold'})\n",
    "gold_data['Date'] = pd.to_datetime(gold_data['Date'])\n",
    "gold_data['Day_Gold'] = gold_data['Date'].dt.day_name()\n",
    "gold_data = gold_data.sort_values(by=\"Date\")\n",
    "gold_data = gold_data.reset_index(drop=True)\n",
    "gold_data['Price_Gold'] = gold_data.Price_Gold.str.replace(',', '').astype(float)\n",
    "# gold_data"
   ]
  },
  {
   "cell_type": "code",
   "execution_count": 14,
   "id": "dd4de93b",
   "metadata": {},
   "outputs": [],
   "source": [
    "gold_data_clean = gold_data.loc[((gold_data['Day_Gold'] != \"Saturday\") & (gold_data['Day_Gold'] != 'Sunday'))]\n",
    "# gold_data_clean"
   ]
  },
  {
   "cell_type": "code",
   "execution_count": 15,
   "id": "e9f72ddc",
   "metadata": {},
   "outputs": [
    {
     "name": "stderr",
     "output_type": "stream",
     "text": [
      "/Users/jsb/opt/anaconda3/envs/PythonAdv/lib/python3.6/site-packages/ipykernel_launcher.py:2: SettingWithCopyWarning: \n",
      "A value is trying to be set on a copy of a slice from a DataFrame.\n",
      "Try using .loc[row_indexer,col_indexer] = value instead\n",
      "\n",
      "See the caveats in the documentation: https://pandas.pydata.org/pandas-docs/stable/user_guide/indexing.html#returning-a-view-versus-a-copy\n",
      "  \n",
      "/Users/jsb/opt/anaconda3/envs/PythonAdv/lib/python3.6/site-packages/ipykernel_launcher.py:3: SettingWithCopyWarning: \n",
      "A value is trying to be set on a copy of a slice from a DataFrame.\n",
      "Try using .loc[row_indexer,col_indexer] = value instead\n",
      "\n",
      "See the caveats in the documentation: https://pandas.pydata.org/pandas-docs/stable/user_guide/indexing.html#returning-a-view-versus-a-copy\n",
      "  This is separate from the ipykernel package so we can avoid doing imports until\n",
      "/Users/jsb/opt/anaconda3/envs/PythonAdv/lib/python3.6/site-packages/ipykernel_launcher.py:6: SettingWithCopyWarning: \n",
      "A value is trying to be set on a copy of a slice from a DataFrame.\n",
      "Try using .loc[row_indexer,col_indexer] = value instead\n",
      "\n",
      "See the caveats in the documentation: https://pandas.pydata.org/pandas-docs/stable/user_guide/indexing.html#returning-a-view-versus-a-copy\n",
      "  \n",
      "/Users/jsb/opt/anaconda3/envs/PythonAdv/lib/python3.6/site-packages/ipykernel_launcher.py:7: SettingWithCopyWarning: \n",
      "A value is trying to be set on a copy of a slice from a DataFrame.\n",
      "Try using .loc[row_indexer,col_indexer] = value instead\n",
      "\n",
      "See the caveats in the documentation: https://pandas.pydata.org/pandas-docs/stable/user_guide/indexing.html#returning-a-view-versus-a-copy\n",
      "  import sys\n"
     ]
    },
    {
     "data": {
      "text/html": [
       "<div>\n",
       "<style scoped>\n",
       "    .dataframe tbody tr th:only-of-type {\n",
       "        vertical-align: middle;\n",
       "    }\n",
       "\n",
       "    .dataframe tbody tr th {\n",
       "        vertical-align: top;\n",
       "    }\n",
       "\n",
       "    .dataframe thead th {\n",
       "        text-align: right;\n",
       "    }\n",
       "</style>\n",
       "<table border=\"1\" class=\"dataframe\">\n",
       "  <thead>\n",
       "    <tr style=\"text-align: right;\">\n",
       "      <th></th>\n",
       "      <th>Date</th>\n",
       "      <th>Price_Gold</th>\n",
       "      <th>Day_Gold</th>\n",
       "      <th>Gold_Change%</th>\n",
       "      <th>Gold_Change%_lag</th>\n",
       "      <th>gold_dir</th>\n",
       "      <th>gold_dir_lag</th>\n",
       "    </tr>\n",
       "  </thead>\n",
       "  <tbody>\n",
       "    <tr>\n",
       "      <th>0</th>\n",
       "      <td>2016-09-08</td>\n",
       "      <td>1400.2</td>\n",
       "      <td>Thursday</td>\n",
       "      <td>NaN</td>\n",
       "      <td>NaN</td>\n",
       "      <td>0.0</td>\n",
       "      <td>NaN</td>\n",
       "    </tr>\n",
       "    <tr>\n",
       "      <th>1</th>\n",
       "      <td>2016-09-09</td>\n",
       "      <td>1393.1</td>\n",
       "      <td>Friday</td>\n",
       "      <td>-0.005071</td>\n",
       "      <td>NaN</td>\n",
       "      <td>0.0</td>\n",
       "      <td>0.0</td>\n",
       "    </tr>\n",
       "    <tr>\n",
       "      <th>2</th>\n",
       "      <td>2016-09-12</td>\n",
       "      <td>1384.4</td>\n",
       "      <td>Monday</td>\n",
       "      <td>-0.006245</td>\n",
       "      <td>-0.005071</td>\n",
       "      <td>0.0</td>\n",
       "      <td>0.0</td>\n",
       "    </tr>\n",
       "    <tr>\n",
       "      <th>3</th>\n",
       "      <td>2016-09-13</td>\n",
       "      <td>1380.8</td>\n",
       "      <td>Tuesday</td>\n",
       "      <td>-0.002600</td>\n",
       "      <td>-0.006245</td>\n",
       "      <td>0.0</td>\n",
       "      <td>0.0</td>\n",
       "    </tr>\n",
       "    <tr>\n",
       "      <th>4</th>\n",
       "      <td>2016-09-14</td>\n",
       "      <td>1383.3</td>\n",
       "      <td>Wednesday</td>\n",
       "      <td>0.001811</td>\n",
       "      <td>-0.002600</td>\n",
       "      <td>1.0</td>\n",
       "      <td>0.0</td>\n",
       "    </tr>\n",
       "  </tbody>\n",
       "</table>\n",
       "</div>"
      ],
      "text/plain": [
       "        Date  Price_Gold   Day_Gold  Gold_Change%  Gold_Change%_lag  gold_dir  \\\n",
       "0 2016-09-08      1400.2   Thursday           NaN               NaN       0.0   \n",
       "1 2016-09-09      1393.1     Friday     -0.005071               NaN       0.0   \n",
       "2 2016-09-12      1384.4     Monday     -0.006245         -0.005071       0.0   \n",
       "3 2016-09-13      1380.8    Tuesday     -0.002600         -0.006245       0.0   \n",
       "4 2016-09-14      1383.3  Wednesday      0.001811         -0.002600       1.0   \n",
       "\n",
       "   gold_dir_lag  \n",
       "0           NaN  \n",
       "1           0.0  \n",
       "2           0.0  \n",
       "3           0.0  \n",
       "4           0.0  "
      ]
     },
     "execution_count": 15,
     "metadata": {},
     "output_type": "execute_result"
    }
   ],
   "source": [
    "# gold_data_clean = gold_data_clean.drop(columns=[\"Day_Gold\"])\n",
    "gold_data_clean[\"Gold_Change%\"] = gold_data_clean[\"Price_Gold\"].pct_change()\n",
    "gold_data_clean['Gold_Change%_lag'] = gold_data_clean[\"Gold_Change%\"].shift(1)\n",
    "\n",
    "# Construction direction of GOLD movement\n",
    "gold_data_clean['gold_dir'] = (gold_data_clean[\"Gold_Change%\"]>0).astype(float)\n",
    "gold_data_clean['gold_dir_lag'] = gold_data_clean['gold_dir'].shift(1)\n",
    "gold_data_clean.head()"
   ]
  },
  {
   "cell_type": "code",
   "execution_count": 16,
   "id": "af96c1b6",
   "metadata": {
    "scrolled": true
   },
   "outputs": [
    {
     "data": {
      "text/plain": [
       "Date                datetime64[ns]\n",
       "Price_Gold                 float64\n",
       "Day_Gold                    object\n",
       "Gold_Change%               float64\n",
       "Gold_Change%_lag           float64\n",
       "gold_dir                   float64\n",
       "gold_dir_lag               float64\n",
       "dtype: object"
      ]
     },
     "execution_count": 16,
     "metadata": {},
     "output_type": "execute_result"
    }
   ],
   "source": [
    "gold_data_clean.dtypes"
   ]
  },
  {
   "cell_type": "code",
   "execution_count": 17,
   "id": "a5aee9b3",
   "metadata": {},
   "outputs": [],
   "source": [
    "snp = pd.read_csv(\"data/S&P-500.csv\")\n",
    "snp = snp.drop(columns=[\"Vol.\",\"Change %\",\"Open\",\"High\",\"Low\"])\n",
    "snp['Date']= pd.to_datetime(snp['Date'])\n",
    "snp_data = snp.dropna()\n",
    "# snp_data.head()"
   ]
  },
  {
   "cell_type": "code",
   "execution_count": 18,
   "id": "118fdd04",
   "metadata": {},
   "outputs": [],
   "source": [
    "snp_data = snp_data.rename(columns={'Price': 'Price_Snp'})\n",
    "snp_data['Date'] = pd.to_datetime(snp_data['Date'])\n",
    "snp_data['Day_Snp'] = snp_data['Date'].dt.day_name()\n",
    "snp_data = snp_data.sort_values(by=\"Date\")\n",
    "snp_data = snp_data.reset_index(drop=True)\n",
    "snp_data['Price_Snp'] = snp_data.Price_Snp.str.replace(',', '').astype(float)\n",
    "# snp_data"
   ]
  },
  {
   "cell_type": "code",
   "execution_count": 19,
   "id": "ef13e5a1",
   "metadata": {},
   "outputs": [],
   "source": [
    "snp_data_clean = snp_data.loc[((snp_data['Day_Snp'] != \"Saturday\") & (snp_data['Day_Snp'] != 'Sunday'))]\n",
    "# snp_data_clean"
   ]
  },
  {
   "cell_type": "code",
   "execution_count": 20,
   "id": "ec544ded",
   "metadata": {},
   "outputs": [],
   "source": [
    "# snp_data_clean = snp_data_clean.drop(columns=[\"Day_Snp\"])\n",
    "snp_data_clean[\"Snp_Change%\"] = snp_data_clean[\"Price_Snp\"].pct_change()\n",
    "snp_data_clean['Snp_Change%_lag'] = snp_data_clean[\"Snp_Change%\"].shift(1)\n",
    "\n",
    "# Construction direction of S&P movement\n",
    "snp_data_clean['Snp_dir'] = (snp_data_clean[\"Snp_Change%\"]>0).astype(float)\n",
    "snp_data_clean['Snp_dir_lag'] = snp_data_clean['Snp_dir'].shift(1)\n",
    "# snp_data_clean"
   ]
  },
  {
   "cell_type": "code",
   "execution_count": 21,
   "id": "41f4da57",
   "metadata": {},
   "outputs": [],
   "source": [
    "usbond = pd.read_csv(\"data/US-10-Year-Bond.csv\")\n",
    "usbond = usbond.drop(columns=[\"Change %\",\"Open\",\"High\",\"Low\"])\n",
    "usbond['Date']= pd.to_datetime(usbond['Date'])\n",
    "usbond_data = usbond.dropna()\n",
    "# usbond_data.head()"
   ]
  },
  {
   "cell_type": "code",
   "execution_count": 22,
   "id": "ff4c362d",
   "metadata": {},
   "outputs": [],
   "source": [
    "usbond_data = usbond_data.rename(columns={'Price': 'Price_USB'})\n",
    "usbond_data['Date'] = pd.to_datetime(usbond_data['Date'])\n",
    "usbond_data['Day_USB'] = usbond_data['Date'].dt.day_name()\n",
    "usbond_data = usbond_data.sort_values(by=\"Date\")\n",
    "usbond_data = usbond_data.reset_index(drop=True)\n",
    "# usbond_data"
   ]
  },
  {
   "cell_type": "code",
   "execution_count": 23,
   "id": "ff053a73",
   "metadata": {},
   "outputs": [],
   "source": [
    "usbond_data_clean = usbond_data.loc[((usbond_data['Day_USB'] != \"Saturday\") & (usbond_data['Day_USB'] != 'Sunday'))]\n",
    "# usbond_data_clean"
   ]
  },
  {
   "cell_type": "code",
   "execution_count": 24,
   "id": "9075fbe2",
   "metadata": {},
   "outputs": [
    {
     "name": "stderr",
     "output_type": "stream",
     "text": [
      "/Users/jsb/opt/anaconda3/envs/PythonAdv/lib/python3.6/site-packages/ipykernel_launcher.py:2: SettingWithCopyWarning: \n",
      "A value is trying to be set on a copy of a slice from a DataFrame.\n",
      "Try using .loc[row_indexer,col_indexer] = value instead\n",
      "\n",
      "See the caveats in the documentation: https://pandas.pydata.org/pandas-docs/stable/user_guide/indexing.html#returning-a-view-versus-a-copy\n",
      "  \n",
      "/Users/jsb/opt/anaconda3/envs/PythonAdv/lib/python3.6/site-packages/ipykernel_launcher.py:3: SettingWithCopyWarning: \n",
      "A value is trying to be set on a copy of a slice from a DataFrame.\n",
      "Try using .loc[row_indexer,col_indexer] = value instead\n",
      "\n",
      "See the caveats in the documentation: https://pandas.pydata.org/pandas-docs/stable/user_guide/indexing.html#returning-a-view-versus-a-copy\n",
      "  This is separate from the ipykernel package so we can avoid doing imports until\n",
      "/Users/jsb/opt/anaconda3/envs/PythonAdv/lib/python3.6/site-packages/ipykernel_launcher.py:6: SettingWithCopyWarning: \n",
      "A value is trying to be set on a copy of a slice from a DataFrame.\n",
      "Try using .loc[row_indexer,col_indexer] = value instead\n",
      "\n",
      "See the caveats in the documentation: https://pandas.pydata.org/pandas-docs/stable/user_guide/indexing.html#returning-a-view-versus-a-copy\n",
      "  \n",
      "/Users/jsb/opt/anaconda3/envs/PythonAdv/lib/python3.6/site-packages/ipykernel_launcher.py:7: SettingWithCopyWarning: \n",
      "A value is trying to be set on a copy of a slice from a DataFrame.\n",
      "Try using .loc[row_indexer,col_indexer] = value instead\n",
      "\n",
      "See the caveats in the documentation: https://pandas.pydata.org/pandas-docs/stable/user_guide/indexing.html#returning-a-view-versus-a-copy\n",
      "  import sys\n"
     ]
    }
   ],
   "source": [
    "# usbond_data_clean = usbond_data_clean.drop(columns=[\"Day_USB\"])\n",
    "usbond_data_clean[\"USB_Change%\"] = usbond_data_clean[\"Price_USB\"].pct_change()\n",
    "usbond_data_clean['USB_Change%_lag'] = usbond_data_clean[\"USB_Change%\"].shift(1)\n",
    "\n",
    "# Construction direction of US BOND movement\n",
    "usbond_data_clean['USB_dir'] = (usbond_data_clean[\"USB_Change%\"]>0).astype(float)\n",
    "usbond_data_clean['USB_dir_lag'] = usbond_data_clean['USB_dir'].shift(1)\n",
    "# usbond_data_clean"
   ]
  },
  {
   "cell_type": "code",
   "execution_count": 25,
   "id": "0bb156a0",
   "metadata": {},
   "outputs": [
    {
     "data": {
      "text/plain": [
       "Date               datetime64[ns]\n",
       "Price_USB                 float64\n",
       "Day_USB                    object\n",
       "USB_Change%               float64\n",
       "USB_Change%_lag           float64\n",
       "USB_dir                   float64\n",
       "USB_dir_lag               float64\n",
       "dtype: object"
      ]
     },
     "execution_count": 25,
     "metadata": {},
     "output_type": "execute_result"
    }
   ],
   "source": [
    "usbond_data_clean.dtypes"
   ]
  },
  {
   "cell_type": "code",
   "execution_count": 26,
   "id": "ef708551",
   "metadata": {},
   "outputs": [],
   "source": [
    "bit_1 = btc_data_clean.merge(eth_data_clean, how='left', on='Date')\n",
    "# bit_1"
   ]
  },
  {
   "cell_type": "code",
   "execution_count": 27,
   "id": "60d01a16",
   "metadata": {},
   "outputs": [],
   "source": [
    "bit_2 = bit_1.merge(snp_data_clean, how='left', on='Date')\n",
    "# bit_2"
   ]
  },
  {
   "cell_type": "code",
   "execution_count": 28,
   "id": "5f11b524",
   "metadata": {},
   "outputs": [
    {
     "data": {
      "text/html": [
       "<div>\n",
       "<style scoped>\n",
       "    .dataframe tbody tr th:only-of-type {\n",
       "        vertical-align: middle;\n",
       "    }\n",
       "\n",
       "    .dataframe tbody tr th {\n",
       "        vertical-align: top;\n",
       "    }\n",
       "\n",
       "    .dataframe thead th {\n",
       "        text-align: right;\n",
       "    }\n",
       "</style>\n",
       "<table border=\"1\" class=\"dataframe\">\n",
       "  <thead>\n",
       "    <tr style=\"text-align: right;\">\n",
       "      <th></th>\n",
       "      <th>Date</th>\n",
       "      <th>Close_Btc</th>\n",
       "      <th>Day_Btc</th>\n",
       "      <th>BTC_Change%</th>\n",
       "      <th>BTC_Change%_lag</th>\n",
       "      <th>BTC_dir</th>\n",
       "      <th>BTC_dir_lag</th>\n",
       "      <th>Close_Eth</th>\n",
       "      <th>Day_Eth</th>\n",
       "      <th>ETH_Change%</th>\n",
       "      <th>...</th>\n",
       "      <th>Snp_Change%</th>\n",
       "      <th>Snp_Change%_lag</th>\n",
       "      <th>Snp_dir</th>\n",
       "      <th>Snp_dir_lag</th>\n",
       "      <th>Price_USB</th>\n",
       "      <th>Day_USB</th>\n",
       "      <th>USB_Change%</th>\n",
       "      <th>USB_Change%_lag</th>\n",
       "      <th>USB_dir</th>\n",
       "      <th>USB_dir_lag</th>\n",
       "    </tr>\n",
       "  </thead>\n",
       "  <tbody>\n",
       "    <tr>\n",
       "      <th>2</th>\n",
       "      <td>2016-10-12</td>\n",
       "      <td>636.192017</td>\n",
       "      <td>Wednesday</td>\n",
       "      <td>-0.007612</td>\n",
       "      <td>0.035668</td>\n",
       "      <td>0.0</td>\n",
       "      <td>1.0</td>\n",
       "      <td>11.9335</td>\n",
       "      <td>Wednesday</td>\n",
       "      <td>0.012541</td>\n",
       "      <td>...</td>\n",
       "      <td>0.001147</td>\n",
       "      <td>-0.012447</td>\n",
       "      <td>1.0</td>\n",
       "      <td>0.0</td>\n",
       "      <td>1.771</td>\n",
       "      <td>Wednesday</td>\n",
       "      <td>0.002264</td>\n",
       "      <td>0.001133</td>\n",
       "      <td>1.0</td>\n",
       "      <td>1.0</td>\n",
       "    </tr>\n",
       "    <tr>\n",
       "      <th>3</th>\n",
       "      <td>2016-10-13</td>\n",
       "      <td>636.786011</td>\n",
       "      <td>Thursday</td>\n",
       "      <td>0.000934</td>\n",
       "      <td>-0.007612</td>\n",
       "      <td>1.0</td>\n",
       "      <td>0.0</td>\n",
       "      <td>11.9630</td>\n",
       "      <td>Thursday</td>\n",
       "      <td>0.002472</td>\n",
       "      <td>...</td>\n",
       "      <td>-0.003099</td>\n",
       "      <td>0.001147</td>\n",
       "      <td>0.0</td>\n",
       "      <td>1.0</td>\n",
       "      <td>1.746</td>\n",
       "      <td>Thursday</td>\n",
       "      <td>-0.014116</td>\n",
       "      <td>0.002264</td>\n",
       "      <td>0.0</td>\n",
       "      <td>1.0</td>\n",
       "    </tr>\n",
       "    <tr>\n",
       "      <th>4</th>\n",
       "      <td>2016-10-14</td>\n",
       "      <td>640.377991</td>\n",
       "      <td>Friday</td>\n",
       "      <td>0.005641</td>\n",
       "      <td>0.000934</td>\n",
       "      <td>1.0</td>\n",
       "      <td>1.0</td>\n",
       "      <td>11.9382</td>\n",
       "      <td>Friday</td>\n",
       "      <td>-0.002073</td>\n",
       "      <td>...</td>\n",
       "      <td>0.000202</td>\n",
       "      <td>-0.003099</td>\n",
       "      <td>1.0</td>\n",
       "      <td>0.0</td>\n",
       "      <td>1.805</td>\n",
       "      <td>Friday</td>\n",
       "      <td>0.033792</td>\n",
       "      <td>-0.014116</td>\n",
       "      <td>1.0</td>\n",
       "      <td>0.0</td>\n",
       "    </tr>\n",
       "    <tr>\n",
       "      <th>5</th>\n",
       "      <td>2016-10-17</td>\n",
       "      <td>639.192993</td>\n",
       "      <td>Monday</td>\n",
       "      <td>-0.001850</td>\n",
       "      <td>0.005641</td>\n",
       "      <td>0.0</td>\n",
       "      <td>1.0</td>\n",
       "      <td>12.0050</td>\n",
       "      <td>Monday</td>\n",
       "      <td>0.005595</td>\n",
       "      <td>...</td>\n",
       "      <td>-0.003038</td>\n",
       "      <td>0.000202</td>\n",
       "      <td>0.0</td>\n",
       "      <td>1.0</td>\n",
       "      <td>1.768</td>\n",
       "      <td>Monday</td>\n",
       "      <td>-0.020499</td>\n",
       "      <td>0.033792</td>\n",
       "      <td>0.0</td>\n",
       "      <td>1.0</td>\n",
       "    </tr>\n",
       "    <tr>\n",
       "      <th>6</th>\n",
       "      <td>2016-10-18</td>\n",
       "      <td>637.960022</td>\n",
       "      <td>Tuesday</td>\n",
       "      <td>-0.001929</td>\n",
       "      <td>-0.001850</td>\n",
       "      <td>0.0</td>\n",
       "      <td>0.0</td>\n",
       "      <td>12.5885</td>\n",
       "      <td>Tuesday</td>\n",
       "      <td>0.048605</td>\n",
       "      <td>...</td>\n",
       "      <td>0.006160</td>\n",
       "      <td>-0.003038</td>\n",
       "      <td>1.0</td>\n",
       "      <td>0.0</td>\n",
       "      <td>1.740</td>\n",
       "      <td>Tuesday</td>\n",
       "      <td>-0.015837</td>\n",
       "      <td>-0.020499</td>\n",
       "      <td>0.0</td>\n",
       "      <td>0.0</td>\n",
       "    </tr>\n",
       "  </tbody>\n",
       "</table>\n",
       "<p>5 rows × 25 columns</p>\n",
       "</div>"
      ],
      "text/plain": [
       "        Date   Close_Btc    Day_Btc  BTC_Change%  BTC_Change%_lag  BTC_dir  \\\n",
       "2 2016-10-12  636.192017  Wednesday    -0.007612         0.035668      0.0   \n",
       "3 2016-10-13  636.786011   Thursday     0.000934        -0.007612      1.0   \n",
       "4 2016-10-14  640.377991     Friday     0.005641         0.000934      1.0   \n",
       "5 2016-10-17  639.192993     Monday    -0.001850         0.005641      0.0   \n",
       "6 2016-10-18  637.960022    Tuesday    -0.001929        -0.001850      0.0   \n",
       "\n",
       "   BTC_dir_lag  Close_Eth    Day_Eth  ETH_Change%  ...  Snp_Change%  \\\n",
       "2          1.0    11.9335  Wednesday     0.012541  ...     0.001147   \n",
       "3          0.0    11.9630   Thursday     0.002472  ...    -0.003099   \n",
       "4          1.0    11.9382     Friday    -0.002073  ...     0.000202   \n",
       "5          1.0    12.0050     Monday     0.005595  ...    -0.003038   \n",
       "6          0.0    12.5885    Tuesday     0.048605  ...     0.006160   \n",
       "\n",
       "   Snp_Change%_lag  Snp_dir  Snp_dir_lag Price_USB    Day_USB  USB_Change%  \\\n",
       "2        -0.012447      1.0          0.0     1.771  Wednesday     0.002264   \n",
       "3         0.001147      0.0          1.0     1.746   Thursday    -0.014116   \n",
       "4        -0.003099      1.0          0.0     1.805     Friday     0.033792   \n",
       "5         0.000202      0.0          1.0     1.768     Monday    -0.020499   \n",
       "6        -0.003038      1.0          0.0     1.740    Tuesday    -0.015837   \n",
       "\n",
       "   USB_Change%_lag  USB_dir  USB_dir_lag  \n",
       "2         0.001133      1.0          1.0  \n",
       "3         0.002264      0.0          1.0  \n",
       "4        -0.014116      1.0          0.0  \n",
       "5         0.033792      0.0          1.0  \n",
       "6        -0.020499      0.0          0.0  \n",
       "\n",
       "[5 rows x 25 columns]"
      ]
     },
     "execution_count": 28,
     "metadata": {},
     "output_type": "execute_result"
    }
   ],
   "source": [
    "bit_3 = bit_2.merge(usbond_data_clean, how='left', on='Date')\n",
    "bit_3.dropna().head()"
   ]
  },
  {
   "cell_type": "code",
   "execution_count": 29,
   "id": "b2c92065",
   "metadata": {},
   "outputs": [],
   "source": [
    "# bit_3.dtypes"
   ]
  },
  {
   "cell_type": "code",
   "execution_count": 30,
   "id": "bb351726",
   "metadata": {},
   "outputs": [],
   "source": [
    "gold_1 = gold_data_clean.merge(usbond_data_clean, how='left', on='Date')\n",
    "# gold_1"
   ]
  },
  {
   "cell_type": "code",
   "execution_count": 31,
   "id": "0eb08b9b",
   "metadata": {},
   "outputs": [],
   "source": [
    "gold_2 = gold_1.merge(snp_data_clean, how='left', on='Date')\n",
    "# gold_2"
   ]
  },
  {
   "cell_type": "code",
   "execution_count": 32,
   "id": "63af3844",
   "metadata": {},
   "outputs": [
    {
     "data": {
      "text/html": [
       "<div>\n",
       "<style scoped>\n",
       "    .dataframe tbody tr th:only-of-type {\n",
       "        vertical-align: middle;\n",
       "    }\n",
       "\n",
       "    .dataframe tbody tr th {\n",
       "        vertical-align: top;\n",
       "    }\n",
       "\n",
       "    .dataframe thead th {\n",
       "        text-align: right;\n",
       "    }\n",
       "</style>\n",
       "<table border=\"1\" class=\"dataframe\">\n",
       "  <thead>\n",
       "    <tr style=\"text-align: right;\">\n",
       "      <th></th>\n",
       "      <th>Date</th>\n",
       "      <th>gold_dir</th>\n",
       "      <th>gold_dir_lag</th>\n",
       "      <th>Gold_Change%_lag</th>\n",
       "      <th>USB_Change%_lag</th>\n",
       "      <th>Snp_Change%_lag</th>\n",
       "      <th>ETH_Change%_lag</th>\n",
       "    </tr>\n",
       "  </thead>\n",
       "  <tbody>\n",
       "    <tr>\n",
       "      <th>1245</th>\n",
       "      <td>2021-09-30</td>\n",
       "      <td>1.0</td>\n",
       "      <td>0.0</td>\n",
       "      <td>-0.008403</td>\n",
       "      <td>-0.014230</td>\n",
       "      <td>0.001569</td>\n",
       "      <td>0.016331</td>\n",
       "    </tr>\n",
       "    <tr>\n",
       "      <th>1246</th>\n",
       "      <td>2021-10-01</td>\n",
       "      <td>1.0</td>\n",
       "      <td>1.0</td>\n",
       "      <td>0.019792</td>\n",
       "      <td>-0.020997</td>\n",
       "      <td>-0.011910</td>\n",
       "      <td>0.052060</td>\n",
       "    </tr>\n",
       "    <tr>\n",
       "      <th>1247</th>\n",
       "      <td>2021-10-04</td>\n",
       "      <td>1.0</td>\n",
       "      <td>1.0</td>\n",
       "      <td>0.000797</td>\n",
       "      <td>-0.018097</td>\n",
       "      <td>0.011494</td>\n",
       "      <td>0.101889</td>\n",
       "    </tr>\n",
       "    <tr>\n",
       "      <th>1248</th>\n",
       "      <td>2021-10-05</td>\n",
       "      <td>0.0</td>\n",
       "      <td>1.0</td>\n",
       "      <td>0.005232</td>\n",
       "      <td>0.010922</td>\n",
       "      <td>-0.012988</td>\n",
       "      <td>0.021942</td>\n",
       "    </tr>\n",
       "    <tr>\n",
       "      <th>1249</th>\n",
       "      <td>2021-10-06</td>\n",
       "      <td>1.0</td>\n",
       "      <td>0.0</td>\n",
       "      <td>-0.003790</td>\n",
       "      <td>0.031735</td>\n",
       "      <td>0.010524</td>\n",
       "      <td>0.040954</td>\n",
       "    </tr>\n",
       "  </tbody>\n",
       "</table>\n",
       "</div>"
      ],
      "text/plain": [
       "           Date  gold_dir  gold_dir_lag  Gold_Change%_lag  USB_Change%_lag  \\\n",
       "1245 2021-09-30       1.0           0.0         -0.008403        -0.014230   \n",
       "1246 2021-10-01       1.0           1.0          0.019792        -0.020997   \n",
       "1247 2021-10-04       1.0           1.0          0.000797        -0.018097   \n",
       "1248 2021-10-05       0.0           1.0          0.005232         0.010922   \n",
       "1249 2021-10-06       1.0           0.0         -0.003790         0.031735   \n",
       "\n",
       "      Snp_Change%_lag  ETH_Change%_lag  \n",
       "1245         0.001569         0.016331  \n",
       "1246        -0.011910         0.052060  \n",
       "1247         0.011494         0.101889  \n",
       "1248        -0.012988         0.021942  \n",
       "1249         0.010524         0.040954  "
      ]
     },
     "execution_count": 32,
     "metadata": {},
     "output_type": "execute_result"
    }
   ],
   "source": [
    "gold_3 = gold_2.merge(eth_data_clean, how='left', on='Date')\n",
    "gold_3 = gold_3.dropna()\n",
    "gold_3 = gold_3.reset_index(drop=True)\n",
    "\n",
    "gold_3 = gold_3[['Date', 'gold_dir', 'gold_dir_lag', 'Gold_Change%_lag', 'USB_Change%_lag',  'Snp_Change%_lag', 'ETH_Change%_lag']]\n",
    "gold_3.tail()"
   ]
  },
  {
   "cell_type": "code",
   "execution_count": 33,
   "id": "068a3861",
   "metadata": {},
   "outputs": [],
   "source": [
    "train = gold_3.iloc[:-100, :]\n",
    "test = gold_3.iloc[-100:, :]\n",
    "train.tail(), test.head()\n",
    "\n",
    "x_train = train[['gold_dir_lag', 'Gold_Change%_lag',  'USB_Change%_lag',  'Snp_Change%_lag', 'ETH_Change%_lag']]\n",
    "y_train = train['gold_dir']\n",
    "x_test = test[['gold_dir_lag', 'Gold_Change%_lag',  'USB_Change%_lag',  'Snp_Change%_lag', 'ETH_Change%_lag']]\n",
    "y_test = test['gold_dir']\n",
    "\n",
    "# x_train, y_train"
   ]
  },
  {
   "cell_type": "code",
   "execution_count": 34,
   "id": "7084c48d",
   "metadata": {},
   "outputs": [
    {
     "data": {
      "text/plain": [
       "LogisticRegression(max_iter=1000)"
      ]
     },
     "execution_count": 34,
     "metadata": {},
     "output_type": "execute_result"
    }
   ],
   "source": [
    "from sklearn.linear_model import LogisticRegression\n",
    "classifier = LogisticRegression(max_iter=1000)\n",
    "classifier"
   ]
  },
  {
   "cell_type": "code",
   "execution_count": 35,
   "id": "7b96f5af",
   "metadata": {},
   "outputs": [],
   "source": [
    "classifier = classifier.fit(x_train, y_train)"
   ]
  },
  {
   "cell_type": "code",
   "execution_count": 36,
   "id": "b0072a7b",
   "metadata": {},
   "outputs": [
    {
     "name": "stdout",
     "output_type": "stream",
     "text": [
      "Training Data Score: 0.5539130434782609\n",
      "Testing Data Score: 0.56\n"
     ]
    }
   ],
   "source": [
    "print(f\"Training Data Score: {classifier.score(x_train, y_train)}\")\n",
    "print(f\"Testing Data Score: {classifier.score(x_test, y_test)}\")"
   ]
  },
  {
   "cell_type": "code",
   "execution_count": 37,
   "id": "6ac40272",
   "metadata": {},
   "outputs": [
    {
     "name": "stdout",
     "output_type": "stream",
     "text": [
      "First 10 Predictions: [1. 0. 1. 0. 1. 1. 1. 1. 1. 1.]\n",
      "First 10 Actual Data: [1.0, 1.0, 1.0, 1.0, 0.0, 1.0, 1.0, 1.0, 0.0, 1.0]\n"
     ]
    }
   ],
   "source": [
    "predictions = classifier.predict(x_test)\n",
    "print(f\"First 10 Predictions: {predictions[:10]}\")\n",
    "print(f\"First 10 Actual Data: {y_test[:10].tolist()}\")"
   ]
  },
  {
   "cell_type": "code",
   "execution_count": 38,
   "id": "b42a9a46",
   "metadata": {},
   "outputs": [
    {
     "data": {
      "text/html": [
       "<div>\n",
       "<style scoped>\n",
       "    .dataframe tbody tr th:only-of-type {\n",
       "        vertical-align: middle;\n",
       "    }\n",
       "\n",
       "    .dataframe tbody tr th {\n",
       "        vertical-align: top;\n",
       "    }\n",
       "\n",
       "    .dataframe thead th {\n",
       "        text-align: right;\n",
       "    }\n",
       "</style>\n",
       "<table border=\"1\" class=\"dataframe\">\n",
       "  <thead>\n",
       "    <tr style=\"text-align: right;\">\n",
       "      <th></th>\n",
       "      <th>Prediction</th>\n",
       "      <th>Actual</th>\n",
       "    </tr>\n",
       "  </thead>\n",
       "  <tbody>\n",
       "    <tr>\n",
       "      <th>0</th>\n",
       "      <td>1.0</td>\n",
       "      <td>1.0</td>\n",
       "    </tr>\n",
       "    <tr>\n",
       "      <th>1</th>\n",
       "      <td>0.0</td>\n",
       "      <td>1.0</td>\n",
       "    </tr>\n",
       "    <tr>\n",
       "      <th>2</th>\n",
       "      <td>1.0</td>\n",
       "      <td>1.0</td>\n",
       "    </tr>\n",
       "    <tr>\n",
       "      <th>3</th>\n",
       "      <td>0.0</td>\n",
       "      <td>1.0</td>\n",
       "    </tr>\n",
       "    <tr>\n",
       "      <th>4</th>\n",
       "      <td>1.0</td>\n",
       "      <td>0.0</td>\n",
       "    </tr>\n",
       "    <tr>\n",
       "      <th>...</th>\n",
       "      <td>...</td>\n",
       "      <td>...</td>\n",
       "    </tr>\n",
       "    <tr>\n",
       "      <th>95</th>\n",
       "      <td>1.0</td>\n",
       "      <td>1.0</td>\n",
       "    </tr>\n",
       "    <tr>\n",
       "      <th>96</th>\n",
       "      <td>1.0</td>\n",
       "      <td>1.0</td>\n",
       "    </tr>\n",
       "    <tr>\n",
       "      <th>97</th>\n",
       "      <td>1.0</td>\n",
       "      <td>1.0</td>\n",
       "    </tr>\n",
       "    <tr>\n",
       "      <th>98</th>\n",
       "      <td>1.0</td>\n",
       "      <td>0.0</td>\n",
       "    </tr>\n",
       "    <tr>\n",
       "      <th>99</th>\n",
       "      <td>1.0</td>\n",
       "      <td>1.0</td>\n",
       "    </tr>\n",
       "  </tbody>\n",
       "</table>\n",
       "<p>100 rows × 2 columns</p>\n",
       "</div>"
      ],
      "text/plain": [
       "    Prediction  Actual\n",
       "0          1.0     1.0\n",
       "1          0.0     1.0\n",
       "2          1.0     1.0\n",
       "3          0.0     1.0\n",
       "4          1.0     0.0\n",
       "..         ...     ...\n",
       "95         1.0     1.0\n",
       "96         1.0     1.0\n",
       "97         1.0     1.0\n",
       "98         1.0     0.0\n",
       "99         1.0     1.0\n",
       "\n",
       "[100 rows x 2 columns]"
      ]
     },
     "execution_count": 38,
     "metadata": {},
     "output_type": "execute_result"
    }
   ],
   "source": [
    "pd.DataFrame({\"Prediction\": predictions, \"Actual\": y_test}).reset_index(drop=True)"
   ]
  },
  {
   "cell_type": "code",
   "execution_count": 39,
   "id": "4ba07cf7",
   "metadata": {},
   "outputs": [],
   "source": [
    "features = x_train.columns.tolist()\n",
    "selector = RFECV(estimator=classifier, cv=5, step=1)\n",
    "_ = selector.fit(x_train, y_train)"
   ]
  },
  {
   "cell_type": "code",
   "execution_count": 40,
   "id": "627addf3",
   "metadata": {},
   "outputs": [
    {
     "data": {
      "text/html": [
       "<div>\n",
       "<style scoped>\n",
       "    .dataframe tbody tr th:only-of-type {\n",
       "        vertical-align: middle;\n",
       "    }\n",
       "\n",
       "    .dataframe tbody tr th {\n",
       "        vertical-align: top;\n",
       "    }\n",
       "\n",
       "    .dataframe thead th {\n",
       "        text-align: right;\n",
       "    }\n",
       "</style>\n",
       "<table border=\"1\" class=\"dataframe\">\n",
       "  <thead>\n",
       "    <tr style=\"text-align: right;\">\n",
       "      <th></th>\n",
       "      <th>Ranking</th>\n",
       "    </tr>\n",
       "    <tr>\n",
       "      <th>Feature</th>\n",
       "      <th></th>\n",
       "    </tr>\n",
       "  </thead>\n",
       "  <tbody>\n",
       "    <tr>\n",
       "      <th>ETH_Change%_lag</th>\n",
       "      <td>1</td>\n",
       "    </tr>\n",
       "    <tr>\n",
       "      <th>USB_Change%_lag</th>\n",
       "      <td>1</td>\n",
       "    </tr>\n",
       "    <tr>\n",
       "      <th>gold_dir_lag</th>\n",
       "      <td>2</td>\n",
       "    </tr>\n",
       "    <tr>\n",
       "      <th>Gold_Change%_lag</th>\n",
       "      <td>3</td>\n",
       "    </tr>\n",
       "    <tr>\n",
       "      <th>Snp_Change%_lag</th>\n",
       "      <td>4</td>\n",
       "    </tr>\n",
       "  </tbody>\n",
       "</table>\n",
       "</div>"
      ],
      "text/plain": [
       "                  Ranking\n",
       "Feature                  \n",
       "ETH_Change%_lag         1\n",
       "USB_Change%_lag         1\n",
       "gold_dir_lag            2\n",
       "Gold_Change%_lag        3\n",
       "Snp_Change%_lag         4"
      ]
     },
     "execution_count": 40,
     "metadata": {},
     "output_type": "execute_result"
    }
   ],
   "source": [
    "selected_features = sorted(zip(selector.ranking_, features))\n",
    "features_rank = pd.DataFrame(selected_features, columns=['Ranking', 'Feature'])\n",
    "features_rank = features_rank.set_index('Feature')\n",
    "features_rank"
   ]
  },
  {
   "cell_type": "code",
   "execution_count": 41,
   "id": "fdf4302d",
   "metadata": {},
   "outputs": [],
   "source": [
    "ranked_features = []\n",
    "for s in selected_features:\n",
    "    if s[0] < 3:\n",
    "        ranked_features.append(s[1])"
   ]
  },
  {
   "cell_type": "code",
   "execution_count": 42,
   "id": "14f5bbe6",
   "metadata": {},
   "outputs": [
    {
     "data": {
      "text/plain": [
       "3"
      ]
     },
     "execution_count": 42,
     "metadata": {},
     "output_type": "execute_result"
    }
   ],
   "source": [
    "len(ranked_features)"
   ]
  },
  {
   "cell_type": "code",
   "execution_count": 43,
   "id": "86b24797",
   "metadata": {},
   "outputs": [],
   "source": [
    "x_train_select = x_train[ranked_features]\n",
    "x_test_select = x_test[ranked_features]"
   ]
  },
  {
   "cell_type": "code",
   "execution_count": 44,
   "id": "cc810e40",
   "metadata": {},
   "outputs": [
    {
     "name": "stdout",
     "output_type": "stream",
     "text": [
      "Training Data Score: 0.5547826086956522\n",
      "Testing Data Score: 0.56\n"
     ]
    }
   ],
   "source": [
    "classifier_1 = LogisticRegression(solver='newton-cg', multi_class='auto')\n",
    "classifier_1.fit(x_train_select, y_train)\n",
    "\n",
    "print(f\"Training Data Score: {classifier_1.score(x_train_select, y_train)}\")\n",
    "print(f\"Testing Data Score: {classifier_1.score(x_test_select, y_test)}\")"
   ]
  },
  {
   "cell_type": "markdown",
   "id": "d9ed91e9",
   "metadata": {},
   "source": [
    "# Hyperparameter Tuning"
   ]
  },
  {
   "cell_type": "code",
   "execution_count": 45,
   "id": "6b1d483f",
   "metadata": {},
   "outputs": [],
   "source": [
    "classifier_2 = LogisticRegression(multi_class='auto')\n",
    "\n",
    "param_grid = {'penalty': [\"l1\", \"l2\", 'elasticnet'],\n",
    "              'solver': ['newton-cg','lbfgs','saga'],\n",
    "             'C': [1,10,100]}\n",
    "grid = GridSearchCV(classifier_2, param_grid, n_jobs=-2)"
   ]
  },
  {
   "cell_type": "code",
   "execution_count": 46,
   "id": "8c74c6a6",
   "metadata": {},
   "outputs": [
    {
     "name": "stderr",
     "output_type": "stream",
     "text": [
      "/Users/jsb/opt/anaconda3/envs/PythonAdv/lib/python3.6/site-packages/sklearn/model_selection/_search.py:925: UserWarning: One or more of the test scores are non-finite: [       nan        nan 0.54782609 0.54608696 0.54608696 0.54608696\n",
      "        nan        nan        nan        nan        nan 0.54956522\n",
      " 0.55217391 0.55217391 0.55217391        nan        nan        nan\n",
      "        nan        nan 0.55043478 0.55043478 0.55043478 0.55043478\n",
      "        nan        nan        nan]\n",
      "  category=UserWarning\n"
     ]
    }
   ],
   "source": [
    "_ = grid.fit(x_train_select, y_train)"
   ]
  },
  {
   "cell_type": "code",
   "execution_count": 47,
   "id": "c5894aca",
   "metadata": {},
   "outputs": [
    {
     "name": "stdout",
     "output_type": "stream",
     "text": [
      "Training Data Score: 55.478 %\n",
      "Testting Data Score: 54.0 %\n"
     ]
    }
   ],
   "source": [
    "penalty = grid.best_params_['penalty']\n",
    "solver = grid.best_params_['solver']\n",
    "C = grid.best_params_['C']\n",
    "\n",
    "#tuned Model\n",
    "\n",
    "model_tuned = LogisticRegression(multi_class='auto', penalty=penalty, solver=solver, C=C)\n",
    "model_tuned.fit(x_train_select, y_train)\n",
    "\n",
    "classifier_2_training_score = round(model_tuned.score(x_train_select, y_train)*100,3)\n",
    "classifier_2_test_score = round(model_tuned.score(x_test_select, y_test)*100,3)\n",
    "\n",
    "print(f\"Training Data Score: {classifier_2_training_score} %\")\n",
    "print(f\"Testting Data Score: {classifier_2_test_score} %\")"
   ]
  },
  {
   "cell_type": "markdown",
   "id": "1465b276",
   "metadata": {},
   "source": [
    "# Randon Forest"
   ]
  },
  {
   "cell_type": "code",
   "execution_count": null,
   "id": "ebbf1dfb",
   "metadata": {},
   "outputs": [],
   "source": []
  },
  {
   "cell_type": "code",
   "execution_count": 48,
   "id": "adddcb6b",
   "metadata": {},
   "outputs": [],
   "source": [
    "from sklearn.ensemble import RandomForestClassifier\n",
    "rf = RandomForestClassifier(n_estimators=1000, random_state=42)\n",
    "param_grid = {'max_features':['auto', 'sqrt', 'log2'],\n",
    "           'class_weight':['balanced', 'balanced_subsample'],\n",
    "             'criterion':['gini', 'entropy']}\n",
    "\n",
    "grid = GridSearchCV(rf, param_grid, n_jobs=-1)"
   ]
  },
  {
   "cell_type": "code",
   "execution_count": 49,
   "id": "981015bb",
   "metadata": {},
   "outputs": [],
   "source": [
    "_ = grid.fit(x_train_select, y_train)"
   ]
  },
  {
   "cell_type": "code",
   "execution_count": 50,
   "id": "33ea77ab",
   "metadata": {},
   "outputs": [],
   "source": [
    "max_features = grid.best_params_['max_features']\n",
    "class_weight = grid.best_params_['class_weight']\n",
    "criterion = grid.best_params_['criterion']"
   ]
  },
  {
   "cell_type": "code",
   "execution_count": 51,
   "id": "3b5dea91",
   "metadata": {},
   "outputs": [
    {
     "name": "stdout",
     "output_type": "stream",
     "text": [
      "Training Data Score: 59.0 %\n",
      "Testting Data Score: 59.0 %\n"
     ]
    }
   ],
   "source": [
    "tuned_model = RandomForestClassifier(n_estimators=1000, max_features=max_features, class_weight=class_weight, criterion=criterion, random_state=42)\n",
    "tuned_model.fit(x_train_select, y_train)\n",
    "rf_training_score = round(tuned_model.score(x_train_select, y_train)*100,3)\n",
    "rf_test_score = round(tuned_model.score(x_test_select, y_test)*100,3)\n",
    "\n",
    "print(f\"Training Data Score: {rf_test_score} %\")\n",
    "print(f\"Testting Data Score: {rf_test_score} %\")"
   ]
  },
  {
   "cell_type": "code",
   "execution_count": 52,
   "id": "9b48c7e1",
   "metadata": {},
   "outputs": [],
   "source": [
    "# sorted(zip(grid.feature_importances_, ranked_features), reverse=True)"
   ]
  },
  {
   "cell_type": "code",
   "execution_count": 53,
   "id": "3f6f762b",
   "metadata": {},
   "outputs": [
    {
     "name": "stdout",
     "output_type": "stream",
     "text": [
      "n\tscore\n",
      "--------------------\n",
      "5 \t 0.49\n",
      "10 \t 0.51\n",
      "50 \t 0.53\n",
      "100 \t 0.56\n",
      "200 \t 0.55\n",
      "400 \t 0.57\n",
      "500 \t 0.57\n",
      "700 \t 0.57\n",
      "1000 \t 0.58\n"
     ]
    }
   ],
   "source": [
    "print(\"n\\tscore\")\n",
    "print(\"-\"*20)\n",
    "for n in [5,10,50,100,200,400,500,700,1000]:\n",
    "    rf = RandomForestClassifier(n_estimators=n, random_state=42)\n",
    "    rf = rf.fit(x_train_select, y_train)\n",
    "    print(n,\"\\t\",rf.score(x_test_select, y_test))"
   ]
  },
  {
   "cell_type": "code",
   "execution_count": 54,
   "id": "92583611",
   "metadata": {},
   "outputs": [
    {
     "data": {
      "text/plain": [
       "0.59"
      ]
     },
     "execution_count": 54,
     "metadata": {},
     "output_type": "execute_result"
    }
   ],
   "source": [
    "from sklearn.ensemble import RandomForestClassifier\n",
    "rfr = RandomForestClassifier(n_estimators=1000, random_state=22)\n",
    "rfr = rfr.fit(x_train_select, y_train)\n",
    "rfr.score(x_test_select, y_test)"
   ]
  },
  {
   "cell_type": "code",
   "execution_count": 55,
   "id": "ef93850f",
   "metadata": {},
   "outputs": [],
   "source": [
    "from sklearn.linear_model import LinearRegression\n",
    "model_l = LinearRegression()"
   ]
  },
  {
   "cell_type": "code",
   "execution_count": 56,
   "id": "222c40b8",
   "metadata": {},
   "outputs": [
    {
     "name": "stdout",
     "output_type": "stream",
     "text": [
      "R2 Score: 0.011510179142137367\n",
      "Testing Score: 0.013710935391888834\n"
     ]
    }
   ],
   "source": [
    "model_l.fit(x_train, y_train)\n",
    "\n",
    "training_score = model_l.score(x_train, y_train)\n",
    "testing_score = model_l.score(x_test, y_test)\n",
    "print(f\"R2 Score: {training_score}\")\n",
    "print(f\"Testing Score: {testing_score}\")"
   ]
  },
  {
   "cell_type": "code",
   "execution_count": 57,
   "id": "1fca6753",
   "metadata": {},
   "outputs": [],
   "source": [
    "from sklearn.svm import SVC\n",
    "model_svc = SVC(kernel='linear',)\n",
    "model_svc = model_svc.fit(x_train, y_train)"
   ]
  },
  {
   "cell_type": "code",
   "execution_count": 58,
   "id": "5a52c35b",
   "metadata": {},
   "outputs": [
    {
     "name": "stdout",
     "output_type": "stream",
     "text": [
      "Training Score: 0.5495652173913044\n",
      "Testing Score: 0.57\n"
     ]
    }
   ],
   "source": [
    "print(f\"Training Score: {model_svc.score(x_train, y_train)}\")\n",
    "print(f\"Testing Score: {model_svc.score(x_test,y_test)}\")"
   ]
  },
  {
   "cell_type": "code",
   "execution_count": 59,
   "id": "9c1228f9",
   "metadata": {},
   "outputs": [
    {
     "name": "stdout",
     "output_type": "stream",
     "text": [
      "First 10 Predictions: [1. 1. 1. 1. 1. 1. 1. 1. 1. 1. 1. 1. 1. 1. 1. 1. 1. 1. 1. 1. 1. 1. 1. 1.\n",
      " 1. 1. 1. 1. 1. 1. 1. 1. 1. 1. 1. 1. 1. 1. 1. 1. 1. 1. 1. 1. 1. 1. 1. 1.\n",
      " 1. 1. 1. 1. 1. 1. 1. 1. 1. 1. 1. 1. 1. 1. 1. 1. 1. 1. 1. 1. 1. 1. 1. 1.\n",
      " 1. 1. 1. 1. 1. 1. 1. 1. 1. 1. 1. 1. 1. 1. 1. 1. 1. 1.]\n",
      "First 10 Actual Data: [1.0, 1.0, 1.0, 1.0, 0.0, 1.0, 1.0, 1.0, 0.0, 1.0]\n"
     ]
    }
   ],
   "source": [
    "predictions = model_svc.predict(x_test)\n",
    "print(f\"First 10 Predictions: {predictions[:-10]}\")\n",
    "print(f\"First 10 Actual Data: {y_test[:10].tolist()}\")"
   ]
  },
  {
   "cell_type": "code",
   "execution_count": 60,
   "id": "4d746857",
   "metadata": {},
   "outputs": [],
   "source": [
    "from numpy import loadtxt\n",
    "from xgboost import XGBClassifier, XGBRegressor\n",
    "from sklearn.metrics import accuracy_score"
   ]
  },
  {
   "cell_type": "code",
   "execution_count": 61,
   "id": "03544aa8",
   "metadata": {},
   "outputs": [
    {
     "data": {
      "text/plain": [
       "XGBRegressor(base_score=0.5, booster='gbtree', colsample_bylevel=1,\n",
       "             colsample_bynode=1, colsample_bytree=1, enable_categorical=False,\n",
       "             gamma=0, gpu_id=-1, importance_type=None,\n",
       "             interaction_constraints='', learning_rate=0.300000012,\n",
       "             max_delta_step=0, max_depth=6, min_child_weight=1, missing=nan,\n",
       "             monotone_constraints='()', n_estimators=100, n_jobs=1,\n",
       "             num_parallel_tree=1, predictor='auto', random_state=0, reg_alpha=0,\n",
       "             reg_lambda=1, scale_pos_weight=1, subsample=1, tree_method='exact',\n",
       "             validate_parameters=1, verbosity=None)"
      ]
     },
     "execution_count": 61,
     "metadata": {},
     "output_type": "execute_result"
    }
   ],
   "source": [
    "# xg_model = XGBClassifier()\n",
    "xg_model = XGBRegressor()\n",
    "xg_model.fit(x_train, y_train, eval_metric=\"logloss\", verbose=True)\n"
   ]
  },
  {
   "cell_type": "code",
   "execution_count": 62,
   "id": "419963c6",
   "metadata": {},
   "outputs": [
    {
     "data": {
      "text/plain": [
       "0     0.0\n",
       "1     1.0\n",
       "2     0.0\n",
       "3     0.0\n",
       "4     0.0\n",
       "     ... \n",
       "95    1.0\n",
       "96    1.0\n",
       "97    0.0\n",
       "98    0.0\n",
       "99    1.0\n",
       "Length: 100, dtype: float64"
      ]
     },
     "execution_count": 62,
     "metadata": {},
     "output_type": "execute_result"
    }
   ],
   "source": [
    "xg_predict = xg_model.predict(x_test)\n",
    "# xg_model.score(x_test, y_test)\n",
    "# xg_predit = xg_predict.tolist()\n",
    "xg_predict = pd.Series(xg_predict)\n",
    "xg_predict = (xg_predict>0.5).astype(float)\n",
    "xg_predict"
   ]
  },
  {
   "cell_type": "code",
   "execution_count": 63,
   "id": "3773b8c8",
   "metadata": {},
   "outputs": [
    {
     "data": {
      "text/plain": [
       "array([[18, 25],\n",
       "       [25, 32]])"
      ]
     },
     "execution_count": 63,
     "metadata": {},
     "output_type": "execute_result"
    }
   ],
   "source": [
    "from sklearn.metrics import confusion_matrix\n",
    "\n",
    "confusion_matrix(y_test, xg_predict)"
   ]
  },
  {
   "cell_type": "code",
   "execution_count": 64,
   "id": "7ff66404",
   "metadata": {},
   "outputs": [
    {
     "data": {
      "text/plain": [
       "array([[ 0, 43],\n",
       "       [ 0, 57]])"
      ]
     },
     "execution_count": 64,
     "metadata": {},
     "output_type": "execute_result"
    }
   ],
   "source": [
    "model_svc.predict(x_test)\n",
    "\n",
    "confusion_matrix(y_test, model_svc.predict(x_test))"
   ]
  },
  {
   "cell_type": "code",
   "execution_count": 65,
   "id": "8ca57cf8",
   "metadata": {},
   "outputs": [
    {
     "data": {
      "text/plain": [
       "array([[20, 23],\n",
       "       [18, 39]])"
      ]
     },
     "execution_count": 65,
     "metadata": {},
     "output_type": "execute_result"
    }
   ],
   "source": [
    "\n",
    "confusion_matrix(y_test, rfr.predict(x_test_select))"
   ]
  },
  {
   "cell_type": "code",
   "execution_count": 66,
   "id": "4d7164c1",
   "metadata": {},
   "outputs": [
    {
     "data": {
      "text/plain": [
       "array([[ 7, 36],\n",
       "       [10, 47]])"
      ]
     },
     "execution_count": 66,
     "metadata": {},
     "output_type": "execute_result"
    }
   ],
   "source": [
    "confusion_matrix(y_test, model_tuned.predict(x_test_select))"
   ]
  },
  {
   "cell_type": "code",
   "execution_count": 67,
   "id": "a11f65e8",
   "metadata": {},
   "outputs": [
    {
     "data": {
      "text/plain": [
       "True_Value    26\n",
       "XG_pred       26\n",
       "RF_pred       26\n",
       "trade         26\n",
       "dtype: int64"
      ]
     },
     "execution_count": 67,
     "metadata": {},
     "output_type": "execute_result"
    }
   ],
   "source": [
    "type(rfr.predict(x_test_select))\n",
    "y_test2 = y_test.reset_index(drop=True)\n",
    "data = {'True_Value': y_test2.tolist(), 'XG_pred': xg_predict.tolist(), 'RF_pred': rfr.predict(x_test_select).tolist() }\n",
    "pred_df = pd.DataFrame(data=data)\n",
    "pred_df.head()   \n",
    "\n",
    "pred_df['trade'] = np.where((pred_df['XG_pred']==0) & (pred_df['RF_pred']==0), -1, \n",
    "                            np.where((pred_df['XG_pred']==1) & (pred_df['RF_pred']==1), 1, 0))\n",
    "pred_df\n",
    "\n",
    "pred_df[(pred_df['True_Value']==1) & (pred_df['trade']==1)].count()"
   ]
  },
  {
   "cell_type": "code",
   "execution_count": 68,
   "id": "745fee2c",
   "metadata": {
    "scrolled": true
   },
   "outputs": [
    {
     "data": {
      "text/plain": [
       "True_Value    18\n",
       "XG_pred       18\n",
       "RF_pred       18\n",
       "trade         18\n",
       "dtype: int64"
      ]
     },
     "execution_count": 68,
     "metadata": {},
     "output_type": "execute_result"
    }
   ],
   "source": [
    "pred_df[(pred_df['True_Value']==0) & (pred_df['trade']==0)].count()"
   ]
  },
  {
   "cell_type": "code",
   "execution_count": 69,
   "id": "7cd9928a",
   "metadata": {},
   "outputs": [
    {
     "data": {
      "text/plain": [
       "True_Value    12\n",
       "XG_pred       12\n",
       "RF_pred       12\n",
       "trade         12\n",
       "dtype: int64"
      ]
     },
     "execution_count": 69,
     "metadata": {},
     "output_type": "execute_result"
    }
   ],
   "source": [
    "pred_df[(pred_df['True_Value']==1) & (pred_df['trade']==-1)].count()"
   ]
  },
  {
   "cell_type": "code",
   "execution_count": 70,
   "id": "9775c19c",
   "metadata": {},
   "outputs": [
    {
     "data": {
      "text/plain": [
       "True_Value    15\n",
       "XG_pred       15\n",
       "RF_pred       15\n",
       "trade         15\n",
       "dtype: int64"
      ]
     },
     "execution_count": 70,
     "metadata": {},
     "output_type": "execute_result"
    }
   ],
   "source": [
    "pred_df[(pred_df['True_Value']==0) & (pred_df['trade']==1)].count()"
   ]
  },
  {
   "cell_type": "code",
   "execution_count": 71,
   "id": "e831940e",
   "metadata": {},
   "outputs": [
    {
     "data": {
      "text/plain": [
       "0.6197183098591549"
      ]
     },
     "execution_count": 71,
     "metadata": {},
     "output_type": "execute_result"
    }
   ],
   "source": [
    "(26+18)/(26+18+12+15)"
   ]
  },
  {
   "cell_type": "code",
   "execution_count": 72,
   "id": "2430490f",
   "metadata": {},
   "outputs": [
    {
     "name": "stdout",
     "output_type": "stream",
     "text": [
      "10 \n",
      " [[21 36]\n",
      " [41 32]]\n",
      "accuracy\n",
      "0.4077\n",
      "20 \n",
      " [[21 36]\n",
      " [35 38]]\n",
      "accuracy\n",
      "0.4538\n",
      "30 \n",
      " [[21 36]\n",
      " [34 39]]\n",
      "accuracy\n",
      "0.4615\n",
      "40 \n",
      " [[25 32]\n",
      " [33 40]]\n",
      "accuracy\n",
      "0.5\n",
      "50 \n",
      " [[20 37]\n",
      " [34 39]]\n",
      "accuracy\n",
      "0.4538\n",
      "60 \n",
      " [[28 29]\n",
      " [40 33]]\n",
      "accuracy\n",
      "0.4692\n",
      "70 \n",
      " [[24 33]\n",
      " [36 37]]\n",
      "accuracy\n",
      "0.4692\n",
      "80 \n",
      " [[25 32]\n",
      " [38 35]]\n",
      "accuracy\n",
      "0.4615\n",
      "90 \n",
      " [[28 29]\n",
      " [38 35]]\n",
      "accuracy\n",
      "0.4846\n",
      "100 \n",
      " [[25 32]\n",
      " [40 33]]\n",
      "accuracy\n",
      "0.4462\n",
      "110 \n",
      " [[27 30]\n",
      " [33 40]]\n",
      "accuracy\n",
      "0.5154\n",
      "120 \n",
      " [[27 30]\n",
      " [33 40]]\n",
      "accuracy\n",
      "0.5154\n",
      "130 \n",
      " [[23 34]\n",
      " [38 35]]\n",
      "accuracy\n",
      "0.4462\n",
      "140 \n",
      " [[29 28]\n",
      " [34 39]]\n",
      "accuracy\n",
      "0.5231\n",
      "150 \n",
      " [[24 33]\n",
      " [35 38]]\n",
      "accuracy\n",
      "0.4769\n",
      "160 \n",
      " [[25 32]\n",
      " [32 41]]\n",
      "accuracy\n",
      "0.5077\n",
      "170 \n",
      " [[26 31]\n",
      " [30 43]]\n",
      "accuracy\n",
      "0.5308\n",
      "180 \n",
      " [[22 35]\n",
      " [32 41]]\n",
      "accuracy\n",
      "0.4846\n",
      "190 \n",
      " [[22 35]\n",
      " [33 40]]\n",
      "accuracy\n",
      "0.4769\n",
      "200 \n",
      " [[30 27]\n",
      " [38 35]]\n",
      "accuracy\n",
      "0.5\n",
      "210 \n",
      " [[26 31]\n",
      " [37 36]]\n",
      "accuracy\n",
      "0.4769\n",
      "220 \n",
      " [[27 30]\n",
      " [33 40]]\n",
      "accuracy\n",
      "0.5154\n",
      "230 \n",
      " [[32 25]\n",
      " [33 40]]\n",
      "accuracy\n",
      "0.5538\n",
      "240 \n",
      " [[30 27]\n",
      " [30 43]]\n",
      "accuracy\n",
      "0.5615\n",
      "250 \n",
      " [[26 31]\n",
      " [31 42]]\n",
      "accuracy\n",
      "0.5231\n",
      "260 \n",
      " [[28 29]\n",
      " [31 42]]\n",
      "accuracy\n",
      "0.5385\n",
      "270 \n",
      " [[31 26]\n",
      " [28 45]]\n",
      "accuracy\n",
      "0.5846\n",
      "280 \n",
      " [[33 24]\n",
      " [32 41]]\n",
      "accuracy\n",
      "0.5692\n",
      "290 \n",
      " [[22 35]\n",
      " [31 42]]\n",
      "accuracy\n",
      "0.4923\n",
      "300 \n",
      " [[24 33]\n",
      " [30 43]]\n",
      "accuracy\n",
      "0.5154\n",
      "310 \n",
      " [[29 28]\n",
      " [29 44]]\n",
      "accuracy\n",
      "0.5615\n",
      "320 \n",
      " [[26 31]\n",
      " [34 39]]\n",
      "accuracy\n",
      "0.5\n",
      "330 \n",
      " [[20 37]\n",
      " [28 45]]\n",
      "accuracy\n",
      "0.5\n",
      "340 \n",
      " [[22 35]\n",
      " [29 44]]\n",
      "accuracy\n",
      "0.5077\n",
      "350 \n",
      " [[21 36]\n",
      " [26 47]]\n",
      "accuracy\n",
      "0.5231\n",
      "360 \n",
      " [[23 34]\n",
      " [29 44]]\n",
      "accuracy\n",
      "0.5154\n",
      "370 \n",
      " [[24 33]\n",
      " [30 43]]\n",
      "accuracy\n",
      "0.5154\n",
      "380 \n",
      " [[19 38]\n",
      " [32 41]]\n",
      "accuracy\n",
      "0.4615\n",
      "390 \n",
      " [[22 35]\n",
      " [27 46]]\n",
      "accuracy\n",
      "0.5231\n",
      "400 \n",
      " [[19 38]\n",
      " [29 44]]\n",
      "accuracy\n",
      "0.4846\n",
      "410 \n",
      " [[22 35]\n",
      " [26 47]]\n",
      "accuracy\n",
      "0.5308\n",
      "420 \n",
      " [[18 39]\n",
      " [31 42]]\n",
      "accuracy\n",
      "0.4615\n",
      "430 \n",
      " [[25 32]\n",
      " [28 45]]\n",
      "accuracy\n",
      "0.5385\n",
      "440 \n",
      " [[26 31]\n",
      " [26 47]]\n",
      "accuracy\n",
      "0.5615\n",
      "450 \n",
      " [[20 37]\n",
      " [26 47]]\n",
      "accuracy\n",
      "0.5154\n",
      "460 \n",
      " [[21 36]\n",
      " [27 46]]\n",
      "accuracy\n",
      "0.5154\n",
      "470 \n",
      " [[20 37]\n",
      " [29 44]]\n",
      "accuracy\n",
      "0.4923\n",
      "480 \n",
      " [[23 34]\n",
      " [26 47]]\n",
      "accuracy\n",
      "0.5385\n",
      "490 \n",
      " [[18 39]\n",
      " [29 44]]\n",
      "accuracy\n",
      "0.4769\n",
      "500 \n",
      " [[20 37]\n",
      " [26 47]]\n",
      "accuracy\n",
      "0.5154\n",
      "510 \n",
      " [[19 38]\n",
      " [29 44]]\n",
      "accuracy\n",
      "0.4846\n",
      "520 \n",
      " [[22 35]\n",
      " [29 44]]\n",
      "accuracy\n",
      "0.5077\n",
      "530 \n",
      " [[19 38]\n",
      " [31 42]]\n",
      "accuracy\n",
      "0.4692\n",
      "540 \n",
      " [[19 38]\n",
      " [27 46]]\n",
      "accuracy\n",
      "0.5\n",
      "550 \n",
      " [[23 34]\n",
      " [25 48]]\n",
      "accuracy\n",
      "0.5462\n",
      "560 \n",
      " [[26 31]\n",
      " [26 47]]\n",
      "accuracy\n",
      "0.5615\n",
      "570 \n",
      " [[20 37]\n",
      " [29 44]]\n",
      "accuracy\n",
      "0.4923\n",
      "580 \n",
      " [[18 39]\n",
      " [22 51]]\n",
      "accuracy\n",
      "0.5308\n",
      "590 \n",
      " [[21 36]\n",
      " [27 46]]\n",
      "accuracy\n",
      "0.5154\n",
      "600 \n",
      " [[16 41]\n",
      " [29 44]]\n",
      "accuracy\n",
      "0.4615\n",
      "610 \n",
      " [[23 34]\n",
      " [27 46]]\n",
      "accuracy\n",
      "0.5308\n",
      "620 \n",
      " [[23 34]\n",
      " [24 49]]\n",
      "accuracy\n",
      "0.5538\n",
      "630 \n",
      " [[18 39]\n",
      " [34 39]]\n",
      "accuracy\n",
      "0.4385\n",
      "640 \n",
      " [[23 34]\n",
      " [30 43]]\n",
      "accuracy\n",
      "0.5077\n",
      "650 \n",
      " [[19 38]\n",
      " [32 41]]\n",
      "accuracy\n",
      "0.4615\n",
      "660 \n",
      " [[22 35]\n",
      " [26 47]]\n",
      "accuracy\n",
      "0.5308\n",
      "670 \n",
      " [[20 37]\n",
      " [30 43]]\n",
      "accuracy\n",
      "0.4846\n",
      "680 \n",
      " [[20 37]\n",
      " [26 47]]\n",
      "accuracy\n",
      "0.5154\n",
      "690 \n",
      " [[21 36]\n",
      " [28 45]]\n",
      "accuracy\n",
      "0.5077\n",
      "700 \n",
      " [[19 38]\n",
      " [28 45]]\n",
      "accuracy\n",
      "0.4923\n",
      "710 \n",
      " [[20 37]\n",
      " [26 47]]\n",
      "accuracy\n",
      "0.5154\n",
      "720 \n",
      " [[23 34]\n",
      " [23 50]]\n",
      "accuracy\n",
      "0.5615\n",
      "730 \n",
      " [[19 38]\n",
      " [29 44]]\n",
      "accuracy\n",
      "0.4846\n",
      "740 \n",
      " [[24 33]\n",
      " [28 45]]\n",
      "accuracy\n",
      "0.5308\n",
      "750 \n",
      " [[25 32]\n",
      " [29 44]]\n",
      "accuracy\n",
      "0.5308\n",
      "760 \n",
      " [[22 35]\n",
      " [27 46]]\n",
      "accuracy\n",
      "0.5231\n",
      "770 \n",
      " [[22 35]\n",
      " [28 45]]\n",
      "accuracy\n",
      "0.5154\n",
      "780 \n",
      " [[20 37]\n",
      " [30 43]]\n",
      "accuracy\n",
      "0.4846\n",
      "790 \n",
      " [[24 33]\n",
      " [30 43]]\n",
      "accuracy\n",
      "0.5154\n",
      "800 \n",
      " [[23 34]\n",
      " [28 45]]\n",
      "accuracy\n",
      "0.5231\n",
      "810 \n",
      " [[24 33]\n",
      " [32 41]]\n",
      "accuracy\n",
      "0.5\n",
      "820 \n",
      " [[28 29]\n",
      " [31 42]]\n",
      "accuracy\n",
      "0.5385\n",
      "830 \n",
      " [[24 33]\n",
      " [27 46]]\n",
      "accuracy\n",
      "0.5385\n",
      "840 \n",
      " [[22 35]\n",
      " [32 41]]\n",
      "accuracy\n",
      "0.4846\n",
      "850 \n",
      " [[21 36]\n",
      " [30 43]]\n",
      "accuracy\n",
      "0.4923\n",
      "860 \n",
      " [[21 36]\n",
      " [30 43]]\n",
      "accuracy\n",
      "0.4923\n",
      "870 \n",
      " [[20 37]\n",
      " [28 45]]\n",
      "accuracy\n",
      "0.5\n",
      "880 \n",
      " [[26 31]\n",
      " [32 41]]\n",
      "accuracy\n",
      "0.5154\n",
      "890 \n",
      " [[23 34]\n",
      " [37 36]]\n",
      "accuracy\n",
      "0.4538\n",
      "900 \n",
      " [[24 33]\n",
      " [35 38]]\n",
      "accuracy\n",
      "0.4769\n",
      "910 \n",
      " [[24 33]\n",
      " [32 41]]\n",
      "accuracy\n",
      "0.5\n",
      "920 \n",
      " [[21 36]\n",
      " [27 46]]\n",
      "accuracy\n",
      "0.5154\n",
      "930 \n",
      " [[25 32]\n",
      " [36 37]]\n",
      "accuracy\n",
      "0.4769\n",
      "940 \n",
      " [[21 36]\n",
      " [29 44]]\n",
      "accuracy\n",
      "0.5\n",
      "950 \n",
      " [[24 33]\n",
      " [34 39]]\n",
      "accuracy\n",
      "0.4846\n",
      "960 \n",
      " [[21 36]\n",
      " [33 40]]\n",
      "accuracy\n",
      "0.4692\n",
      "970 \n",
      " [[22 35]\n",
      " [28 45]]\n",
      "accuracy\n",
      "0.5154\n",
      "980 \n",
      " [[20 37]\n",
      " [30 43]]\n",
      "accuracy\n",
      "0.4846\n",
      "990 \n",
      " [[18 39]\n",
      " [33 40]]\n",
      "accuracy\n",
      "0.4462\n"
     ]
    }
   ],
   "source": [
    "# pred_xg = pd.DataFrame(columns=['Date', 'gold_dir', 'XG'])\n",
    "\n",
    "# days_xg = 150\n",
    "prediction_window = 130\n",
    "for days_xg in range(10, 1000,10):\n",
    "    pred_xg = pd.DataFrame(columns=['Date', 'gold_dir', 'XG'])\n",
    "\n",
    "\n",
    "    data_xg = gold_3.iloc[-days_xg-prediction_window:, :]\n",
    "\n",
    "    for i in range(0, prediction_window):\n",
    "        train = data_xg.iloc[i:days_xg+i, :] # Training model\n",
    "        test = data_xg.iloc[days_xg+i : days_xg+i+1, :]\n",
    "    #     print(train.tail(2), test)\n",
    "\n",
    "        x_train = train.drop(columns=['gold_dir', 'Date'])\n",
    "        y_train = train['gold_dir']\n",
    "\n",
    "        x_test = test.drop(columns=['gold_dir', 'Date'])\n",
    "        y_test = test['gold_dir']\n",
    "\n",
    "        xg_m = XGBRegressor()\n",
    "        xg_m2 = xg_m.fit(x_train, y_train)\n",
    "        y_pred_xg = xg_m2.predict(x_test)\n",
    "\n",
    "        df_reg = pd.DataFrame({'XG': y_pred_xg.tolist()})\n",
    "        true_data = test[['Date', 'gold_dir']]\n",
    "        true_data = true_data.reset_index(drop=True)\n",
    "\n",
    "        df = pd.concat([true_data, df_reg], axis=1)\n",
    "        pred_xg = pred_xg.append(df)    \n",
    "\n",
    "    #     break\n",
    "\n",
    "    pred_xg['xg_pred'] = (pred_xg['XG']>0.5).astype(float)\n",
    "    a_xg = confusion_matrix(pred_xg['gold_dir'], pred_xg['xg_pred'])\n",
    "    print(days_xg, \"\\n\", a_xg)\n",
    "    print(\"accuracy\")\n",
    "    print(round ((a_xg[0][0] + a_xg[1][1]) / (a_xg[0][0]+ a_xg[1][1] + a_xg[0][1] + a_xg[1][0]), 4))"
   ]
  },
  {
   "cell_type": "code",
   "execution_count": null,
   "id": "1ced69e4",
   "metadata": {},
   "outputs": [],
   "source": []
  },
  {
   "cell_type": "code",
   "execution_count": 73,
   "id": "ed85eb5f",
   "metadata": {},
   "outputs": [
    {
     "name": "stderr",
     "output_type": "stream",
     "text": [
      "/Users/jsb/opt/anaconda3/envs/PythonAdv/lib/python3.6/site-packages/xgboost/sklearn.py:1224: UserWarning: The use of label encoder in XGBClassifier is deprecated and will be removed in a future release. To remove this warning, do the following: 1) Pass option use_label_encoder=False when constructing XGBClassifier object; and 2) Encode your labels (y) as integers starting with 0, i.e. 0, 1, 2, ..., [num_class - 1].\n",
      "  warnings.warn(label_encoder_deprecation_msg, UserWarning)\n"
     ]
    },
    {
     "data": {
      "text/plain": [
       "XGBClassifier(base_score=0.5, booster='gbtree', colsample_bylevel=1,\n",
       "              colsample_bynode=1, colsample_bytree=1, enable_categorical=False,\n",
       "              gamma=0, gpu_id=-1, importance_type=None,\n",
       "              interaction_constraints='', learning_rate=0.300000012,\n",
       "              max_delta_step=0, max_depth=6, min_child_weight=1, missing=nan,\n",
       "              monotone_constraints='()', n_estimators=100, n_jobs=1,\n",
       "              num_parallel_tree=1, predictor='auto', random_state=0,\n",
       "              reg_alpha=0, reg_lambda=1, scale_pos_weight=1, subsample=1,\n",
       "              tree_method='exact', validate_parameters=1, verbosity=None)"
      ]
     },
     "execution_count": 73,
     "metadata": {},
     "output_type": "execute_result"
    }
   ],
   "source": [
    "xgc_model = XGBClassifier()\n",
    "xgc_model.fit(x_train, y_train)"
   ]
  },
  {
   "cell_type": "code",
   "execution_count": 74,
   "id": "54c15b6a",
   "metadata": {},
   "outputs": [
    {
     "data": {
      "text/plain": [
       "0.0"
      ]
     },
     "execution_count": 74,
     "metadata": {},
     "output_type": "execute_result"
    }
   ],
   "source": [
    "xgc_model.score(x_test, y_test)"
   ]
  },
  {
   "cell_type": "code",
   "execution_count": 76,
   "id": "13943eaf",
   "metadata": {},
   "outputs": [
    {
     "name": "stdout",
     "output_type": "stream",
     "text": [
      "Collecting statsmodels\n",
      "  Using cached statsmodels-0.12.2-cp36-cp36m-macosx_10_15_x86_64.whl (9.5 MB)\n",
      "Requirement already satisfied: pandas>=0.21 in /Users/jsb/opt/anaconda3/envs/PythonAdv/lib/python3.6/site-packages (from statsmodels) (1.1.5)\n",
      "Collecting patsy>=0.5\n",
      "  Downloading patsy-0.5.2-py2.py3-none-any.whl (233 kB)\n",
      "\u001b[K     |████████████████████████████████| 233 kB 5.7 MB/s eta 0:00:01\n",
      "\u001b[?25hRequirement already satisfied: numpy>=1.15 in /Users/jsb/opt/anaconda3/envs/PythonAdv/lib/python3.6/site-packages (from statsmodels) (1.19.2)\n",
      "Requirement already satisfied: scipy>=1.1 in /Users/jsb/opt/anaconda3/envs/PythonAdv/lib/python3.6/site-packages (from statsmodels) (1.5.2)\n",
      "Requirement already satisfied: python-dateutil>=2.7.3 in /Users/jsb/opt/anaconda3/envs/PythonAdv/lib/python3.6/site-packages (from pandas>=0.21->statsmodels) (2.8.2)\n",
      "Requirement already satisfied: pytz>=2017.2 in /Users/jsb/opt/anaconda3/envs/PythonAdv/lib/python3.6/site-packages (from pandas>=0.21->statsmodels) (2021.1)\n",
      "Requirement already satisfied: six in /Users/jsb/opt/anaconda3/envs/PythonAdv/lib/python3.6/site-packages (from patsy>=0.5->statsmodels) (1.16.0)\n",
      "Installing collected packages: patsy, statsmodels\n",
      "Successfully installed patsy-0.5.2 statsmodels-0.12.2\n"
     ]
    }
   ],
   "source": [
    "!pip install statsmodels"
   ]
  },
  {
   "cell_type": "code",
   "execution_count": 78,
   "id": "43f1b7d0",
   "metadata": {},
   "outputs": [],
   "source": [
    "#install these packages\n",
    "from sklearn.decomposition import PCA\n",
    "import statsmodels.tools.tools as sm\n",
    "from sklearn.metrics import confusion_matrix"
   ]
  },
  {
   "cell_type": "code",
   "execution_count": 81,
   "id": "c7d34ec3",
   "metadata": {},
   "outputs": [
    {
     "name": "stdout",
     "output_type": "stream",
     "text": [
      "days_rf: 10    rs                 RF CM  RF Accuracy\n",
      "5   6  [[20, 37], [28, 47]]       0.5076\n",
      "days_rf: 20    rs                 RF CM  RF Accuracy\n",
      "5   6  [[26, 31], [32, 43]]       0.5227\n",
      "days_rf: 30     rs                 RF CM  RF Accuracy\n",
      "17  18  [[23, 34], [27, 48]]       0.5379\n",
      "days_rf: 40    rs                 RF CM  RF Accuracy\n",
      "7   8  [[21, 36], [34, 41]]       0.4697\n",
      "days_rf: 50    rs                 RF CM  RF Accuracy\n",
      "4   5  [[19, 38], [39, 36]]       0.4167\n",
      "days_rf: 60    rs                 RF CM  RF Accuracy\n",
      "5   6  [[23, 34], [43, 32]]       0.4167\n",
      "days_rf: 70    rs                 RF CM  RF Accuracy\n",
      "2   3  [[22, 35], [41, 34]]       0.4242\n",
      "days_rf: 80     rs                 RF CM  RF Accuracy\n",
      "10  11  [[30, 27], [39, 36]]          0.5\n",
      "days_rf: 90    rs                 RF CM  RF Accuracy\n",
      "6   7  [[15, 42], [39, 36]]       0.3864\n",
      "days_rf: 100    rs                 RF CM  RF Accuracy\n",
      "1   2  [[22, 35], [35, 40]]       0.4697\n",
      "days_rf: 110    rs                 RF CM  RF Accuracy\n",
      "8   9  [[24, 33], [38, 37]]       0.4621\n",
      "days_rf: 120    rs                 RF CM  RF Accuracy\n",
      "2   3  [[25, 32], [33, 42]]       0.5076\n",
      "days_rf: 130    rs                 RF CM  RF Accuracy\n",
      "2   3  [[29, 28], [37, 38]]       0.5076\n",
      "days_rf: 140    rs                 RF CM  RF Accuracy\n",
      "0   1  [[30, 27], [37, 38]]       0.5152\n",
      "days_rf: 150    rs                 RF CM  RF Accuracy\n",
      "5   6  [[22, 35], [36, 39]]       0.4621\n",
      "days_rf: 160    rs                 RF CM  RF Accuracy\n",
      "0   1  [[28, 29], [43, 32]]       0.4545\n",
      "days_rf: 170    rs                 RF CM  RF Accuracy\n",
      "6   7  [[27, 30], [34, 41]]       0.5152\n",
      "days_rf: 180    rs                 RF CM  RF Accuracy\n",
      "0   1  [[24, 33], [36, 39]]       0.4773\n",
      "days_rf: 190     rs                 RF CM  RF Accuracy\n",
      "13  14  [[27, 30], [35, 40]]       0.5076\n",
      "days_rf: 200    rs                 RF CM  RF Accuracy\n",
      "0   1  [[24, 33], [44, 31]]       0.4167\n",
      "days_rf: 210     rs                 RF CM  RF Accuracy\n",
      "24  25  [[23, 34], [36, 39]]       0.4697\n",
      "days_rf: 220     rs                 RF CM  RF Accuracy\n",
      "27  28  [[27, 30], [36, 39]]          0.5\n",
      "days_rf: 230    rs                 RF CM  RF Accuracy\n",
      "1   2  [[23, 34], [39, 36]]        0.447\n",
      "days_rf: 240    rs                 RF CM  RF Accuracy\n",
      "2   3  [[26, 31], [37, 38]]       0.4848\n",
      "days_rf: 250    rs                 RF CM  RF Accuracy\n",
      "6   7  [[26, 31], [40, 35]]       0.4621\n",
      "days_rf: 260     rs                 RF CM  RF Accuracy\n",
      "11  12  [[26, 31], [36, 39]]       0.4924\n",
      "days_rf: 270    rs                 RF CM  RF Accuracy\n",
      "2   3  [[25, 32], [31, 44]]       0.5227\n",
      "days_rf: 280    rs                 RF CM  RF Accuracy\n",
      "0   1  [[30, 27], [34, 41]]       0.5379\n",
      "days_rf: 290    rs                 RF CM  RF Accuracy\n",
      "0   1  [[29, 28], [32, 43]]       0.5455\n",
      "days_rf: 300     rs                 RF CM  RF Accuracy\n",
      "13  14  [[24, 33], [36, 39]]       0.4773\n",
      "days_rf: 310    rs                 RF CM  RF Accuracy\n",
      "9  10  [[27, 30], [38, 37]]       0.4848\n",
      "days_rf: 320    rs                 RF CM  RF Accuracy\n",
      "5   6  [[28, 29], [35, 40]]       0.5152\n",
      "days_rf: 330    rs                 RF CM  RF Accuracy\n",
      "7   8  [[22, 35], [35, 40]]       0.4697\n",
      "days_rf: 340     rs                 RF CM  RF Accuracy\n",
      "14  15  [[21, 36], [40, 35]]       0.4242\n",
      "days_rf: 350    rs                 RF CM  RF Accuracy\n",
      "8   9  [[27, 30], [35, 40]]       0.5076\n",
      "days_rf: 360     rs                 RF CM  RF Accuracy\n",
      "19  20  [[25, 32], [30, 45]]       0.5303\n",
      "days_rf: 370    rs                 RF CM  RF Accuracy\n",
      "8   9  [[23, 34], [30, 45]]       0.5152\n",
      "days_rf: 380    rs                 RF CM  RF Accuracy\n",
      "2   3  [[27, 30], [30, 45]]       0.5455\n",
      "days_rf: 390     rs                 RF CM  RF Accuracy\n",
      "13  14  [[32, 25], [23, 52]]       0.6364\n",
      "days_rf: 400    rs                 RF CM  RF Accuracy\n",
      "2   3  [[31, 26], [25, 50]]       0.6136\n",
      "days_rf: 410     rs                 RF CM  RF Accuracy\n",
      "24  25  [[28, 29], [31, 44]]       0.5455\n",
      "days_rf: 420    rs                 RF CM  RF Accuracy\n",
      "1   2  [[26, 31], [34, 41]]       0.5076\n",
      "days_rf: 430    rs                 RF CM  RF Accuracy\n",
      "8   9  [[28, 29], [31, 44]]       0.5455\n",
      "days_rf: 440    rs                 RF CM  RF Accuracy\n",
      "3   4  [[29, 28], [33, 42]]       0.5379\n",
      "days_rf: 450    rs                 RF CM  RF Accuracy\n",
      "5   6  [[27, 30], [30, 45]]       0.5455\n",
      "days_rf: 460     rs                 RF CM  RF Accuracy\n",
      "26  27  [[24, 33], [31, 44]]       0.5152\n",
      "days_rf: 470     rs                 RF CM  RF Accuracy\n",
      "15  16  [[21, 36], [26, 49]]       0.5303\n",
      "days_rf: 480     rs                 RF CM  RF Accuracy\n",
      "13  14  [[23, 34], [29, 46]]       0.5227\n",
      "days_rf: 490     rs                 RF CM  RF Accuracy\n",
      "15  16  [[21, 36], [28, 47]]       0.5152\n",
      "days_rf: 500    rs                 RF CM  RF Accuracy\n",
      "0   1  [[22, 35], [29, 46]]       0.5152\n",
      "days_rf: 510     rs                 RF CM  RF Accuracy\n",
      "13  14  [[26, 31], [31, 44]]       0.5303\n",
      "days_rf: 520     rs                 RF CM  RF Accuracy\n",
      "22  23  [[24, 33], [31, 44]]       0.5152\n",
      "days_rf: 530    rs                 RF CM  RF Accuracy\n",
      "6   7  [[17, 40], [33, 42]]        0.447\n",
      "days_rf: 540    rs                 RF CM  RF Accuracy\n",
      "8   9  [[20, 37], [36, 39]]        0.447\n",
      "days_rf: 550     rs                 RF CM  RF Accuracy\n",
      "12  13  [[20, 37], [30, 45]]       0.4924\n",
      "days_rf: 560     rs                 RF CM  RF Accuracy\n",
      "12  13  [[28, 29], [34, 41]]       0.5227\n",
      "days_rf: 570    rs                 RF CM  RF Accuracy\n",
      "1   2  [[21, 36], [32, 43]]       0.4848\n",
      "days_rf: 580     rs                 RF CM  RF Accuracy\n",
      "25  26  [[21, 36], [30, 45]]          0.5\n",
      "days_rf: 590    rs                 RF CM  RF Accuracy\n",
      "0   1  [[27, 30], [34, 41]]       0.5152\n",
      "days_rf: 600    rs                 RF CM  RF Accuracy\n",
      "2   3  [[25, 32], [35, 40]]       0.4924\n",
      "days_rf: 610    rs                 RF CM  RF Accuracy\n",
      "5   6  [[28, 29], [36, 39]]       0.5076\n",
      "days_rf: 620     rs                 RF CM  RF Accuracy\n",
      "17  18  [[21, 36], [35, 40]]       0.4621\n",
      "days_rf: 630    rs                 RF CM  RF Accuracy\n",
      "5   6  [[21, 36], [39, 36]]       0.4318\n",
      "days_rf: 640    rs                 RF CM  RF Accuracy\n",
      "8   9  [[21, 36], [35, 40]]       0.4621\n",
      "days_rf: 650    rs                 RF CM  RF Accuracy\n",
      "2   3  [[17, 40], [39, 36]]       0.4015\n",
      "days_rf: 660     rs                 RF CM  RF Accuracy\n",
      "21  22  [[27, 30], [36, 39]]          0.5\n",
      "days_rf: 670    rs                 RF CM  RF Accuracy\n",
      "2   3  [[25, 32], [35, 40]]       0.4924\n",
      "days_rf: 680    rs                 RF CM  RF Accuracy\n",
      "3   4  [[23, 34], [38, 37]]       0.4545\n",
      "days_rf: 690    rs                 RF CM  RF Accuracy\n",
      "7   8  [[23, 34], [25, 50]]        0.553\n",
      "days_rf: 700    rs                 RF CM  RF Accuracy\n",
      "6   7  [[26, 31], [27, 48]]       0.5606\n",
      "days_rf: 710     rs                 RF CM  RF Accuracy\n",
      "17  18  [[21, 36], [29, 46]]       0.5076\n",
      "days_rf: 720     rs                 RF CM  RF Accuracy\n",
      "28  29  [[22, 35], [28, 47]]       0.5227\n",
      "days_rf: 730     rs                 RF CM  RF Accuracy\n",
      "10  11  [[20, 37], [32, 43]]       0.4773\n",
      "days_rf: 740    rs                 RF CM  RF Accuracy\n",
      "9  10  [[21, 36], [30, 45]]          0.5\n",
      "days_rf: 750     rs                 RF CM  RF Accuracy\n",
      "25  26  [[26, 31], [33, 42]]       0.5152\n",
      "days_rf: 760     rs                 RF CM  RF Accuracy\n",
      "18  19  [[24, 33], [30, 45]]       0.5227\n",
      "days_rf: 770    rs                 RF CM  RF Accuracy\n",
      "6   7  [[33, 24], [33, 42]]       0.5682\n",
      "days_rf: 780     rs                 RF CM  RF Accuracy\n",
      "17  18  [[26, 31], [38, 37]]       0.4773\n",
      "days_rf: 790     rs                 RF CM  RF Accuracy\n",
      "28  29  [[29, 28], [36, 39]]       0.5152\n",
      "days_rf: 800     rs                 RF CM  RF Accuracy\n",
      "19  20  [[24, 33], [40, 35]]        0.447\n",
      "days_rf: 810     rs                 RF CM  RF Accuracy\n",
      "29  30  [[23, 34], [36, 39]]       0.4697\n",
      "days_rf: 820    rs                 RF CM  RF Accuracy\n",
      "0   1  [[25, 32], [34, 41]]          0.5\n",
      "days_rf: 830    rs                 RF CM  RF Accuracy\n",
      "3   4  [[25, 32], [35, 40]]       0.4924\n",
      "days_rf: 840    rs                 RF CM  RF Accuracy\n",
      "7   8  [[19, 38], [31, 44]]       0.4773\n",
      "days_rf: 850     rs                 RF CM  RF Accuracy\n",
      "26  27  [[29, 28], [36, 39]]       0.5152\n",
      "days_rf: 860    rs                 RF CM  RF Accuracy\n",
      "9  10  [[29, 28], [34, 41]]       0.5303\n"
     ]
    },
    {
     "name": "stdout",
     "output_type": "stream",
     "text": [
      "days_rf: 870     rs                 RF CM  RF Accuracy\n",
      "27  28  [[22, 35], [41, 34]]       0.4242\n",
      "days_rf: 880     rs                 RF CM  RF Accuracy\n",
      "19  20  [[18, 39], [35, 40]]       0.4394\n",
      "days_rf: 890     rs                 RF CM  RF Accuracy\n",
      "22  23  [[23, 34], [31, 44]]       0.5076\n"
     ]
    }
   ],
   "source": [
    "# code\n",
    "buffer=132\n",
    "for days_rf in range(10, 900,10):\n",
    "    pred_rf = pd.DataFrame(columns=['Date', 'gold_dir', 'rs', 'rf'])\n",
    "    data_rf = gold_3.iloc[-days_rf-buffer:, :]\n",
    "    \n",
    "    for rs in range(1, 31):   # Various random states\n",
    "        for i in range(0, buffer): # Rolling window prediction\n",
    "            train = data_rf.iloc[i:days_rf+i, :] # Training model\n",
    "            test = data_rf.iloc[days_rf+i : days_rf+i+1, :]\n",
    "#             print(train.tail(2), test)\n",
    "\n",
    "            # Separating X and Y variables for easy computation\n",
    "            X_train = train.drop(columns=['Date', 'gold_dir'])\n",
    "            X_test = test.drop(columns=['Date', 'gold_dir'])\n",
    "\n",
    "            y_train = train['gold_dir']\n",
    "            y_test = test['gold_dir']\n",
    "\n",
    "            pca = PCA(n_components = 0.95).fit(X_train) # Principal Component Analysis\n",
    "\n",
    "            train_pca = pca.transform(X_train)\n",
    "            test_pca = pca.transform(X_test)\n",
    "\n",
    "            # Random Forest Model\n",
    "            random_forest = RandomForestClassifier(oob_score= False, n_estimators= 50, min_samples_split= 2, max_features= 'log2',\n",
    "                                    criterion= 'gini', bootstrap= True, random_state=rs)\n",
    "#             random_forest = RandomForestClassifier()\n",
    "            rf_model = random_forest.fit(train_pca, y_train) \n",
    "            y_pred_rf = rf_model.predict(test_pca)\n",
    "\n",
    "            ls_rs = [rs]*len(y_test)\n",
    "\n",
    "            df_reg = pd.DataFrame({'rs': ls_rs, 'rf': y_pred_rf.tolist()})\n",
    "            true_data = test[['Date', 'gold_dir']]\n",
    "            true_data = true_data.reset_index().drop(columns=['index'])\n",
    "            df = pd.concat([true_data, df_reg], axis=1)\n",
    "            pred_rf = pred_rf.append(df)\n",
    "#             print(pred_rf.tail(2))\n",
    "\n",
    "        # Retaining only that random state with highest accuracy      \n",
    "        for i in range(1,pred_rf.shape[1]): # The outputs may come in str type  \n",
    "            pred_rf.iloc[:,i] = pred_rf.iloc[:,i].astype(float)\n",
    "\n",
    "        cm = pd.DataFrame(columns=['RF CM', 'RF Accuracy'])\n",
    "\n",
    "        # Estimating Confusion matrix for each model and random state\n",
    "    for rs in range(1, 31):\n",
    "        df = pred_rf[pred_rf['rs']==rs]\n",
    "#             prin\n",
    "        a_rf = (confusion_matrix(df['gold_dir'], df['rf']))\n",
    "        b_rf = round((a_rf[0][0] + a_rf[1][1])/(a_rf[0][0]+ a_rf[1][1] + a_rf[0][1] + a_rf[1][0]),4) \n",
    "        conf_mat = pd.DataFrame({'RF CM': [a_rf], 'RF Accuracy': [b_rf]}) # Appending to dataframes element-wise\n",
    "        cm = cm.append(conf_mat)\n",
    "\n",
    "    # Constructing index such that it refers to random state, which is later named as 'rs'   \n",
    "    cm = cm.reset_index().drop(columns='index')\n",
    "    cm.index += 1\n",
    "    cm = cm.reset_index().rename(columns={'index':'rs'})\n",
    "    max_acc_rs = cm['rs'][cm['RF Accuracy']==cm['RF Accuracy'].max()] # Retaining obs with highest accuracy\n",
    "\n",
    "    pred_rf_max_acc = pred_rf[pred_rf['rs']==max_acc_rs.iloc[0]]\n",
    "    print('days_rf:', days_rf, cm[cm['rs']==max_acc_rs.iloc[0]])"
   ]
  },
  {
   "cell_type": "code",
   "execution_count": null,
   "id": "28778620",
   "metadata": {},
   "outputs": [],
   "source": []
  }
 ],
 "metadata": {
  "kernelspec": {
   "display_name": "Python [conda env:PythonAdv] *",
   "language": "python",
   "name": "conda-env-PythonAdv-py"
  },
  "language_info": {
   "codemirror_mode": {
    "name": "ipython",
    "version": 3
   },
   "file_extension": ".py",
   "mimetype": "text/x-python",
   "name": "python",
   "nbconvert_exporter": "python",
   "pygments_lexer": "ipython3",
   "version": "3.6.13"
  }
 },
 "nbformat": 4,
 "nbformat_minor": 5
}
