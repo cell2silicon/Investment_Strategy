{
 "cells": [
  {
   "cell_type": "code",
   "execution_count": 564,
   "id": "b5e54e0a",
   "metadata": {},
   "outputs": [],
   "source": [
    "import pandas as pd\n",
    "import csv\n",
    "import os\n",
    "import numpy as np\n",
    "from sklearn.model_selection import train_test_split, GridSearchCV\n",
    "from sklearn.preprocessing import MinMaxScaler\n",
    "from sklearn.linear_model import LogisticRegression\n",
    "from sklearn.feature_selection import RFECV\n",
    "import joblib\n",
    "from config import user_name,password"
   ]
  },
  {
   "cell_type": "code",
   "execution_count": 442,
   "id": "5bcb1337",
   "metadata": {},
   "outputs": [],
   "source": [
    "btc = pd.read_csv(\"data/BTC-USD.csv\")\n",
    "btc = btc.drop(columns=[\"Adj Close\",\"Open\",\"High\",\"Low\",\"Volume\"])\n",
    "btc['Date']= pd.to_datetime(btc['Date'])\n",
    "btc = btc.dropna()\n",
    "btc_data = btc.iloc[::-1]\n",
    "# btc_data.head()"
   ]
  },
  {
   "cell_type": "code",
   "execution_count": 443,
   "id": "c1548c6f",
   "metadata": {},
   "outputs": [],
   "source": [
    "btc_data = btc_data.rename(columns={'Close': 'Close_Btc'})\n",
    "btc_data['Date'] = pd.to_datetime(btc_data['Date'])\n",
    "btc_data['Day_Btc'] = btc_data['Date'].dt.day_name()\n",
    "btc_data = btc_data.sort_values(by=\"Date\")\n",
    "# btc_data"
   ]
  },
  {
   "cell_type": "code",
   "execution_count": 444,
   "id": "c3dea354",
   "metadata": {},
   "outputs": [],
   "source": [
    "btc_data_clean = btc_data.loc[((btc_data['Day_Btc'] != \"Saturday\") & (btc_data['Day_Btc'] != 'Sunday'))]\n",
    "# btc_data_clean"
   ]
  },
  {
   "cell_type": "code",
   "execution_count": 575,
   "id": "d76bf887",
   "metadata": {},
   "outputs": [],
   "source": [
    "# btc_data_clean = btc_data_clean.drop(columns=[\"Day_Btc\"])\n",
    "btc_data_clean[\"BTC_Change%\"] = btc_data_clean[\"Close_Btc\"].pct_change()\n",
    "btc_data_clean['BTC_Change%_lag'] = btc_data_clean[\"BTC_Change%\"].shift(1)\n",
    "\n",
    "# Construction direction of BITCOIN movement\n",
    "btc_data_clean['BTC_dir'] = (btc_data_clean[\"BTC_Change%\"]>0).astype(float)\n",
    "btc_data_clean['ETH_dir_lag'] = btc_data_clean['BTC_dir'].shift(1)\n",
    "# btc_data_clean"
   ]
  },
  {
   "cell_type": "code",
   "execution_count": 446,
   "id": "ea09628b",
   "metadata": {},
   "outputs": [
    {
     "data": {
      "text/plain": [
       "Date           datetime64[ns]\n",
       "Close_Btc             float64\n",
       "BTC_Change%           float64\n",
       "dtype: object"
      ]
     },
     "execution_count": 446,
     "metadata": {},
     "output_type": "execute_result"
    }
   ],
   "source": [
    "btc_data_clean.dtypes"
   ]
  },
  {
   "cell_type": "code",
   "execution_count": 447,
   "id": "54ad8be1",
   "metadata": {},
   "outputs": [],
   "source": [
    "eth = pd.read_csv(\"data/ETH-USD.csv\")\n",
    "eth = eth.drop(columns=[\"Adj Close\",\"Open\",\"High\",\"Low\",\"Volume\"])\n",
    "eth['Date']= pd.to_datetime(eth['Date'])\n",
    "eth_data = eth.dropna()\n",
    "eth_data = eth_data.iloc[::-1]\n",
    "# eth_data.head()"
   ]
  },
  {
   "cell_type": "code",
   "execution_count": 448,
   "id": "ad3c51d3",
   "metadata": {},
   "outputs": [],
   "source": [
    "eth_data = eth_data.rename(columns={'Close': 'Close_Eth'})\n",
    "eth_data['Date'] = pd.to_datetime(eth_data['Date'])\n",
    "eth_data['Day_Eth'] = eth_data['Date'].dt.day_name()\n",
    "eth_data = eth_data.sort_values(by=\"Date\")\n",
    "# eth_data"
   ]
  },
  {
   "cell_type": "code",
   "execution_count": 449,
   "id": "c25366dc",
   "metadata": {},
   "outputs": [],
   "source": [
    "eth_data_clean = eth_data.loc[((eth_data['Day_Eth'] != \"Saturday\") & (eth_data['Day_Eth'] != 'Sunday'))]\n",
    "# eth_data_clean"
   ]
  },
  {
   "cell_type": "code",
   "execution_count": 521,
   "id": "2b4223ac",
   "metadata": {},
   "outputs": [
    {
     "data": {
      "text/html": [
       "<div>\n",
       "<style scoped>\n",
       "    .dataframe tbody tr th:only-of-type {\n",
       "        vertical-align: middle;\n",
       "    }\n",
       "\n",
       "    .dataframe tbody tr th {\n",
       "        vertical-align: top;\n",
       "    }\n",
       "\n",
       "    .dataframe thead th {\n",
       "        text-align: right;\n",
       "    }\n",
       "</style>\n",
       "<table border=\"1\" class=\"dataframe\">\n",
       "  <thead>\n",
       "    <tr style=\"text-align: right;\">\n",
       "      <th></th>\n",
       "      <th>Date</th>\n",
       "      <th>Close_Eth</th>\n",
       "      <th>ETH_Change%</th>\n",
       "      <th>ETH_Change%_lag</th>\n",
       "      <th>ETH_dir</th>\n",
       "      <th>ETH_dir_lag</th>\n",
       "    </tr>\n",
       "  </thead>\n",
       "  <tbody>\n",
       "    <tr>\n",
       "      <th>2</th>\n",
       "      <td>2016-10-10</td>\n",
       "      <td>11.7555</td>\n",
       "      <td>NaN</td>\n",
       "      <td>NaN</td>\n",
       "      <td>0.0</td>\n",
       "      <td>NaN</td>\n",
       "    </tr>\n",
       "    <tr>\n",
       "      <th>3</th>\n",
       "      <td>2016-10-11</td>\n",
       "      <td>11.7857</td>\n",
       "      <td>0.002569</td>\n",
       "      <td>NaN</td>\n",
       "      <td>1.0</td>\n",
       "      <td>0.0</td>\n",
       "    </tr>\n",
       "    <tr>\n",
       "      <th>4</th>\n",
       "      <td>2016-10-12</td>\n",
       "      <td>11.9335</td>\n",
       "      <td>0.012541</td>\n",
       "      <td>0.002569</td>\n",
       "      <td>1.0</td>\n",
       "      <td>1.0</td>\n",
       "    </tr>\n",
       "    <tr>\n",
       "      <th>5</th>\n",
       "      <td>2016-10-13</td>\n",
       "      <td>11.9630</td>\n",
       "      <td>0.002472</td>\n",
       "      <td>0.012541</td>\n",
       "      <td>1.0</td>\n",
       "      <td>1.0</td>\n",
       "    </tr>\n",
       "    <tr>\n",
       "      <th>6</th>\n",
       "      <td>2016-10-14</td>\n",
       "      <td>11.9382</td>\n",
       "      <td>-0.002073</td>\n",
       "      <td>0.002472</td>\n",
       "      <td>0.0</td>\n",
       "      <td>1.0</td>\n",
       "    </tr>\n",
       "  </tbody>\n",
       "</table>\n",
       "</div>"
      ],
      "text/plain": [
       "        Date  Close_Eth  ETH_Change%  ETH_Change%_lag  ETH_dir  ETH_dir_lag\n",
       "2 2016-10-10    11.7555          NaN              NaN      0.0          NaN\n",
       "3 2016-10-11    11.7857     0.002569              NaN      1.0          0.0\n",
       "4 2016-10-12    11.9335     0.012541         0.002569      1.0          1.0\n",
       "5 2016-10-13    11.9630     0.002472         0.012541      1.0          1.0\n",
       "6 2016-10-14    11.9382    -0.002073         0.002472      0.0          1.0"
      ]
     },
     "execution_count": 521,
     "metadata": {},
     "output_type": "execute_result"
    }
   ],
   "source": [
    "# eth_data_clean = eth_data_clean.drop(columns=[\"Day_Eth\"])\n",
    "eth_data_clean[\"ETH_Change%\"] = eth_data_clean[\"Close_Eth\"].pct_change()\n",
    "eth_data_clean['ETH_Change%_lag'] = eth_data_clean[\"ETH_Change%\"].shift(1)\n",
    "\n",
    "# Construction direction of Ethereum movement\n",
    "eth_data_clean['ETH_dir'] = (eth_data_clean[\"ETH_Change%\"]>0).astype(float)\n",
    "eth_data_clean['ETH_dir_lag'] = eth_data_clean['ETH_dir'].shift(1)\n",
    "eth_data_clean.head()"
   ]
  },
  {
   "cell_type": "code",
   "execution_count": 451,
   "id": "7db6c198",
   "metadata": {},
   "outputs": [
    {
     "data": {
      "text/plain": [
       "Date           datetime64[ns]\n",
       "Close_Eth             float64\n",
       "ETH_Change%           float64\n",
       "dtype: object"
      ]
     },
     "execution_count": 451,
     "metadata": {},
     "output_type": "execute_result"
    }
   ],
   "source": [
    "eth_data_clean.dtypes"
   ]
  },
  {
   "cell_type": "code",
   "execution_count": 452,
   "id": "9be5b76b",
   "metadata": {},
   "outputs": [],
   "source": [
    "gold = pd.read_csv(\"data/Gold-Futures.csv\")\n",
    "gold = gold.drop(columns=[\"Vol.\",\"Change %\",\"Open\",\"High\",\"Low\"])\n",
    "gold['Date']= pd.to_datetime(gold['Date'])\n",
    "gold_data = gold.dropna()\n",
    "# gold_data.head()"
   ]
  },
  {
   "cell_type": "code",
   "execution_count": 453,
   "id": "02978d42",
   "metadata": {},
   "outputs": [],
   "source": [
    "gold_data = gold_data.rename(columns={'Price': 'Price_Gold'})\n",
    "gold_data['Date'] = pd.to_datetime(gold_data['Date'])\n",
    "gold_data['Day_Gold'] = gold_data['Date'].dt.day_name()\n",
    "gold_data = gold_data.sort_values(by=\"Date\")\n",
    "gold_data = gold_data.reset_index(drop=True)\n",
    "gold_data['Price_Gold'] = gold_data.Price_Gold.str.replace(',', '').astype(float)\n",
    "# gold_data"
   ]
  },
  {
   "cell_type": "code",
   "execution_count": 483,
   "id": "1ac8a699",
   "metadata": {},
   "outputs": [],
   "source": [
    "gold_data_clean = gold_data.loc[((gold_data['Day_Gold'] != \"Saturday\") & (gold_data['Day_Gold'] != 'Sunday'))]\n",
    "# gold_data_clean"
   ]
  },
  {
   "cell_type": "code",
   "execution_count": 488,
   "id": "fb1b1f6d",
   "metadata": {},
   "outputs": [
    {
     "data": {
      "text/html": [
       "<div>\n",
       "<style scoped>\n",
       "    .dataframe tbody tr th:only-of-type {\n",
       "        vertical-align: middle;\n",
       "    }\n",
       "\n",
       "    .dataframe tbody tr th {\n",
       "        vertical-align: top;\n",
       "    }\n",
       "\n",
       "    .dataframe thead th {\n",
       "        text-align: right;\n",
       "    }\n",
       "</style>\n",
       "<table border=\"1\" class=\"dataframe\">\n",
       "  <thead>\n",
       "    <tr style=\"text-align: right;\">\n",
       "      <th></th>\n",
       "      <th>Date</th>\n",
       "      <th>Price_Gold</th>\n",
       "      <th>Gold_Change%</th>\n",
       "      <th>Gold_Change%_lag</th>\n",
       "      <th>gold_dir</th>\n",
       "      <th>gold_dir_lag</th>\n",
       "    </tr>\n",
       "  </thead>\n",
       "  <tbody>\n",
       "    <tr>\n",
       "      <th>0</th>\n",
       "      <td>2016-09-08</td>\n",
       "      <td>1400.2</td>\n",
       "      <td>NaN</td>\n",
       "      <td>NaN</td>\n",
       "      <td>0.0</td>\n",
       "      <td>NaN</td>\n",
       "    </tr>\n",
       "    <tr>\n",
       "      <th>1</th>\n",
       "      <td>2016-09-09</td>\n",
       "      <td>1393.1</td>\n",
       "      <td>-0.005071</td>\n",
       "      <td>NaN</td>\n",
       "      <td>0.0</td>\n",
       "      <td>0.0</td>\n",
       "    </tr>\n",
       "    <tr>\n",
       "      <th>2</th>\n",
       "      <td>2016-09-12</td>\n",
       "      <td>1384.4</td>\n",
       "      <td>-0.006245</td>\n",
       "      <td>-0.005071</td>\n",
       "      <td>0.0</td>\n",
       "      <td>0.0</td>\n",
       "    </tr>\n",
       "    <tr>\n",
       "      <th>3</th>\n",
       "      <td>2016-09-13</td>\n",
       "      <td>1380.8</td>\n",
       "      <td>-0.002600</td>\n",
       "      <td>-0.006245</td>\n",
       "      <td>0.0</td>\n",
       "      <td>0.0</td>\n",
       "    </tr>\n",
       "    <tr>\n",
       "      <th>4</th>\n",
       "      <td>2016-09-14</td>\n",
       "      <td>1383.3</td>\n",
       "      <td>0.001811</td>\n",
       "      <td>-0.002600</td>\n",
       "      <td>1.0</td>\n",
       "      <td>0.0</td>\n",
       "    </tr>\n",
       "  </tbody>\n",
       "</table>\n",
       "</div>"
      ],
      "text/plain": [
       "        Date  Price_Gold  Gold_Change%  Gold_Change%_lag  gold_dir  \\\n",
       "0 2016-09-08      1400.2           NaN               NaN       0.0   \n",
       "1 2016-09-09      1393.1     -0.005071               NaN       0.0   \n",
       "2 2016-09-12      1384.4     -0.006245         -0.005071       0.0   \n",
       "3 2016-09-13      1380.8     -0.002600         -0.006245       0.0   \n",
       "4 2016-09-14      1383.3      0.001811         -0.002600       1.0   \n",
       "\n",
       "   gold_dir_lag  \n",
       "0           NaN  \n",
       "1           0.0  \n",
       "2           0.0  \n",
       "3           0.0  \n",
       "4           0.0  "
      ]
     },
     "execution_count": 488,
     "metadata": {},
     "output_type": "execute_result"
    }
   ],
   "source": [
    "# gold_data_clean = gold_data_clean.drop(columns=[\"Day_Gold\"])\n",
    "gold_data_clean[\"Gold_Change%\"] = gold_data_clean[\"Price_Gold\"].pct_change()\n",
    "gold_data_clean['Gold_Change%_lag'] = gold_data_clean[\"Gold_Change%\"].shift(1)\n",
    "\n",
    "# Construction direction of GOLD movement\n",
    "gold_data_clean['gold_dir'] = (gold_data_clean[\"Gold_Change%\"]>0).astype(float)\n",
    "gold_data_clean['gold_dir_lag'] = gold_data_clean['gold_dir'].shift(1)\n",
    "gold_data_clean.head()"
   ]
  },
  {
   "cell_type": "code",
   "execution_count": 489,
   "id": "db97f3a2",
   "metadata": {
    "scrolled": true
   },
   "outputs": [
    {
     "data": {
      "text/plain": [
       "Date                datetime64[ns]\n",
       "Price_Gold                 float64\n",
       "Gold_Change%               float64\n",
       "Gold_Change%_lag           float64\n",
       "gold_dir                   float64\n",
       "gold_dir_lag               float64\n",
       "dtype: object"
      ]
     },
     "execution_count": 489,
     "metadata": {},
     "output_type": "execute_result"
    }
   ],
   "source": [
    "gold_data_clean.dtypes"
   ]
  },
  {
   "cell_type": "code",
   "execution_count": 490,
   "id": "3542f16d",
   "metadata": {},
   "outputs": [],
   "source": [
    "snp = pd.read_csv(\"data/S&P-500.csv\")\n",
    "snp = snp.drop(columns=[\"Vol.\",\"Change %\",\"Open\",\"High\",\"Low\"])\n",
    "snp['Date']= pd.to_datetime(snp['Date'])\n",
    "snp_data = snp.dropna()\n",
    "# snp_data.head()"
   ]
  },
  {
   "cell_type": "code",
   "execution_count": 491,
   "id": "92ef211d",
   "metadata": {},
   "outputs": [],
   "source": [
    "snp_data = snp_data.rename(columns={'Price': 'Price_Snp'})\n",
    "snp_data['Date'] = pd.to_datetime(snp_data['Date'])\n",
    "snp_data['Day_Snp'] = snp_data['Date'].dt.day_name()\n",
    "snp_data = snp_data.sort_values(by=\"Date\")\n",
    "snp_data = snp_data.reset_index(drop=True)\n",
    "snp_data['Price_Snp'] = snp_data.Price_Snp.str.replace(',', '').astype(float)\n",
    "# snp_data"
   ]
  },
  {
   "cell_type": "code",
   "execution_count": 492,
   "id": "edd54dfa",
   "metadata": {},
   "outputs": [],
   "source": [
    "snp_data_clean = snp_data.loc[((snp_data['Day_Snp'] != \"Saturday\") & (snp_data['Day_Snp'] != 'Sunday'))]\n",
    "# snp_data_clean"
   ]
  },
  {
   "cell_type": "code",
   "execution_count": 574,
   "id": "15df2258",
   "metadata": {},
   "outputs": [],
   "source": [
    "# snp_data_clean = snp_data_clean.drop(columns=[\"Day_Snp\"])\n",
    "snp_data_clean[\"Snp_Change%\"] = snp_data_clean[\"Price_Snp\"].pct_change()\n",
    "snp_data_clean['Snp_Change%_lag'] = snp_data_clean[\"Snp_Change%\"].shift(1)\n",
    "\n",
    "# Construction direction of S&P movement\n",
    "snp_data_clean['Snp_dir'] = (snp_data_clean[\"Snp_Change%\"]>0).astype(float)\n",
    "snp_data_clean['Snp_dir_lag'] = snp_data_clean['Snp_dir'].shift(1)\n",
    "# snp_data_clean"
   ]
  },
  {
   "cell_type": "code",
   "execution_count": 494,
   "id": "f88dc29a",
   "metadata": {},
   "outputs": [],
   "source": [
    "usbond = pd.read_csv(\"data/US-10-Year-Bond.csv\")\n",
    "usbond = usbond.drop(columns=[\"Change %\",\"Open\",\"High\",\"Low\"])\n",
    "usbond['Date']= pd.to_datetime(usbond['Date'])\n",
    "usbond_data = usbond.dropna()\n",
    "# usbond_data.head()"
   ]
  },
  {
   "cell_type": "code",
   "execution_count": 495,
   "id": "a2bb18bd",
   "metadata": {},
   "outputs": [],
   "source": [
    "usbond_data = usbond_data.rename(columns={'Price': 'Price_USB'})\n",
    "usbond_data['Date'] = pd.to_datetime(usbond_data['Date'])\n",
    "usbond_data['Day_USB'] = usbond_data['Date'].dt.day_name()\n",
    "usbond_data = usbond_data.sort_values(by=\"Date\")\n",
    "usbond_data = usbond_data.reset_index(drop=True)\n",
    "# usbond_data"
   ]
  },
  {
   "cell_type": "code",
   "execution_count": 496,
   "id": "2d7880eb",
   "metadata": {},
   "outputs": [],
   "source": [
    "usbond_data_clean = usbond_data.loc[((usbond_data['Day_USB'] != \"Saturday\") & (usbond_data['Day_USB'] != 'Sunday'))]\n",
    "# usbond_data_clean"
   ]
  },
  {
   "cell_type": "code",
   "execution_count": 573,
   "id": "c7c1829a",
   "metadata": {},
   "outputs": [],
   "source": [
    "# usbond_data_clean = usbond_data_clean.drop(columns=[\"Day_USB\"])\n",
    "usbond_data_clean[\"USB_Change%\"] = usbond_data_clean[\"Price_USB\"].pct_change()\n",
    "usbond_data_clean['USB_Change%_lag'] = usbond_data_clean[\"USB_Change%\"].shift(1)\n",
    "\n",
    "# Construction direction of US BOND movement\n",
    "usbond_data_clean['USB_dir'] = (usbond_data_clean[\"USB_Change%\"]>0).astype(float)\n",
    "usbond_data_clean['USB_dir_lag'] = usbond_data_clean['USB_dir'].shift(1)\n",
    "# usbond_data_clean"
   ]
  },
  {
   "cell_type": "code",
   "execution_count": 531,
   "id": "e5bd0c39",
   "metadata": {},
   "outputs": [
    {
     "data": {
      "text/plain": [
       "Date               datetime64[ns]\n",
       "Price_USB                 float64\n",
       "USB_Change%               float64\n",
       "USB_Change%_lag           float64\n",
       "USB_dir                   float64\n",
       "USB_dir_lag               float64\n",
       "dtype: object"
      ]
     },
     "execution_count": 531,
     "metadata": {},
     "output_type": "execute_result"
    }
   ],
   "source": [
    "usbond_data_clean.dtypes"
   ]
  },
  {
   "cell_type": "code",
   "execution_count": 572,
   "id": "8ad841f5",
   "metadata": {},
   "outputs": [],
   "source": [
    "bit_1 = btc_data_clean.merge(eth_data_clean, how='left', on='Date')\n",
    "# bit_1"
   ]
  },
  {
   "cell_type": "code",
   "execution_count": 570,
   "id": "7946d608",
   "metadata": {},
   "outputs": [],
   "source": [
    "bit_2 = bit_1.merge(snp_data_clean, how='left', on='Date')\n",
    "# bit_2"
   ]
  },
  {
   "cell_type": "code",
   "execution_count": 571,
   "id": "69d7eaf6",
   "metadata": {},
   "outputs": [
    {
     "data": {
      "text/html": [
       "<div>\n",
       "<style scoped>\n",
       "    .dataframe tbody tr th:only-of-type {\n",
       "        vertical-align: middle;\n",
       "    }\n",
       "\n",
       "    .dataframe tbody tr th {\n",
       "        vertical-align: top;\n",
       "    }\n",
       "\n",
       "    .dataframe thead th {\n",
       "        text-align: right;\n",
       "    }\n",
       "</style>\n",
       "<table border=\"1\" class=\"dataframe\">\n",
       "  <thead>\n",
       "    <tr style=\"text-align: right;\">\n",
       "      <th></th>\n",
       "      <th>Date</th>\n",
       "      <th>Close_Btc</th>\n",
       "      <th>BTC_Change%</th>\n",
       "      <th>BTC_Change%_lag</th>\n",
       "      <th>BTC_dir</th>\n",
       "      <th>ETH_dir_lag_x</th>\n",
       "      <th>Close_Eth</th>\n",
       "      <th>ETH_Change%</th>\n",
       "      <th>ETH_Change%_lag</th>\n",
       "      <th>ETH_dir</th>\n",
       "      <th>...</th>\n",
       "      <th>Price_Snp</th>\n",
       "      <th>Snp_Change%</th>\n",
       "      <th>Snp_Change%_lag</th>\n",
       "      <th>Snp_dir</th>\n",
       "      <th>Snp_dir_lag</th>\n",
       "      <th>Price_USB</th>\n",
       "      <th>USB_Change%</th>\n",
       "      <th>USB_Change%_lag</th>\n",
       "      <th>USB_dir</th>\n",
       "      <th>USB_dir_lag</th>\n",
       "    </tr>\n",
       "  </thead>\n",
       "  <tbody>\n",
       "    <tr>\n",
       "      <th>2</th>\n",
       "      <td>2016-10-12</td>\n",
       "      <td>636.192017</td>\n",
       "      <td>-0.007612</td>\n",
       "      <td>0.035668</td>\n",
       "      <td>0.0</td>\n",
       "      <td>1.0</td>\n",
       "      <td>11.9335</td>\n",
       "      <td>0.012541</td>\n",
       "      <td>0.002569</td>\n",
       "      <td>1.0</td>\n",
       "      <td>...</td>\n",
       "      <td>2139.18</td>\n",
       "      <td>0.001147</td>\n",
       "      <td>-0.012447</td>\n",
       "      <td>1.0</td>\n",
       "      <td>0.0</td>\n",
       "      <td>1.771</td>\n",
       "      <td>0.002264</td>\n",
       "      <td>0.001133</td>\n",
       "      <td>1.0</td>\n",
       "      <td>1.0</td>\n",
       "    </tr>\n",
       "    <tr>\n",
       "      <th>3</th>\n",
       "      <td>2016-10-13</td>\n",
       "      <td>636.786011</td>\n",
       "      <td>0.000934</td>\n",
       "      <td>-0.007612</td>\n",
       "      <td>1.0</td>\n",
       "      <td>0.0</td>\n",
       "      <td>11.9630</td>\n",
       "      <td>0.002472</td>\n",
       "      <td>0.012541</td>\n",
       "      <td>1.0</td>\n",
       "      <td>...</td>\n",
       "      <td>2132.55</td>\n",
       "      <td>-0.003099</td>\n",
       "      <td>0.001147</td>\n",
       "      <td>0.0</td>\n",
       "      <td>1.0</td>\n",
       "      <td>1.746</td>\n",
       "      <td>-0.014116</td>\n",
       "      <td>0.002264</td>\n",
       "      <td>0.0</td>\n",
       "      <td>1.0</td>\n",
       "    </tr>\n",
       "    <tr>\n",
       "      <th>4</th>\n",
       "      <td>2016-10-14</td>\n",
       "      <td>640.377991</td>\n",
       "      <td>0.005641</td>\n",
       "      <td>0.000934</td>\n",
       "      <td>1.0</td>\n",
       "      <td>1.0</td>\n",
       "      <td>11.9382</td>\n",
       "      <td>-0.002073</td>\n",
       "      <td>0.002472</td>\n",
       "      <td>0.0</td>\n",
       "      <td>...</td>\n",
       "      <td>2132.98</td>\n",
       "      <td>0.000202</td>\n",
       "      <td>-0.003099</td>\n",
       "      <td>1.0</td>\n",
       "      <td>0.0</td>\n",
       "      <td>1.805</td>\n",
       "      <td>0.033792</td>\n",
       "      <td>-0.014116</td>\n",
       "      <td>1.0</td>\n",
       "      <td>0.0</td>\n",
       "    </tr>\n",
       "    <tr>\n",
       "      <th>5</th>\n",
       "      <td>2016-10-17</td>\n",
       "      <td>639.192993</td>\n",
       "      <td>-0.001850</td>\n",
       "      <td>0.005641</td>\n",
       "      <td>0.0</td>\n",
       "      <td>1.0</td>\n",
       "      <td>12.0050</td>\n",
       "      <td>0.005595</td>\n",
       "      <td>-0.002073</td>\n",
       "      <td>1.0</td>\n",
       "      <td>...</td>\n",
       "      <td>2126.50</td>\n",
       "      <td>-0.003038</td>\n",
       "      <td>0.000202</td>\n",
       "      <td>0.0</td>\n",
       "      <td>1.0</td>\n",
       "      <td>1.768</td>\n",
       "      <td>-0.020499</td>\n",
       "      <td>0.033792</td>\n",
       "      <td>0.0</td>\n",
       "      <td>1.0</td>\n",
       "    </tr>\n",
       "    <tr>\n",
       "      <th>6</th>\n",
       "      <td>2016-10-18</td>\n",
       "      <td>637.960022</td>\n",
       "      <td>-0.001929</td>\n",
       "      <td>-0.001850</td>\n",
       "      <td>0.0</td>\n",
       "      <td>0.0</td>\n",
       "      <td>12.5885</td>\n",
       "      <td>0.048605</td>\n",
       "      <td>0.005595</td>\n",
       "      <td>1.0</td>\n",
       "      <td>...</td>\n",
       "      <td>2139.60</td>\n",
       "      <td>0.006160</td>\n",
       "      <td>-0.003038</td>\n",
       "      <td>1.0</td>\n",
       "      <td>0.0</td>\n",
       "      <td>1.740</td>\n",
       "      <td>-0.015837</td>\n",
       "      <td>-0.020499</td>\n",
       "      <td>0.0</td>\n",
       "      <td>0.0</td>\n",
       "    </tr>\n",
       "  </tbody>\n",
       "</table>\n",
       "<p>5 rows × 21 columns</p>\n",
       "</div>"
      ],
      "text/plain": [
       "        Date   Close_Btc  BTC_Change%  BTC_Change%_lag  BTC_dir  \\\n",
       "2 2016-10-12  636.192017    -0.007612         0.035668      0.0   \n",
       "3 2016-10-13  636.786011     0.000934        -0.007612      1.0   \n",
       "4 2016-10-14  640.377991     0.005641         0.000934      1.0   \n",
       "5 2016-10-17  639.192993    -0.001850         0.005641      0.0   \n",
       "6 2016-10-18  637.960022    -0.001929        -0.001850      0.0   \n",
       "\n",
       "   ETH_dir_lag_x  Close_Eth  ETH_Change%  ETH_Change%_lag  ETH_dir  ...  \\\n",
       "2            1.0    11.9335     0.012541         0.002569      1.0  ...   \n",
       "3            0.0    11.9630     0.002472         0.012541      1.0  ...   \n",
       "4            1.0    11.9382    -0.002073         0.002472      0.0  ...   \n",
       "5            1.0    12.0050     0.005595        -0.002073      1.0  ...   \n",
       "6            0.0    12.5885     0.048605         0.005595      1.0  ...   \n",
       "\n",
       "   Price_Snp  Snp_Change%  Snp_Change%_lag  Snp_dir  Snp_dir_lag  Price_USB  \\\n",
       "2    2139.18     0.001147        -0.012447      1.0          0.0      1.771   \n",
       "3    2132.55    -0.003099         0.001147      0.0          1.0      1.746   \n",
       "4    2132.98     0.000202        -0.003099      1.0          0.0      1.805   \n",
       "5    2126.50    -0.003038         0.000202      0.0          1.0      1.768   \n",
       "6    2139.60     0.006160        -0.003038      1.0          0.0      1.740   \n",
       "\n",
       "   USB_Change%  USB_Change%_lag  USB_dir  USB_dir_lag  \n",
       "2     0.002264         0.001133      1.0          1.0  \n",
       "3    -0.014116         0.002264      0.0          1.0  \n",
       "4     0.033792        -0.014116      1.0          0.0  \n",
       "5    -0.020499         0.033792      0.0          1.0  \n",
       "6    -0.015837        -0.020499      0.0          0.0  \n",
       "\n",
       "[5 rows x 21 columns]"
      ]
     },
     "execution_count": 571,
     "metadata": {},
     "output_type": "execute_result"
    }
   ],
   "source": [
    "bit_3 = bit_2.merge(usbond_data_clean, how='left', on='Date')\n",
    "bit_3.dropna().head()"
   ]
  },
  {
   "cell_type": "code",
   "execution_count": 567,
   "id": "ab23315e",
   "metadata": {},
   "outputs": [],
   "source": [
    "# bit_3.dtypes"
   ]
  },
  {
   "cell_type": "code",
   "execution_count": 566,
   "id": "75fa3793",
   "metadata": {},
   "outputs": [],
   "source": [
    "gold_1 = gold_data_clean.merge(usbond_data_clean, how='left', on='Date')\n",
    "# gold_1"
   ]
  },
  {
   "cell_type": "code",
   "execution_count": 565,
   "id": "e9fd4389",
   "metadata": {},
   "outputs": [],
   "source": [
    "gold_2 = gold_1.merge(snp_data_clean, how='left', on='Date')\n",
    "# gold_2"
   ]
  },
  {
   "cell_type": "code",
   "execution_count": 542,
   "id": "fd8155ca",
   "metadata": {},
   "outputs": [
    {
     "data": {
      "text/html": [
       "<div>\n",
       "<style scoped>\n",
       "    .dataframe tbody tr th:only-of-type {\n",
       "        vertical-align: middle;\n",
       "    }\n",
       "\n",
       "    .dataframe tbody tr th {\n",
       "        vertical-align: top;\n",
       "    }\n",
       "\n",
       "    .dataframe thead th {\n",
       "        text-align: right;\n",
       "    }\n",
       "</style>\n",
       "<table border=\"1\" class=\"dataframe\">\n",
       "  <thead>\n",
       "    <tr style=\"text-align: right;\">\n",
       "      <th></th>\n",
       "      <th>Date</th>\n",
       "      <th>gold_dir</th>\n",
       "      <th>gold_dir_lag</th>\n",
       "      <th>Gold_Change%_lag</th>\n",
       "      <th>USB_Change%_lag</th>\n",
       "      <th>Snp_Change%_lag</th>\n",
       "      <th>ETH_Change%_lag</th>\n",
       "    </tr>\n",
       "  </thead>\n",
       "  <tbody>\n",
       "    <tr>\n",
       "      <th>1245</th>\n",
       "      <td>2021-09-30</td>\n",
       "      <td>1.0</td>\n",
       "      <td>0.0</td>\n",
       "      <td>-0.008403</td>\n",
       "      <td>-0.014230</td>\n",
       "      <td>0.001569</td>\n",
       "      <td>0.016331</td>\n",
       "    </tr>\n",
       "    <tr>\n",
       "      <th>1246</th>\n",
       "      <td>2021-10-01</td>\n",
       "      <td>1.0</td>\n",
       "      <td>1.0</td>\n",
       "      <td>0.019792</td>\n",
       "      <td>-0.020997</td>\n",
       "      <td>-0.011910</td>\n",
       "      <td>0.052060</td>\n",
       "    </tr>\n",
       "    <tr>\n",
       "      <th>1247</th>\n",
       "      <td>2021-10-04</td>\n",
       "      <td>1.0</td>\n",
       "      <td>1.0</td>\n",
       "      <td>0.000797</td>\n",
       "      <td>-0.018097</td>\n",
       "      <td>0.011494</td>\n",
       "      <td>0.101889</td>\n",
       "    </tr>\n",
       "    <tr>\n",
       "      <th>1248</th>\n",
       "      <td>2021-10-05</td>\n",
       "      <td>0.0</td>\n",
       "      <td>1.0</td>\n",
       "      <td>0.005232</td>\n",
       "      <td>0.010922</td>\n",
       "      <td>-0.012988</td>\n",
       "      <td>0.021942</td>\n",
       "    </tr>\n",
       "    <tr>\n",
       "      <th>1249</th>\n",
       "      <td>2021-10-06</td>\n",
       "      <td>1.0</td>\n",
       "      <td>0.0</td>\n",
       "      <td>-0.003790</td>\n",
       "      <td>0.031735</td>\n",
       "      <td>0.010524</td>\n",
       "      <td>0.040954</td>\n",
       "    </tr>\n",
       "  </tbody>\n",
       "</table>\n",
       "</div>"
      ],
      "text/plain": [
       "           Date  gold_dir  gold_dir_lag  Gold_Change%_lag  USB_Change%_lag  \\\n",
       "1245 2021-09-30       1.0           0.0         -0.008403        -0.014230   \n",
       "1246 2021-10-01       1.0           1.0          0.019792        -0.020997   \n",
       "1247 2021-10-04       1.0           1.0          0.000797        -0.018097   \n",
       "1248 2021-10-05       0.0           1.0          0.005232         0.010922   \n",
       "1249 2021-10-06       1.0           0.0         -0.003790         0.031735   \n",
       "\n",
       "      Snp_Change%_lag  ETH_Change%_lag  \n",
       "1245         0.001569         0.016331  \n",
       "1246        -0.011910         0.052060  \n",
       "1247         0.011494         0.101889  \n",
       "1248        -0.012988         0.021942  \n",
       "1249         0.010524         0.040954  "
      ]
     },
     "execution_count": 542,
     "metadata": {},
     "output_type": "execute_result"
    }
   ],
   "source": [
    "gold_3 = gold_2.merge(eth_data_clean, how='left', on='Date')\n",
    "gold_3 = gold_3.dropna()\n",
    "gold_3 = gold_3.reset_index(drop=True)\n",
    "\n",
    "gold_3 = gold_3[['Date', 'gold_dir', 'gold_dir_lag', 'Gold_Change%_lag', 'USB_Change%_lag',  'Snp_Change%_lag', 'ETH_Change%_lag']]\n",
    "gold_3.tail()"
   ]
  },
  {
   "cell_type": "code",
   "execution_count": 576,
   "id": "9ed9bb1f",
   "metadata": {},
   "outputs": [],
   "source": [
    "train = gold_3.iloc[:-100, :]\n",
    "test = gold_3.iloc[-100:, :]\n",
    "train.tail(), test.head()\n",
    "\n",
    "x_train = train[['gold_dir_lag', 'Gold_Change%_lag',  'USB_Change%_lag',  'Snp_Change%_lag', 'ETH_Change%_lag']]\n",
    "y_train = train['gold_dir']\n",
    "x_test = test[['gold_dir_lag', 'Gold_Change%_lag',  'USB_Change%_lag',  'Snp_Change%_lag', 'ETH_Change%_lag']]\n",
    "y_test = test['gold_dir']\n",
    "\n",
    "# x_train, y_train"
   ]
  },
  {
   "cell_type": "code",
   "execution_count": 577,
   "id": "ba6db8ec",
   "metadata": {},
   "outputs": [
    {
     "data": {
      "text/plain": [
       "LogisticRegression(max_iter=1000)"
      ]
     },
     "execution_count": 577,
     "metadata": {},
     "output_type": "execute_result"
    }
   ],
   "source": [
    "from sklearn.linear_model import LogisticRegression\n",
    "classifier = LogisticRegression(max_iter=1000)\n",
    "classifier"
   ]
  },
  {
   "cell_type": "code",
   "execution_count": 578,
   "id": "96b6ea3e",
   "metadata": {},
   "outputs": [
    {
     "data": {
      "text/plain": [
       "LogisticRegression(max_iter=1000)"
      ]
     },
     "execution_count": 578,
     "metadata": {},
     "output_type": "execute_result"
    }
   ],
   "source": [
    "classifier.fit(x_train, y_train)"
   ]
  },
  {
   "cell_type": "code",
   "execution_count": 579,
   "id": "1243a6e6",
   "metadata": {},
   "outputs": [
    {
     "name": "stdout",
     "output_type": "stream",
     "text": [
      "Training Data Score: 0.5539130434782609\n",
      "Testing Data Score: 0.56\n"
     ]
    }
   ],
   "source": [
    "print(f\"Training Data Score: {classifier.score(x_train, y_train)}\")\n",
    "print(f\"Testing Data Score: {classifier.score(x_test, y_test)}\")"
   ]
  },
  {
   "cell_type": "code",
   "execution_count": 580,
   "id": "06f411a9",
   "metadata": {},
   "outputs": [
    {
     "name": "stdout",
     "output_type": "stream",
     "text": [
      "First 10 Predictions: [1. 0. 1. 0. 1. 1. 1. 1. 1. 1.]\n",
      "First 10 Actual Data: [1.0, 1.0, 1.0, 1.0, 0.0, 1.0, 1.0, 1.0, 0.0, 1.0]\n"
     ]
    }
   ],
   "source": [
    "predictions = classifier.predict(x_test)\n",
    "print(f\"First 10 Predictions: {predictions[:10]}\")\n",
    "print(f\"First 10 Actual Data: {y_test[:10].tolist()}\")"
   ]
  },
  {
   "cell_type": "code",
   "execution_count": 581,
   "id": "de190c1e",
   "metadata": {},
   "outputs": [
    {
     "data": {
      "text/html": [
       "<div>\n",
       "<style scoped>\n",
       "    .dataframe tbody tr th:only-of-type {\n",
       "        vertical-align: middle;\n",
       "    }\n",
       "\n",
       "    .dataframe tbody tr th {\n",
       "        vertical-align: top;\n",
       "    }\n",
       "\n",
       "    .dataframe thead th {\n",
       "        text-align: right;\n",
       "    }\n",
       "</style>\n",
       "<table border=\"1\" class=\"dataframe\">\n",
       "  <thead>\n",
       "    <tr style=\"text-align: right;\">\n",
       "      <th></th>\n",
       "      <th>Prediction</th>\n",
       "      <th>Actual</th>\n",
       "    </tr>\n",
       "  </thead>\n",
       "  <tbody>\n",
       "    <tr>\n",
       "      <th>0</th>\n",
       "      <td>1.0</td>\n",
       "      <td>1.0</td>\n",
       "    </tr>\n",
       "    <tr>\n",
       "      <th>1</th>\n",
       "      <td>0.0</td>\n",
       "      <td>1.0</td>\n",
       "    </tr>\n",
       "    <tr>\n",
       "      <th>2</th>\n",
       "      <td>1.0</td>\n",
       "      <td>1.0</td>\n",
       "    </tr>\n",
       "    <tr>\n",
       "      <th>3</th>\n",
       "      <td>0.0</td>\n",
       "      <td>1.0</td>\n",
       "    </tr>\n",
       "    <tr>\n",
       "      <th>4</th>\n",
       "      <td>1.0</td>\n",
       "      <td>0.0</td>\n",
       "    </tr>\n",
       "    <tr>\n",
       "      <th>...</th>\n",
       "      <td>...</td>\n",
       "      <td>...</td>\n",
       "    </tr>\n",
       "    <tr>\n",
       "      <th>95</th>\n",
       "      <td>1.0</td>\n",
       "      <td>1.0</td>\n",
       "    </tr>\n",
       "    <tr>\n",
       "      <th>96</th>\n",
       "      <td>1.0</td>\n",
       "      <td>1.0</td>\n",
       "    </tr>\n",
       "    <tr>\n",
       "      <th>97</th>\n",
       "      <td>1.0</td>\n",
       "      <td>1.0</td>\n",
       "    </tr>\n",
       "    <tr>\n",
       "      <th>98</th>\n",
       "      <td>1.0</td>\n",
       "      <td>0.0</td>\n",
       "    </tr>\n",
       "    <tr>\n",
       "      <th>99</th>\n",
       "      <td>1.0</td>\n",
       "      <td>1.0</td>\n",
       "    </tr>\n",
       "  </tbody>\n",
       "</table>\n",
       "<p>100 rows × 2 columns</p>\n",
       "</div>"
      ],
      "text/plain": [
       "    Prediction  Actual\n",
       "0          1.0     1.0\n",
       "1          0.0     1.0\n",
       "2          1.0     1.0\n",
       "3          0.0     1.0\n",
       "4          1.0     0.0\n",
       "..         ...     ...\n",
       "95         1.0     1.0\n",
       "96         1.0     1.0\n",
       "97         1.0     1.0\n",
       "98         1.0     0.0\n",
       "99         1.0     1.0\n",
       "\n",
       "[100 rows x 2 columns]"
      ]
     },
     "execution_count": 581,
     "metadata": {},
     "output_type": "execute_result"
    }
   ],
   "source": [
    "pd.DataFrame({\"Prediction\": predictions, \"Actual\": y_test}).reset_index(drop=True)"
   ]
  },
  {
   "cell_type": "code",
   "execution_count": 589,
   "id": "3cb5ecf9",
   "metadata": {},
   "outputs": [],
   "source": [
    "features = x_train.columns.tolist()\n",
    "selector = RFECV(estimator=classifier, cv=5, step=1)\n",
    "_ = selector.fit(x_train, y_train)"
   ]
  },
  {
   "cell_type": "code",
   "execution_count": 590,
   "id": "480c1f5c",
   "metadata": {},
   "outputs": [
    {
     "data": {
      "text/html": [
       "<div>\n",
       "<style scoped>\n",
       "    .dataframe tbody tr th:only-of-type {\n",
       "        vertical-align: middle;\n",
       "    }\n",
       "\n",
       "    .dataframe tbody tr th {\n",
       "        vertical-align: top;\n",
       "    }\n",
       "\n",
       "    .dataframe thead th {\n",
       "        text-align: right;\n",
       "    }\n",
       "</style>\n",
       "<table border=\"1\" class=\"dataframe\">\n",
       "  <thead>\n",
       "    <tr style=\"text-align: right;\">\n",
       "      <th></th>\n",
       "      <th>Ranking</th>\n",
       "    </tr>\n",
       "    <tr>\n",
       "      <th>Feature</th>\n",
       "      <th></th>\n",
       "    </tr>\n",
       "  </thead>\n",
       "  <tbody>\n",
       "    <tr>\n",
       "      <th>ETH_Change%_lag</th>\n",
       "      <td>1</td>\n",
       "    </tr>\n",
       "    <tr>\n",
       "      <th>USB_Change%_lag</th>\n",
       "      <td>1</td>\n",
       "    </tr>\n",
       "    <tr>\n",
       "      <th>gold_dir_lag</th>\n",
       "      <td>2</td>\n",
       "    </tr>\n",
       "    <tr>\n",
       "      <th>Gold_Change%_lag</th>\n",
       "      <td>3</td>\n",
       "    </tr>\n",
       "    <tr>\n",
       "      <th>Snp_Change%_lag</th>\n",
       "      <td>4</td>\n",
       "    </tr>\n",
       "  </tbody>\n",
       "</table>\n",
       "</div>"
      ],
      "text/plain": [
       "                  Ranking\n",
       "Feature                  \n",
       "ETH_Change%_lag         1\n",
       "USB_Change%_lag         1\n",
       "gold_dir_lag            2\n",
       "Gold_Change%_lag        3\n",
       "Snp_Change%_lag         4"
      ]
     },
     "execution_count": 590,
     "metadata": {},
     "output_type": "execute_result"
    }
   ],
   "source": [
    "selected_features = sorted(zip(selector.ranking_, features))\n",
    "features_rank = pd.DataFrame(selected_features, columns=['Ranking', 'Feature'])\n",
    "features_rank = features_rank.set_index('Feature')\n",
    "features_rank"
   ]
  },
  {
   "cell_type": "code",
   "execution_count": 591,
   "id": "4182016f",
   "metadata": {},
   "outputs": [],
   "source": [
    "ranked_features = []\n",
    "for s in selected_features:\n",
    "    if s[0] < 3:\n",
    "        ranked_features.append(s[1])"
   ]
  },
  {
   "cell_type": "code",
   "execution_count": 592,
   "id": "b3836f8d",
   "metadata": {},
   "outputs": [
    {
     "data": {
      "text/plain": [
       "3"
      ]
     },
     "execution_count": 592,
     "metadata": {},
     "output_type": "execute_result"
    }
   ],
   "source": [
    "len(ranked_features)"
   ]
  },
  {
   "cell_type": "code",
   "execution_count": 593,
   "id": "96a32f08",
   "metadata": {},
   "outputs": [],
   "source": [
    "x_train_select = x_train[ranked_features]\n",
    "x_test_select = x_test[ranked_features]"
   ]
  },
  {
   "cell_type": "code",
   "execution_count": 595,
   "id": "a0680cb5",
   "metadata": {},
   "outputs": [
    {
     "name": "stdout",
     "output_type": "stream",
     "text": [
      "Training Data Score: 0.5547826086956522\n",
      "Testing Data Score: 0.56\n"
     ]
    }
   ],
   "source": [
    "classifier_1 = LogisticRegression(solver='newton-cg', multi_class='auto')\n",
    "classifier_1.fit(x_train_select, y_train)\n",
    "\n",
    "print(f\"Training Data Score: {classifier_1.score(x_train_select, y_train)}\")\n",
    "print(f\"Testing Data Score: {classifier_1.score(x_test_select, y_test)}\")"
   ]
  },
  {
   "cell_type": "markdown",
   "id": "c7d3b1a5",
   "metadata": {},
   "source": [
    "# Hyperparameter Tuning"
   ]
  },
  {
   "cell_type": "code",
   "execution_count": 596,
   "id": "ef6020b3",
   "metadata": {},
   "outputs": [],
   "source": [
    "classifier_2 = LogisticRegression(multi_class='auto')\n",
    "\n",
    "param_grid = {'penalty': [\"l1\", \"l2\", 'elasticnet'],\n",
    "              'solver': ['newton-cg','lbfgs','saga'],\n",
    "             'C': [1,3,5]}\n",
    "grid = GridSearchCV(classifier_2, param_grid, n_jobs=-2)"
   ]
  },
  {
   "cell_type": "code",
   "execution_count": 598,
   "id": "c25a9a16",
   "metadata": {},
   "outputs": [
    {
     "name": "stderr",
     "output_type": "stream",
     "text": [
      "/Users/jsb/opt/anaconda3/envs/PythonAdv/lib/python3.6/site-packages/sklearn/model_selection/_search.py:925: UserWarning: One or more of the test scores are non-finite: [       nan        nan 0.54782609 0.54608696 0.54608696 0.54608696\n",
      "        nan        nan        nan        nan        nan 0.54086957\n",
      " 0.54608696 0.54695652 0.54608696        nan        nan        nan\n",
      "        nan        nan 0.54521739 0.54956522 0.54956522 0.54956522\n",
      "        nan        nan        nan]\n",
      "  category=UserWarning\n"
     ]
    }
   ],
   "source": [
    "_ = grid.fit(x_train_select, y_train)"
   ]
  },
  {
   "cell_type": "code",
   "execution_count": 600,
   "id": "d4e6e50c",
   "metadata": {},
   "outputs": [
    {
     "name": "stdout",
     "output_type": "stream",
     "text": [
      "Training Data Score: 55.304 %\n",
      "Testting Data Score: 54.0 %\n"
     ]
    }
   ],
   "source": [
    "penalty = grid.best_params_['penalty']\n",
    "solver = grid.best_params_['solver']\n",
    "C = grid.best_params_['C']\n",
    "\n",
    "#tuned Model\n",
    "\n",
    "model_tuned = LogisticRegression(multi_class='auto', penalty=penalty, solver=solver, C=C)\n",
    "model_tuned.fit(x_train_select, y_train)\n",
    "\n",
    "classifier_2_training_score = round(model_tuned.score(x_train_select, y_train)*100,3)\n",
    "classifier_2_test_score = round(model_tuned.score(x_test_select, y_test)*100,3)\n",
    "\n",
    "print(f\"Training Data Score: {classifier_2_training_score} %\")\n",
    "print(f\"Testting Data Score: {classifier_2_test_score} %\")"
   ]
  },
  {
   "cell_type": "markdown",
   "id": "6c5e27ae",
   "metadata": {},
   "source": [
    "# Randon Forest"
   ]
  },
  {
   "cell_type": "code",
   "execution_count": 653,
   "id": "cf8808c2",
   "metadata": {},
   "outputs": [
    {
     "data": {
      "text/plain": [
       "0.58"
      ]
     },
     "execution_count": 653,
     "metadata": {},
     "output_type": "execute_result"
    }
   ],
   "source": [
    "from sklearn.ensemble import RandomForestClassifier\n",
    "rf = RandomForestClassifier(n_estimators=1000, random_state=42)\n",
    "rf = rf.fit(x_train_select, y_train)\n",
    "rf.score(x_test_select, y_test)"
   ]
  },
  {
   "cell_type": "code",
   "execution_count": 654,
   "id": "798fa693",
   "metadata": {},
   "outputs": [
    {
     "data": {
      "text/plain": [
       "[(0.4996445626308106, 'ETH_Change%_lag'),\n",
       " (0.489492196917064, 'USB_Change%_lag'),\n",
       " (0.010863240452125465, 'gold_dir_lag')]"
      ]
     },
     "execution_count": 654,
     "metadata": {},
     "output_type": "execute_result"
    }
   ],
   "source": [
    "sorted(zip(rf.feature_importances_, ranked_features), reverse=True)"
   ]
  },
  {
   "cell_type": "code",
   "execution_count": 655,
   "id": "e39aeb2e",
   "metadata": {},
   "outputs": [
    {
     "name": "stdout",
     "output_type": "stream",
     "text": [
      "n\tscore\n",
      "--------------------\n",
      "5 \t 0.49\n",
      "10 \t 0.51\n",
      "50 \t 0.53\n",
      "100 \t 0.56\n",
      "200 \t 0.55\n",
      "400 \t 0.57\n",
      "500 \t 0.57\n",
      "700 \t 0.57\n",
      "1000 \t 0.58\n"
     ]
    }
   ],
   "source": [
    "print(\"n\\tscore\")\n",
    "print(\"-\"*20)\n",
    "for n in [5,10,50,100,200,400,500,700,1000]:\n",
    "    rf = RandomForestClassifier(n_estimators=n, random_state=42)\n",
    "    rf = rf.fit(x_train_select, y_train)\n",
    "    print(n,\"\\t\",rf.score(x_test_select, y_test))"
   ]
  },
  {
   "cell_type": "code",
   "execution_count": null,
   "id": "846b8cc4",
   "metadata": {},
   "outputs": [],
   "source": []
  },
  {
   "cell_type": "code",
   "execution_count": null,
   "id": "3240ae3c",
   "metadata": {},
   "outputs": [],
   "source": []
  },
  {
   "cell_type": "code",
   "execution_count": null,
   "id": "7c7fa3a3",
   "metadata": {},
   "outputs": [],
   "source": []
  },
  {
   "cell_type": "code",
   "execution_count": null,
   "id": "a1a12ff6",
   "metadata": {},
   "outputs": [],
   "source": []
  },
  {
   "cell_type": "code",
   "execution_count": null,
   "id": "7e4f0d12",
   "metadata": {},
   "outputs": [],
   "source": []
  },
  {
   "cell_type": "code",
   "execution_count": null,
   "id": "ea8e48c7",
   "metadata": {},
   "outputs": [],
   "source": []
  },
  {
   "cell_type": "code",
   "execution_count": 474,
   "id": "750ba5c4",
   "metadata": {
    "scrolled": true
   },
   "outputs": [
    {
     "data": {
      "text/plain": [
       "Date                datetime64[ns]\n",
       "gold_dir                   float64\n",
       "gold_dir_lag               float64\n",
       "Gold_Change%_lag           float64\n",
       "USB_Change%                float64\n",
       "Snp_Change%                float64\n",
       "ETH_Change%                float64\n",
       "dtype: object"
      ]
     },
     "execution_count": 474,
     "metadata": {},
     "output_type": "execute_result"
    }
   ],
   "source": [
    "gold_3.dtypes"
   ]
  },
  {
   "cell_type": "code",
   "execution_count": null,
   "id": "4153a8ac",
   "metadata": {},
   "outputs": [],
   "source": []
  },
  {
   "cell_type": "code",
   "execution_count": null,
   "id": "cabe1bb0",
   "metadata": {},
   "outputs": [],
   "source": []
  }
 ],
 "metadata": {
  "kernelspec": {
   "display_name": "Python [conda env:PythonAdv] *",
   "language": "python",
   "name": "conda-env-PythonAdv-py"
  },
  "language_info": {
   "codemirror_mode": {
    "name": "ipython",
    "version": 3
   },
   "file_extension": ".py",
   "mimetype": "text/x-python",
   "name": "python",
   "nbconvert_exporter": "python",
   "pygments_lexer": "ipython3",
   "version": "3.6.13"
  }
 },
 "nbformat": 4,
 "nbformat_minor": 5
}
